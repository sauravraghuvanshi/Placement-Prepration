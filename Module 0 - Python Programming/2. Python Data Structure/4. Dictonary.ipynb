{
 "cells": [
  {
   "cell_type": "markdown",
   "source": [
    "# Dictionary"
   ],
   "metadata": {}
  },
  {
   "cell_type": "markdown",
   "source": [
    "Python dictionary is an unordered collection of items. While other compound data types have only value as an element, a dictionary has a key: value pair."
   ],
   "metadata": {}
  },
  {
   "cell_type": "markdown",
   "source": [
    "# Dict Creation"
   ],
   "metadata": {}
  },
  {
   "cell_type": "code",
   "execution_count": 4,
   "source": [
    "#empty dictionary\r\n",
    "my_dict = {}\r\n",
    "\r\n",
    "#dictionary with integer keys\r\n",
    "my_dict = {1: 'abc', 2: 'xyz'}\r\n",
    "print(my_dict)\r\n",
    "\r\n",
    "#dictionary with mixed keys\r\n",
    "my_dict = {'name': 'satish', 1: ['abc', 'xyz']}\r\n",
    "print(my_dict)\r\n",
    "\r\n",
    "\r\n",
    "#create empty dictionary using dict()\r\n",
    "my_dict = dict()\r\n",
    "\r\n",
    "my_dict = dict([(1, 'abc'), (2, 'xyz')])    #create a dict with list of tuples\r\n",
    "print(my_dict)"
   ],
   "outputs": [
    {
     "output_type": "stream",
     "name": "stdout",
     "text": [
      "{1: 'abc', 2: 'xyz'}\n",
      "{'name': 'satish', 1: ['abc', 'xyz']}\n",
      "{1: 'abc', 2: 'xyz'}\n"
     ]
    }
   ],
   "metadata": {}
  },
  {
   "cell_type": "markdown",
   "source": [
    "# Dict Access"
   ],
   "metadata": {}
  },
  {
   "cell_type": "code",
   "execution_count": 5,
   "source": [
    "my_dict = {'name': 'satish', 'age': 27, 'address': 'guntur'}\r\n",
    "\r\n",
    "#get name\r\n",
    "print(my_dict['name'])"
   ],
   "outputs": [
    {
     "output_type": "stream",
     "name": "stdout",
     "text": [
      "satish\n"
     ]
    }
   ],
   "metadata": {}
  },
  {
   "cell_type": "code",
   "execution_count": 6,
   "source": [
    "#if key is not present it gives KeyError\r\n",
    "print(my_dict['degree'])"
   ],
   "outputs": [
    {
     "output_type": "error",
     "ename": "KeyError",
     "evalue": "'degree'",
     "traceback": [
      "\u001b[1;31m---------------------------------------------------------------------------\u001b[0m",
      "\u001b[1;31mKeyError\u001b[0m                                  Traceback (most recent call last)",
      "\u001b[1;32m<ipython-input-6-ac4c061783ba>\u001b[0m in \u001b[0;36m<module>\u001b[1;34m\u001b[0m\n\u001b[0;32m      1\u001b[0m \u001b[1;31m#if key is not present it gives KeyError\u001b[0m\u001b[1;33m\u001b[0m\u001b[1;33m\u001b[0m\u001b[1;33m\u001b[0m\u001b[0m\n\u001b[1;32m----> 2\u001b[1;33m \u001b[0mprint\u001b[0m\u001b[1;33m(\u001b[0m\u001b[0mmy_dict\u001b[0m\u001b[1;33m[\u001b[0m\u001b[1;34m'degree'\u001b[0m\u001b[1;33m]\u001b[0m\u001b[1;33m)\u001b[0m\u001b[1;33m\u001b[0m\u001b[1;33m\u001b[0m\u001b[0m\n\u001b[0m",
      "\u001b[1;31mKeyError\u001b[0m: 'degree'"
     ]
    }
   ],
   "metadata": {}
  },
  {
   "cell_type": "code",
   "execution_count": 7,
   "source": [
    "#another way of accessing key\r\n",
    "print(my_dict.get('address'))"
   ],
   "outputs": [
    {
     "output_type": "stream",
     "name": "stdout",
     "text": [
      "guntur\n"
     ]
    }
   ],
   "metadata": {}
  },
  {
   "cell_type": "code",
   "execution_count": 8,
   "source": [
    "#if key is not present it will give None using get method\r\n",
    "print(my_dict.get('degree'))"
   ],
   "outputs": [
    {
     "output_type": "stream",
     "name": "stdout",
     "text": [
      "None\n"
     ]
    }
   ],
   "metadata": {}
  },
  {
   "cell_type": "markdown",
   "source": [
    "# Dict Add or Modify  Elements"
   ],
   "metadata": {}
  },
  {
   "cell_type": "code",
   "execution_count": null,
   "source": [
    "my_dict = {'name': 'satish', 'age': 27, 'address': 'guntur'}\r\n",
    "\r\n",
    "#update name \r\n",
    "my_dict['name'] = 'raju'\r\n",
    "\r\n",
    "print(my_dict)"
   ],
   "outputs": [
    {
     "output_type": "stream",
     "name": "stdout",
     "text": [
      "{'name': 'raju', 'age': 27, 'address': 'guntur'}\n"
     ]
    }
   ],
   "metadata": {}
  },
  {
   "cell_type": "code",
   "execution_count": null,
   "source": [
    "#add new key\r\n",
    "my_dict['degree'] = 'M.Tech'\r\n",
    "\r\n",
    "print(my_dict)"
   ],
   "outputs": [
    {
     "output_type": "stream",
     "name": "stdout",
     "text": [
      "{'name': 'raju', 'age': 27, 'address': 'guntur', 'degree': 'M.Tech'}\n"
     ]
    }
   ],
   "metadata": {}
  },
  {
   "cell_type": "markdown",
   "source": [
    "# Dict Delete or Remove Element"
   ],
   "metadata": {}
  },
  {
   "cell_type": "code",
   "execution_count": null,
   "source": [
    "#create a dictionary\r\n",
    "my_dict = {'name': 'satish', 'age': 27, 'address': 'guntur'}\r\n",
    "\r\n",
    "#remove a particular item\r\n",
    "print(my_dict.pop('age'))\r\n",
    "\r\n",
    "print(my_dict)"
   ],
   "outputs": [
    {
     "output_type": "stream",
     "name": "stdout",
     "text": [
      "27\n",
      "{'name': 'satish', 'address': 'guntur'}\n"
     ]
    }
   ],
   "metadata": {}
  },
  {
   "cell_type": "code",
   "execution_count": null,
   "source": [
    "my_dict = {'name': 'satish', 'age': 27, 'address': 'guntur'}\r\n",
    "\r\n",
    "#remove an arbitary key\r\n",
    "my_dict.popitem()\r\n",
    "\r\n",
    "print(my_dict)"
   ],
   "outputs": [
    {
     "output_type": "stream",
     "name": "stdout",
     "text": [
      "{'name': 'satish', 'age': 27}\n"
     ]
    }
   ],
   "metadata": {}
  },
  {
   "cell_type": "code",
   "execution_count": null,
   "source": [
    "squares = {2: 4, 3: 9, 4: 16, 5: 25}\r\n",
    "\r\n",
    "#delete particular key\r\n",
    "del squares[2]\r\n",
    "\r\n",
    "print(squares)"
   ],
   "outputs": [
    {
     "output_type": "stream",
     "name": "stdout",
     "text": [
      "{3: 9, 4: 16, 5: 25}\n"
     ]
    }
   ],
   "metadata": {}
  },
  {
   "cell_type": "code",
   "execution_count": null,
   "source": [
    "#remove all items\r\n",
    "squares.clear()\r\n",
    "\r\n",
    "print(squares)"
   ],
   "outputs": [
    {
     "output_type": "stream",
     "name": "stdout",
     "text": [
      "{}\n"
     ]
    }
   ],
   "metadata": {}
  },
  {
   "cell_type": "code",
   "execution_count": null,
   "source": [
    "squares = {2: 4, 3: 9, 4: 16, 5: 25}\r\n",
    "\r\n",
    "#delete dictionary itself\r\n",
    "del squares\r\n",
    "\r\n",
    "print(squares) #NameError because dict is deleted"
   ],
   "outputs": [
    {
     "output_type": "error",
     "ename": "NameError",
     "evalue": "name 'squares' is not defined",
     "traceback": [
      "\u001b[0;31m---------------------------------------------------------------------------\u001b[0m",
      "\u001b[0;31mNameError\u001b[0m                                 Traceback (most recent call last)",
      "\u001b[0;32m<ipython-input-16-355e8277492b>\u001b[0m in \u001b[0;36m<module>\u001b[0;34m()\u001b[0m\n\u001b[1;32m      4\u001b[0m \u001b[0;32mdel\u001b[0m \u001b[0msquares\u001b[0m\u001b[0;34m\u001b[0m\u001b[0m\n\u001b[1;32m      5\u001b[0m \u001b[0;34m\u001b[0m\u001b[0m\n\u001b[0;32m----> 6\u001b[0;31m \u001b[0mprint\u001b[0m\u001b[0;34m(\u001b[0m\u001b[0msquares\u001b[0m\u001b[0;34m)\u001b[0m \u001b[0;31m#NameError because dict is deleted\u001b[0m\u001b[0;34m\u001b[0m\u001b[0m\n\u001b[0m",
      "\u001b[0;31mNameError\u001b[0m: name 'squares' is not defined"
     ]
    }
   ],
   "metadata": {}
  },
  {
   "cell_type": "markdown",
   "source": [
    "# Dictionary Methods"
   ],
   "metadata": {}
  },
  {
   "cell_type": "code",
   "execution_count": null,
   "source": [
    "squares = {2: 4, 3: 9, 4: 16, 5: 25}\r\n",
    "\r\n",
    "my_dict = squares.copy()\r\n",
    "print(my_dict)"
   ],
   "outputs": [
    {
     "output_type": "stream",
     "name": "stdout",
     "text": [
      "{2: 4, 3: 9, 4: 16, 5: 25}\n"
     ]
    }
   ],
   "metadata": {}
  },
  {
   "cell_type": "code",
   "execution_count": null,
   "source": [
    "#fromkeys[seq[, v]] -> Return a new dictionary with keys from seq and value equal to v (defaults to None).\r\n",
    "subjects = {}.fromkeys(['Math', 'English', 'Hindi'], 0)\r\n",
    "print(subjects)"
   ],
   "outputs": [
    {
     "output_type": "stream",
     "name": "stdout",
     "text": [
      "{'Math': 0, 'English': 0, 'Hindi': 0}\n"
     ]
    }
   ],
   "metadata": {}
  },
  {
   "cell_type": "code",
   "execution_count": null,
   "source": [
    "subjects = {2:4, 3:9, 4:16, 5:25}\r\n",
    "print(subjects.items()) #return a new view of the dictionary items (key, value)"
   ],
   "outputs": [
    {
     "output_type": "stream",
     "name": "stdout",
     "text": [
      "dict_items([(2, 4), (3, 9), (4, 16), (5, 25)])\n"
     ]
    }
   ],
   "metadata": {}
  },
  {
   "cell_type": "code",
   "execution_count": null,
   "source": [
    "subjects = {2:4, 3:9, 4:16, 5:25}\r\n",
    "print(subjects.keys()) #return a new view of the dictionary keys"
   ],
   "outputs": [
    {
     "output_type": "stream",
     "name": "stdout",
     "text": [
      "dict_keys([2, 3, 4, 5])\n"
     ]
    }
   ],
   "metadata": {}
  },
  {
   "cell_type": "code",
   "execution_count": null,
   "source": [
    "subjects = {2:4, 3:9, 4:16, 5:25}\r\n",
    "print(subjects.values()) #return a new view of the dictionary values"
   ],
   "outputs": [
    {
     "output_type": "stream",
     "name": "stdout",
     "text": [
      "dict_values([4, 9, 16, 25])\n"
     ]
    }
   ],
   "metadata": {}
  },
  {
   "cell_type": "code",
   "execution_count": null,
   "source": [
    "#get list of all available methods and attributes of dictionary\r\n",
    "d = {}\r\n",
    "print(dir(d))"
   ],
   "outputs": [
    {
     "output_type": "stream",
     "name": "stdout",
     "text": [
      "['__class__', '__contains__', '__delattr__', '__delitem__', '__dir__', '__doc__', '__eq__', '__format__', '__ge__', '__getattribute__', '__getitem__', '__gt__', '__hash__', '__init__', '__init_subclass__', '__iter__', '__le__', '__len__', '__lt__', '__ne__', '__new__', '__reduce__', '__reduce_ex__', '__repr__', '__setattr__', '__setitem__', '__sizeof__', '__str__', '__subclasshook__', 'clear', 'copy', 'fromkeys', 'get', 'items', 'keys', 'pop', 'popitem', 'setdefault', 'update', 'values']\n"
     ]
    }
   ],
   "metadata": {}
  },
  {
   "cell_type": "markdown",
   "source": [
    "# Dict Comprehension"
   ],
   "metadata": {}
  },
  {
   "cell_type": "code",
   "execution_count": null,
   "source": [
    "#Dict comprehensions are just like list comprehensions but for dictionaries\r\n",
    "\r\n",
    "d = {'a': 1, 'b': 2, 'c': 3}\r\n",
    "for pair in d.items():\r\n",
    "    print(pair)"
   ],
   "outputs": [
    {
     "output_type": "stream",
     "name": "stdout",
     "text": [
      "('a', 1)\n",
      "('b', 2)\n",
      "('c', 3)\n"
     ]
    }
   ],
   "metadata": {}
  },
  {
   "cell_type": "code",
   "execution_count": null,
   "source": [
    "#Creating a new dictionary with only pairs where the value is larger than 2\r\n",
    "d = {'a': 1, 'b': 2, 'c': 3, 'd': 4}\r\n",
    "new_dict = {k:v for k, v in d.items() if v > 2}\r\n",
    "print(new_dict)"
   ],
   "outputs": [
    {
     "output_type": "stream",
     "name": "stdout",
     "text": [
      "{'c': 3, 'd': 4}\n"
     ]
    }
   ],
   "metadata": {}
  },
  {
   "cell_type": "code",
   "execution_count": null,
   "source": [
    "#We can also perform operations on the key value pairs\r\n",
    "d = {'a':1,'b':2,'c':3,'d':4,'e':5}\r\n",
    "d = {k + 'c':v * 2 for k, v in d.items() if v > 2}\r\n",
    "print(d)"
   ],
   "outputs": [
    {
     "output_type": "stream",
     "name": "stdout",
     "text": [
      "{'cc': 6, 'dc': 8, 'ec': 10}\n"
     ]
    }
   ],
   "metadata": {}
  },
  {
   "cell_type": "code",
   "execution_count": null,
   "source": [],
   "outputs": [],
   "metadata": {
    "collapsed": true
   }
  }
 ],
 "metadata": {
  "kernelspec": {
   "name": "python3",
   "display_name": "Python 3.7.4 64-bit ('base': conda)"
  },
  "language_info": {
   "codemirror_mode": {
    "name": "ipython",
    "version": 3
   },
   "file_extension": ".py",
   "mimetype": "text/x-python",
   "name": "python",
   "nbconvert_exporter": "python",
   "pygments_lexer": "ipython3",
   "version": "3.7.4"
  },
  "interpreter": {
   "hash": "6aa4e563fcc316e4a45c191851d226024341c22e5279c609c01fb0b2d94cafc4"
  }
 },
 "nbformat": 4,
 "nbformat_minor": 2
}