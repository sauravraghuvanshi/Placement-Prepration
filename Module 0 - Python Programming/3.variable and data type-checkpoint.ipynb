{
 "cells": [
  {
   "cell_type": "markdown",
   "source": [
    "# Variables"
   ],
   "metadata": {
    "colab_type": "text",
    "id": "hKd6pbVWjAhO"
   }
  },
  {
   "cell_type": "markdown",
   "source": [
    "A variable is a location in memory used to store some data (value).\n",
    "\n",
    "They are given unique names to differentiate between different memory locations. The rules for writing a variable name is same as the rules for writing identifiers in Python.\n",
    "\n",
    "We don't need to declare a variable before using it. In Python, we simply assign a value to a variable and it will exist. We don't even have to declare the type of the variable. This is handled internally according to the type of value we assign to the variable."
   ],
   "metadata": {
    "colab_type": "text",
    "id": "Xci3KHBejAhQ"
   }
  },
  {
   "cell_type": "markdown",
   "source": [
    "# Variable Assignments"
   ],
   "metadata": {
    "colab_type": "text",
    "id": "X0eXBbyQjAhS"
   }
  },
  {
   "cell_type": "code",
   "execution_count": 12,
   "source": [
    "#We use the assignment operator (=) to assign values to a variable\r\n",
    "\r\n",
    "a = 10\r\n",
    "b = 5.5\r\n",
    "c = \"ML\""
   ],
   "outputs": [],
   "metadata": {
    "colab": {},
    "colab_type": "code",
    "id": "EmLqQ8LdjAhT"
   }
  },
  {
   "cell_type": "markdown",
   "source": [
    "# Multiple Assignments"
   ],
   "metadata": {
    "colab_type": "text",
    "id": "OmSXAyFWjAhZ"
   }
  },
  {
   "cell_type": "code",
   "execution_count": 13,
   "source": [
    "a, b, c = 10, 5.5, \"ML\""
   ],
   "outputs": [],
   "metadata": {
    "colab": {},
    "colab_type": "code",
    "id": "TSdYQvngjAha"
   }
  },
  {
   "cell_type": "code",
   "execution_count": 14,
   "source": [
    "a = b = c = \"AI\" #assign the same value to multiple variables at once"
   ],
   "outputs": [],
   "metadata": {
    "colab": {},
    "colab_type": "code",
    "id": "k4uwhrsojAhe"
   }
  },
  {
   "cell_type": "markdown",
   "source": [
    "# Storage Locations"
   ],
   "metadata": {
    "colab_type": "text",
    "id": "LoRDnRcAjAhh"
   }
  },
  {
   "cell_type": "code",
   "execution_count": 15,
   "source": [
    "x = 3\r\n",
    "\r\n",
    "print(id(x))               #print address of variable x"
   ],
   "outputs": [
    {
     "output_type": "stream",
     "name": "stdout",
     "text": [
      "1535947040\n"
     ]
    }
   ],
   "metadata": {
    "colab": {},
    "colab_type": "code",
    "id": "N18ORoyqjAhi",
    "outputId": "17987dd0-afd0-45a8-ff83-87abe9804212"
   }
  },
  {
   "cell_type": "code",
   "execution_count": 16,
   "source": [
    "y = 3\r\n",
    "\r\n",
    "print(id(y))               #print address of variable y"
   ],
   "outputs": [
    {
     "output_type": "stream",
     "name": "stdout",
     "text": [
      "1535947040\n"
     ]
    }
   ],
   "metadata": {
    "colab": {},
    "colab_type": "code",
    "id": "DzXApOnYjAhq",
    "outputId": "77837d2f-6974-4f83-a731-78cc0dfe2ad0"
   }
  },
  {
   "cell_type": "markdown",
   "source": [
    "Observation:\n",
    "\n",
    "x and y points to same memory location\n",
    "    "
   ],
   "metadata": {
    "colab_type": "text",
    "id": "OJ2zfFRCjAhu"
   }
  },
  {
   "cell_type": "code",
   "execution_count": 17,
   "source": [
    "y = 2\r\n",
    "print(id(y))               #print address of variable y"
   ],
   "outputs": [
    {
     "output_type": "stream",
     "name": "stdout",
     "text": [
      "1535947008\n"
     ]
    }
   ],
   "metadata": {
    "colab": {},
    "colab_type": "code",
    "id": "TmRjWWdkjAhv",
    "outputId": "aab2f5fa-a86c-4b57-b919-9d75772cab69"
   }
  },
  {
   "cell_type": "markdown",
   "source": [
    "# Data Types "
   ],
   "metadata": {
    "colab_type": "text",
    "id": "8HgZqTvSjAh0"
   }
  },
  {
   "cell_type": "markdown",
   "source": [
    "Every value in Python has a datatype. Since everything is an object in Python programming, data types are actually classes and variables are instance (object) of these classes."
   ],
   "metadata": {
    "colab_type": "text",
    "id": "ts-W3G1DjAh3"
   }
  },
  {
   "cell_type": "markdown",
   "source": [
    "# Numbers"
   ],
   "metadata": {
    "colab_type": "text",
    "id": "lUrSkm7UjAh4"
   }
  },
  {
   "cell_type": "markdown",
   "source": [
    "Integers, floating point numbers and complex numbers falls under Python numbers category. They are defined as int, float and complex class in Python.\n",
    "\n",
    "We can use the type() function to know which class a variable or a value belongs to and the isinstance() function to check if an object belongs to a particular class."
   ],
   "metadata": {
    "colab_type": "text",
    "id": "H4_fLR0BjAiP"
   }
  },
  {
   "cell_type": "code",
   "execution_count": 18,
   "source": [
    "a = 5                               #data type is implicitly set to integer\r\n",
    "print(a, \" is of type\", type(a))"
   ],
   "outputs": [
    {
     "output_type": "stream",
     "name": "stdout",
     "text": [
      "5  is of type <class 'int'>\n"
     ]
    }
   ],
   "metadata": {
    "colab": {},
    "colab_type": "code",
    "id": "WwLgel3TjAiR",
    "outputId": "000fb2cf-0aab-4a01-ad9e-ace2c289ccf1"
   }
  },
  {
   "cell_type": "code",
   "execution_count": 19,
   "source": [
    "a = 2.5                            #data type is changed to float\r\n",
    "print(a, \" is of type\", type(a))"
   ],
   "outputs": [
    {
     "output_type": "stream",
     "name": "stdout",
     "text": [
      "2.5  is of type <class 'float'>\n"
     ]
    }
   ],
   "metadata": {
    "colab": {},
    "colab_type": "code",
    "id": "VFmFyuKljAiY",
    "outputId": "caa72b7d-3648-4b98-a66d-c80354e6d823"
   }
  },
  {
   "cell_type": "code",
   "execution_count": 20,
   "source": [
    "a = 1 + 2j                          #data type is changed to complex number\r\n",
    "print(a, \" is complex number?\") \r\n",
    "print(isinstance(1+2j, complex))"
   ],
   "outputs": [
    {
     "output_type": "stream",
     "name": "stdout",
     "text": [
      "(1+2j)  is complex number?\n",
      "True\n"
     ]
    }
   ],
   "metadata": {
    "colab": {},
    "colab_type": "code",
    "id": "ylZA0ZPzjAig",
    "outputId": "437304cd-32db-4132-cb0d-c709ec22c1ea"
   }
  },
  {
   "cell_type": "markdown",
   "source": [
    "# Boolean"
   ],
   "metadata": {
    "colab_type": "text",
    "id": "OzdVm2D-jAim"
   }
  },
  {
   "cell_type": "markdown",
   "source": [
    " Boolean represents the truth values False and True"
   ],
   "metadata": {
    "colab_type": "text",
    "id": "JDaSahNgjAio"
   }
  },
  {
   "cell_type": "code",
   "execution_count": 21,
   "source": [
    "a = True                          #a is a boolean type\r\n",
    "print(type(a))"
   ],
   "outputs": [
    {
     "output_type": "stream",
     "name": "stdout",
     "text": [
      "<class 'bool'>\n"
     ]
    }
   ],
   "metadata": {
    "colab": {},
    "colab_type": "code",
    "id": "QcWk4rwnjAip",
    "outputId": "4cf05833-5569-437d-a38b-07402bba8bac"
   }
  },
  {
   "cell_type": "markdown",
   "source": [
    "# Python Strings"
   ],
   "metadata": {
    "colab_type": "text",
    "id": "FlyZKNjVjAiz"
   }
  },
  {
   "cell_type": "markdown",
   "source": [
    "String is sequence of Unicode characters. \n",
    "\n",
    "We can use single quotes or double quotes to represent strings. \n",
    "\n",
    "Multi-line strings can be denoted using triple quotes, ''' or \"\"\"."
   ],
   "metadata": {
    "colab_type": "text",
    "id": "by_In521jAjD"
   }
  },
  {
   "cell_type": "markdown",
   "source": [
    "A string in Python consists of a series or sequence of characters - letters, numbers, and special characters. \n",
    "\n",
    "Strings can be indexed - often synonymously called subscripted as well. \n",
    "\n",
    "Similar to C, the first character of a string has the index 0."
   ],
   "metadata": {
    "colab_type": "text",
    "id": "A8ER_dyljAjE"
   }
  },
  {
   "cell_type": "code",
   "execution_count": 54,
   "source": [
    "s = \"This is Online AI course\"\r\n",
    "print(s)"
   ],
   "outputs": [
    {
     "output_type": "stream",
     "name": "stdout",
     "text": [
      "This is Online AI course\n"
     ]
    }
   ],
   "metadata": {
    "colab": {},
    "colab_type": "code",
    "id": "1gMkenFmjAjF",
    "outputId": "cfd3aa0e-c09c-415f-d3ec-cdca87c1fc31"
   }
  },
  {
   "cell_type": "code",
   "execution_count": 62,
   "source": [
    "print(s[0])\r\n",
    "#last char s[len(s)-1] or s[-1]"
   ],
   "outputs": [
    {
     "output_type": "stream",
     "name": "stdout",
     "text": [
      "T\n"
     ]
    }
   ],
   "metadata": {
    "colab": {},
    "colab_type": "code",
    "id": "Pcf-sZ_UjAjM",
    "outputId": "5c444031-790f-4888-851d-fddd01655983"
   }
  },
  {
   "cell_type": "code",
   "execution_count": 63,
   "source": [
    "#slicing\r\n",
    "s[5:]"
   ],
   "outputs": [
    {
     "output_type": "execute_result",
     "data": {
      "text/plain": [
       "'is Online AI course'"
      ]
     },
     "metadata": {},
     "execution_count": 63
    }
   ],
   "metadata": {
    "colab": {},
    "colab_type": "code",
    "id": "ajug377XjAjR",
    "outputId": "c2998090-bc7f-4ffc-ad99-782dbadd0932"
   }
  },
  {
   "cell_type": "markdown",
   "source": [
    "# Python List"
   ],
   "metadata": {
    "colab_type": "text",
    "id": "q8EfPYofjAjX"
   }
  },
  {
   "cell_type": "markdown",
   "source": [
    "List is an ordered sequence of items. It is one of the most used datatype in Python and is very flexible. All the items in a list do not need to be of the same type.\n",
    "\n",
    "Declaring a list is , Items separated by commas are enclosed within brackets [ ]."
   ],
   "metadata": {
    "colab_type": "text",
    "id": "HmvLG9uqjAjY"
   }
  },
  {
   "cell_type": "code",
   "execution_count": 64,
   "source": [
    "a = [10, 20.5, \"Hello\"]\r\n",
    "print(a[1])               #print 1st index element"
   ],
   "outputs": [
    {
     "output_type": "stream",
     "name": "stdout",
     "text": [
      "20.5\n"
     ]
    }
   ],
   "metadata": {
    "colab": {},
    "colab_type": "code",
    "id": "-5ZyYAWPjAjZ",
    "outputId": "b4f8f8a1-1899-4739-e6f6-2bf52bd07080"
   }
  },
  {
   "cell_type": "markdown",
   "source": [
    "Lists are mutable, meaning, value of elements of a list can be altered."
   ],
   "metadata": {
    "colab_type": "text",
    "id": "RxDNwaW9jAjd"
   }
  },
  {
   "cell_type": "code",
   "execution_count": 65,
   "source": [
    "a[1] = 30.7\r\n",
    "print(a)"
   ],
   "outputs": [
    {
     "output_type": "stream",
     "name": "stdout",
     "text": [
      "[10, 30.7, 'Hello']\n"
     ]
    }
   ],
   "metadata": {
    "colab": {},
    "colab_type": "code",
    "id": "JqjN61NijAji",
    "outputId": "713e359c-f5bd-49b9-a039-bb26b7e269e6"
   }
  },
  {
   "cell_type": "markdown",
   "source": [
    "# Python Tuple"
   ],
   "metadata": {
    "colab_type": "text",
    "id": "1z43evhgjAjm"
   }
  },
  {
   "cell_type": "markdown",
   "source": [
    "Tuple is an ordered sequence of items same as list.The only difference is that tuples are immutable. Tuples once created cannot be modified."
   ],
   "metadata": {
    "colab_type": "text",
    "id": "hl-DNjIKjAjn"
   }
  },
  {
   "cell_type": "code",
   "execution_count": 66,
   "source": [
    "t = (1, 1.5, \"ML\")"
   ],
   "outputs": [],
   "metadata": {
    "colab": {},
    "colab_type": "code",
    "id": "FtTKigm4jAjn"
   }
  },
  {
   "cell_type": "code",
   "execution_count": 67,
   "source": [
    "print(t[1]) #extract particular element"
   ],
   "outputs": [
    {
     "output_type": "stream",
     "name": "stdout",
     "text": [
      "1.5\n"
     ]
    }
   ],
   "metadata": {
    "colab": {},
    "colab_type": "code",
    "id": "FXwePsUjjAjs",
    "outputId": "756a5155-079f-41de-a91e-e7f7813e997f"
   }
  },
  {
   "cell_type": "code",
   "execution_count": 68,
   "source": [
    "t[1] = 1.25 #tuple is immutable"
   ],
   "outputs": [
    {
     "output_type": "error",
     "ename": "TypeError",
     "evalue": "'tuple' object does not support item assignment",
     "traceback": [
      "\u001b[1;31m---------------------------------------------------------------------------\u001b[0m",
      "\u001b[1;31mTypeError\u001b[0m                                 Traceback (most recent call last)",
      "\u001b[1;32m<ipython-input-68-b2d18e2d3f4e>\u001b[0m in \u001b[0;36m<module>\u001b[1;34m\u001b[0m\n\u001b[1;32m----> 1\u001b[1;33m \u001b[0mt\u001b[0m\u001b[1;33m[\u001b[0m\u001b[1;36m1\u001b[0m\u001b[1;33m]\u001b[0m \u001b[1;33m=\u001b[0m \u001b[1;36m1.25\u001b[0m \u001b[1;31m#tuple is immutable\u001b[0m\u001b[1;33m\u001b[0m\u001b[1;33m\u001b[0m\u001b[0m\n\u001b[0m",
      "\u001b[1;31mTypeError\u001b[0m: 'tuple' object does not support item assignment"
     ]
    }
   ],
   "metadata": {
    "colab": {},
    "colab_type": "code",
    "id": "HcmgwUWvjAjv",
    "outputId": "d618dde0-d605-4229-a828-8904a24ae7e7"
   }
  },
  {
   "cell_type": "markdown",
   "source": [
    "# Python Set"
   ],
   "metadata": {
    "colab_type": "text",
    "id": "RUTK-g6rjAjz"
   }
  },
  {
   "cell_type": "markdown",
   "source": [
    "Set is an unordered collection of unique items. Set is defined by values separated by comma inside braces { }. Items in a set are not ordered."
   ],
   "metadata": {
    "colab_type": "text",
    "id": "J8pDiqs1jAjz"
   }
  },
  {
   "cell_type": "code",
   "execution_count": null,
   "source": [
    "a = {10, 30, 20, 40, 5}\n",
    "print(a)"
   ],
   "outputs": [
    {
     "output_type": "stream",
     "name": "stdout",
     "text": [
      "{5, 40, 10, 20, 30}\n"
     ]
    }
   ],
   "metadata": {
    "colab": {},
    "colab_type": "code",
    "id": "Pa8_taUijAj0",
    "outputId": "a3463a54-5124-4b5a-ade3-744b71dd93b3"
   }
  },
  {
   "cell_type": "code",
   "execution_count": null,
   "source": [
    "print(type(a))             #print type of a"
   ],
   "outputs": [
    {
     "output_type": "stream",
     "name": "stdout",
     "text": [
      "<class 'set'>\n"
     ]
    }
   ],
   "metadata": {
    "colab": {},
    "colab_type": "code",
    "id": "IvCOBoJsjAj4",
    "outputId": "9a137f29-9146-4f87-8a40-f7774985cab6"
   }
  },
  {
   "cell_type": "markdown",
   "source": [
    "We can perform set operations like union, intersection on two sets. Set have unique values."
   ],
   "metadata": {
    "colab_type": "text",
    "id": "-REyz-C-jAj8"
   }
  },
  {
   "cell_type": "code",
   "execution_count": null,
   "source": [
    "s = {10, 20, 20, 30, 30, 30}\r\n",
    "print(s)                    #automatically set won't consider duplicate elements"
   ],
   "outputs": [
    {
     "output_type": "stream",
     "name": "stdout",
     "text": [
      "{10, 20, 30}\n"
     ]
    }
   ],
   "metadata": {
    "colab": {},
    "colab_type": "code",
    "id": "1PYDi3VRjAj8",
    "outputId": "ecc5bdd1-4e8f-4809-a4b0-6b783812c487"
   }
  },
  {
   "cell_type": "code",
   "execution_count": null,
   "source": [
    "print(s[1]) #we can't print particular element in set because \r\n",
    "            #it's unorder collections of items"
   ],
   "outputs": [
    {
     "output_type": "error",
     "ename": "TypeError",
     "evalue": "'set' object is not subscriptable",
     "traceback": [
      "\u001b[1;31m---------------------------------------------------------------------------\u001b[0m",
      "\u001b[1;31mTypeError\u001b[0m                                 Traceback (most recent call last)",
      "\u001b[1;32m<ipython-input-22-3e2f312e6983>\u001b[0m in \u001b[0;36m<module>\u001b[1;34m\u001b[0m\n\u001b[1;32m----> 1\u001b[1;33m \u001b[0mprint\u001b[0m\u001b[1;33m(\u001b[0m\u001b[0ms\u001b[0m\u001b[1;33m[\u001b[0m\u001b[1;36m1\u001b[0m\u001b[1;33m]\u001b[0m\u001b[1;33m)\u001b[0m \u001b[1;31m#we can't print particular element in set because\u001b[0m\u001b[1;33m\u001b[0m\u001b[1;33m\u001b[0m\u001b[0m\n\u001b[0m\u001b[0;32m      2\u001b[0m             \u001b[1;31m#it's unorder collections of items\u001b[0m\u001b[1;33m\u001b[0m\u001b[1;33m\u001b[0m\u001b[1;33m\u001b[0m\u001b[0m\n",
      "\u001b[1;31mTypeError\u001b[0m: 'set' object is not subscriptable"
     ]
    }
   ],
   "metadata": {
    "colab": {},
    "colab_type": "code",
    "id": "8gA4UANbjAkA",
    "outputId": "234f8a35-d62b-4f35-e5a3-ae1e1d520082"
   }
  },
  {
   "cell_type": "markdown",
   "source": [
    "# Python Dictionary"
   ],
   "metadata": {
    "colab_type": "text",
    "id": "qcVbqDR0jAkE"
   }
  },
  {
   "cell_type": "markdown",
   "source": [
    "Dictionary is an unordered collection of key-value pairs."
   ],
   "metadata": {
    "colab_type": "text",
    "id": "W0R99yybjAkF"
   }
  },
  {
   "cell_type": "markdown",
   "source": [
    "In Python, dictionaries are defined within braces {} with each item being a pair in the form key:value. Key and value can be of any type."
   ],
   "metadata": {
    "colab_type": "text",
    "id": "xojDNh_ujAkG"
   }
  },
  {
   "cell_type": "code",
   "execution_count": null,
   "source": [
    "d = {'a': \"apple\", 'b': \"bat\"}\r\n",
    "print (d['a'])"
   ],
   "outputs": [
    {
     "output_type": "stream",
     "name": "stdout",
     "text": [
      "apple\n"
     ]
    }
   ],
   "metadata": {
    "colab": {},
    "colab_type": "code",
    "id": "2T9I2fD_jAkG",
    "outputId": "efb2d70e-381b-4d6a-977b-102cf4374f04"
   }
  },
  {
   "cell_type": "markdown",
   "source": [
    "# Conversion between Datatypes"
   ],
   "metadata": {
    "colab_type": "text",
    "id": "VAFPibx4jAkK"
   }
  },
  {
   "cell_type": "markdown",
   "source": [
    "We can convert between different data types by using different type conversion functions like int(), float(), str() etc."
   ],
   "metadata": {
    "colab_type": "text",
    "id": "Gr9LdKwUjAkK"
   }
  },
  {
   "cell_type": "code",
   "execution_count": null,
   "source": [
    "float(5)     #convert interger to float using float() method"
   ],
   "outputs": [
    {
     "output_type": "execute_result",
     "data": {
      "text/plain": [
       "5.0"
      ]
     },
     "metadata": {},
     "execution_count": 24
    }
   ],
   "metadata": {
    "colab": {},
    "colab_type": "code",
    "id": "C7Hm3GjUjAkL",
    "outputId": "09b91390-f878-4951-9555-8a0b64ba3c5f"
   }
  },
  {
   "cell_type": "code",
   "execution_count": null,
   "source": [
    "int(100.5)   #convert float to integer using int() method"
   ],
   "outputs": [
    {
     "output_type": "execute_result",
     "data": {
      "text/plain": [
       "100"
      ]
     },
     "metadata": {},
     "execution_count": 25
    }
   ],
   "metadata": {
    "colab": {},
    "colab_type": "code",
    "id": "qOQdGOo9jAkO",
    "outputId": "9422f2b0-3c1a-4604-de77-6cf0592c1d50"
   }
  },
  {
   "cell_type": "code",
   "execution_count": null,
   "source": [
    "str(20)      #convert integer to string"
   ],
   "outputs": [
    {
     "output_type": "execute_result",
     "data": {
      "text/plain": [
       "'20'"
      ]
     },
     "metadata": {},
     "execution_count": 26
    }
   ],
   "metadata": {
    "colab": {},
    "colab_type": "code",
    "id": "j_YHvzHjjAkR",
    "outputId": "fccee2e4-fe13-4a7f-c435-ab1c604a477e"
   }
  },
  {
   "cell_type": "markdown",
   "source": [
    "Conversion to and from string must contain compatible values."
   ],
   "metadata": {
    "colab_type": "text",
    "id": "fQlmdkWZjAkV"
   }
  },
  {
   "cell_type": "code",
   "execution_count": null,
   "source": [
    "int('10p') #non convertable"
   ],
   "outputs": [
    {
     "output_type": "error",
     "ename": "ValueError",
     "evalue": "invalid literal for int() with base 10: '10p'",
     "traceback": [
      "\u001b[1;31m---------------------------------------------------------------------------\u001b[0m",
      "\u001b[1;31mValueError\u001b[0m                                Traceback (most recent call last)",
      "\u001b[1;32m<ipython-input-27-f7d0e9a40085>\u001b[0m in \u001b[0;36m<module>\u001b[1;34m\u001b[0m\n\u001b[1;32m----> 1\u001b[1;33m \u001b[0mint\u001b[0m\u001b[1;33m(\u001b[0m\u001b[1;34m'10p'\u001b[0m\u001b[1;33m)\u001b[0m \u001b[1;31m#non convertable\u001b[0m\u001b[1;33m\u001b[0m\u001b[1;33m\u001b[0m\u001b[0m\n\u001b[0m",
      "\u001b[1;31mValueError\u001b[0m: invalid literal for int() with base 10: '10p'"
     ]
    }
   ],
   "metadata": {
    "colab": {},
    "colab_type": "code",
    "id": "rmZTUGvNjAkW",
    "outputId": "d8b7fb08-d354-4cf8-9300-32adf9e74d3e"
   }
  },
  {
   "cell_type": "code",
   "execution_count": null,
   "source": [
    "user = \"satish\"\n",
    "lines = 100\n",
    "\n",
    "print(\"Congratulations, \" + user + \"! You just wrote \" + str(lines) + \" lines of code\" )\n",
    "#remove str and gives error"
   ],
   "outputs": [
    {
     "output_type": "stream",
     "name": "stdout",
     "text": [
      "Congratulations, satish! You just wrote 100 lines of code\n"
     ]
    }
   ],
   "metadata": {
    "colab": {},
    "colab_type": "code",
    "id": "ySebSJL4jAka",
    "outputId": "1f8f7f2e-97e8-4328-8609-05287af9173a"
   }
  },
  {
   "cell_type": "markdown",
   "source": [
    "We can convert one sequence to other"
   ],
   "metadata": {
    "colab_type": "text",
    "id": "b70t71oHjAke"
   }
  },
  {
   "cell_type": "code",
   "execution_count": null,
   "source": [
    "a = [1, 2, 3]\n",
    "\n",
    "print(type(a))      #type of a is list \n",
    "\n",
    "s = set(a)          #convert list to set using set() method\n",
    "\n",
    "print(type(s))      #now type of s is set"
   ],
   "outputs": [
    {
     "output_type": "stream",
     "name": "stdout",
     "text": [
      "<class 'list'>\n",
      "<class 'set'>\n"
     ]
    }
   ],
   "metadata": {
    "colab": {},
    "colab_type": "code",
    "id": "X8JVo21VjAkf",
    "outputId": "d16e5cdb-19af-4277-d00b-fb10c670af19"
   }
  },
  {
   "cell_type": "code",
   "execution_count": null,
   "source": [
    "list(\"Hello\")       #convert String to list using list() method"
   ],
   "outputs": [
    {
     "output_type": "execute_result",
     "data": {
      "text/plain": [
       "['H', 'e', 'l', 'l', 'o']"
      ]
     },
     "metadata": {},
     "execution_count": 30
    }
   ],
   "metadata": {
    "colab": {},
    "colab_type": "code",
    "id": "_Uhx5L4AjAkm",
    "outputId": "42d880af-b2cb-451c-affd-0d803d272a1b"
   }
  },
  {
   "cell_type": "code",
   "execution_count": null,
   "source": [],
   "outputs": [],
   "metadata": {}
  }
 ],
 "metadata": {
  "colab": {
   "name": "1.4.ipynb",
   "provenance": [],
   "version": "0.3.2"
  },
  "kernelspec": {
   "display_name": "Python 3",
   "language": "python",
   "name": "python3"
  },
  "language_info": {
   "codemirror_mode": {
    "name": "ipython",
    "version": 3
   },
   "file_extension": ".py",
   "mimetype": "text/x-python",
   "name": "python",
   "nbconvert_exporter": "python",
   "pygments_lexer": "ipython3",
   "version": "3.7.4"
  }
 },
 "nbformat": 4,
 "nbformat_minor": 1
}