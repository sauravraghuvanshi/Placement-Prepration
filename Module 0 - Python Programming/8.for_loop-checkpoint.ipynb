{
 "cells": [
  {
   "cell_type": "markdown",
   "source": [
    "# Python for Loop"
   ],
   "metadata": {}
  },
  {
   "cell_type": "markdown",
   "source": [
    "The for loop in Python is used to iterate over a sequence (list, tuple, string) or other iterable objects. \n",
    "    \n",
    "Iterating over a sequence is called traversal."
   ],
   "metadata": {}
  },
  {
   "cell_type": "markdown",
   "source": [
    "# Syntax:"
   ],
   "metadata": {}
  },
  {
   "cell_type": "markdown",
   "source": [
    "    for element in sequence :\n",
    "\n",
    "        Body of for"
   ],
   "metadata": {}
  },
  {
   "cell_type": "markdown",
   "source": [
    "Here, element is the variable that takes the value of the item inside the sequence on each iteration.\n",
    "\n",
    "Loop continues until we reach the last item in the sequence. "
   ],
   "metadata": {}
  },
  {
   "cell_type": "markdown",
   "source": [
    "# Flow Chart"
   ],
   "metadata": {}
  },
  {
   "cell_type": "markdown",
   "source": [
    "![title](forLoop.jpg)"
   ],
   "metadata": {}
  },
  {
   "cell_type": "markdown",
   "source": [
    "# Example"
   ],
   "metadata": {}
  },
  {
   "cell_type": "code",
   "execution_count": 1,
   "source": [
    "#Find product of all numbers present in a list\r\n",
    "\r\n",
    "lst = [10, 20, 30, 40, 50]\r\n",
    "\r\n",
    "product = 1\r\n",
    "#iterating over the list\r\n",
    "for ele in lst:\r\n",
    "    product *= ele\r\n",
    "\r\n",
    "print(\"Product is: {}\".format(product))"
   ],
   "outputs": [
    {
     "output_type": "stream",
     "name": "stdout",
     "text": [
      "Product is: 12000000\n"
     ]
    }
   ],
   "metadata": {}
  },
  {
   "cell_type": "markdown",
   "source": [
    "# range() function"
   ],
   "metadata": {}
  },
  {
   "cell_type": "markdown",
   "source": [
    "We can generate a sequence of numbers using range() function. range(10) will generate numbers from 0 to 9 (10 numbers).\n",
    "\n",
    "We can also define the start, stop and step size as range(start,stop,step size). step size defaults to 1 if not provided.\n",
    "\n",
    "This function does not store all the values in memory, it would be inefficient. So it remembers the start, stop, step size and generates the next number on the go."
   ],
   "metadata": {}
  },
  {
   "cell_type": "code",
   "execution_count": 2,
   "source": [
    "#print range of 10\r\n",
    "for i in range(10):\r\n",
    "    print(i)"
   ],
   "outputs": [
    {
     "output_type": "stream",
     "name": "stdout",
     "text": [
      "0\n",
      "1\n",
      "2\n",
      "3\n",
      "4\n",
      "5\n",
      "6\n",
      "7\n",
      "8\n",
      "9\n"
     ]
    }
   ],
   "metadata": {}
  },
  {
   "cell_type": "code",
   "execution_count": 3,
   "source": [
    "#print range of numbers from 1 to 20 with step size of 2\r\n",
    "for i in range(1, 20, 2):\r\n",
    "    print(i)"
   ],
   "outputs": [
    {
     "output_type": "stream",
     "name": "stdout",
     "text": [
      "1\n",
      "3\n",
      "5\n",
      "7\n",
      "9\n",
      "11\n",
      "13\n",
      "15\n",
      "17\n",
      "19\n"
     ]
    }
   ],
   "metadata": {}
  },
  {
   "cell_type": "code",
   "execution_count": 4,
   "source": [
    "lst = [\"satish\", \"srinu\", \"murali\", \"naveen\", \"bramha\"]\r\n",
    "\r\n",
    "#iterate over the list using index\r\n",
    "for index in range(len(lst)):\r\n",
    "    print(lst[index])"
   ],
   "outputs": [
    {
     "output_type": "stream",
     "name": "stdout",
     "text": [
      "satish\n",
      "srinu\n",
      "murali\n",
      "naveen\n",
      "bramha\n"
     ]
    }
   ],
   "metadata": {}
  },
  {
   "cell_type": "markdown",
   "source": [
    "# for loop with else"
   ],
   "metadata": {}
  },
  {
   "cell_type": "markdown",
   "source": [
    "A for loop can have an optional else block as well. The else part is executed if the items in the sequence used in for loop exhausts.\n",
    "\n",
    "break statement can be used to stop a for loop. In such case, the else part is ignored.\n",
    "\n",
    "Hence, a for loop's else part runs if no break occurs."
   ],
   "metadata": {}
  },
  {
   "cell_type": "code",
   "execution_count": 5,
   "source": [
    "numbers = [1, 2, 3]  \r\n",
    "#iterating over the list\r\n",
    "for item in numbers:\r\n",
    "    print(item)\r\n",
    "else:\r\n",
    "    print(\"no item left in the list\")"
   ],
   "outputs": [
    {
     "output_type": "stream",
     "name": "stdout",
     "text": [
      "1\n",
      "2\n",
      "3\n",
      "no item left in the list\n"
     ]
    }
   ],
   "metadata": {}
  },
  {
   "cell_type": "code",
   "execution_count": 6,
   "source": [
    "for item in numbers:\r\n",
    "    print(item)\r\n",
    "    if item % 2 == 0:\r\n",
    "        break\r\n",
    "else:\r\n",
    "    print(\"no item left in the list\")"
   ],
   "outputs": [
    {
     "output_type": "stream",
     "name": "stdout",
     "text": [
      "1\n",
      "2\n"
     ]
    }
   ],
   "metadata": {}
  },
  {
   "cell_type": "markdown",
   "source": [
    "# Python Program to display all prime numbers within an interval"
   ],
   "metadata": {}
  },
  {
   "cell_type": "code",
   "execution_count": 7,
   "source": [
    "index1 = 10\r\n",
    "index2 = 50\r\n",
    "\r\n",
    "print(\"Prime numbers between {0} and {1} are :\".format(index1, index2))\r\n",
    "\r\n",
    "for num in range(index1, index2+1):      #default step size is 1\r\n",
    "    if num > 1:\r\n",
    "        isDivisible = False\r\n",
    "        for index in range(2, num):\r\n",
    "            if num % index == 0:\r\n",
    "                isDivisible = True\r\n",
    "        if not isDivisible:        \r\n",
    "            print(num)\r\n",
    "    "
   ],
   "outputs": [
    {
     "output_type": "stream",
     "name": "stdout",
     "text": [
      "Prime numbers between 10 and 50 are :\n",
      "11\n",
      "13\n",
      "17\n",
      "19\n",
      "23\n",
      "29\n",
      "31\n",
      "37\n",
      "41\n",
      "43\n",
      "47\n"
     ]
    }
   ],
   "metadata": {}
  },
  {
   "cell_type": "code",
   "execution_count": null,
   "source": [],
   "outputs": [],
   "metadata": {
    "collapsed": true
   }
  }
 ],
 "metadata": {
  "kernelspec": {
   "name": "python3",
   "display_name": "Python 3.7.4 64-bit ('base': conda)"
  },
  "language_info": {
   "codemirror_mode": {
    "name": "ipython",
    "version": 3
   },
   "file_extension": ".py",
   "mimetype": "text/x-python",
   "name": "python",
   "nbconvert_exporter": "python",
   "pygments_lexer": "ipython3",
   "version": "3.7.4"
  },
  "interpreter": {
   "hash": "6aa4e563fcc316e4a45c191851d226024341c22e5279c609c01fb0b2d94cafc4"
  }
 },
 "nbformat": 4,
 "nbformat_minor": 2
}