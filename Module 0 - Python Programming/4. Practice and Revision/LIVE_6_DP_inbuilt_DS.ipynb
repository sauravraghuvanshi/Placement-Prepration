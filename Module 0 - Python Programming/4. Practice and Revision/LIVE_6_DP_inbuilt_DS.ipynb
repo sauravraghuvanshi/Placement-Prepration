{
 "cells": [
  {
   "cell_type": "markdown",
   "metadata": {
    "slideshow": {
     "slide_type": "slide"
    }
   },
   "source": [
    "## LIVE 6: Dynamic Programming + inbuilt-DS\n",
    " - Focus: Dynamic programming example , where to use which DS in Python\n",
    " - Prereq: Previous code-sessions + Basic knowledge of inbuilt DS in Python(list, tuple, dict, set)\n",
    " - Reference for basics: \n",
    "     - https://docs.python.org/3/tutorial/datastructures.html#\n",
    "     - https://www.geeksforgeeks.org/inbuilt-data-structures-python/\n",
    "    \n",
    " "
   ]
  },
  {
   "cell_type": "markdown",
   "metadata": {
    "slideshow": {
     "slide_type": "slide"
    }
   },
   "source": [
    "## Problem 4:  Regex matching problem\n",
    "- \"?\" matches a single character\n",
    "- \"*\" matches zero or more charcters\n",
    "- Given a pattern(p) and a string(s), does p match s?\n",
    "- examples: \n",
    "    - TRUE: (\"\\*\", \"ab\"), (\"?a\" ,\"ba\"), (\"?a\" ,\"aa\"), (\"a\\*\" ,\"a\")\n",
    "    - FALSE: (\"\\*a\", \"ab\"), (\"?a\" ,\"baa\"), (\"?a\" ,\"a\"), (\"a\\*\" ,\"ba\")\n",
    "\n",
    "- Very popular interview question at product-based companies for SDEs.\n",
    "- Small variations of this are often used in interviews\n",
    "\n",
    "- Any suggestions?\n"
   ]
  },
  {
   "cell_type": "code",
   "execution_count": 238,
   "metadata": {
    "slideshow": {
     "slide_type": "slide"
    }
   },
   "outputs": [],
   "source": [
    "# Handle all cases of recursion thoroughly.\n",
    "\n",
    "def isMatch(p,s):\n",
    "    \n",
    "    print(p,s) # print statemnt for debugging\n",
    "    \n",
    "    # boundary cases of recursion\n",
    "    if p == s:\n",
    "        return True\n",
    "    \n",
    "    if p == \"*\":\n",
    "        return True\n",
    "    \n",
    "    if p == \"\" or s == \"\":\n",
    "        return False\n",
    "    \n",
    "    # recursion case-1\n",
    "    if p[0] == s[0] or p[0] == '?':\n",
    "        return isMatch(p[1:], s[1:])\n",
    "    \n",
    "    # recursion-case-2\n",
    "    if p[0] == '*':\n",
    "        return ( isMatch( p[1:], s) or isMatch( p, s[1:]))\n",
    "    \n",
    "    # last case: if p[0] is a character\n",
    "    if  p[0] != s[0]:\n",
    "        return False;\n",
    "        "
   ]
  },
  {
   "cell_type": "code",
   "execution_count": 239,
   "metadata": {
    "slideshow": {
     "slide_type": "subslide"
    }
   },
   "outputs": [
    {
     "name": "stdout",
     "output_type": "stream",
     "text": [
      "* ab\n",
      "True\n"
     ]
    }
   ],
   "source": [
    "print(isMatch(\"*\",\"ab\"))\n"
   ]
  },
  {
   "cell_type": "code",
   "execution_count": 240,
   "metadata": {
    "slideshow": {
     "slide_type": "subslide"
    }
   },
   "outputs": [
    {
     "name": "stdout",
     "output_type": "stream",
     "text": [
      "?a baa\n",
      "a aa\n",
      " a\n",
      "False\n"
     ]
    }
   ],
   "source": [
    "print(isMatch(\"?a\" ,\"baa\"))"
   ]
  },
  {
   "cell_type": "code",
   "execution_count": 241,
   "metadata": {
    "slideshow": {
     "slide_type": "subslide"
    }
   },
   "outputs": [
    {
     "name": "stdout",
     "output_type": "stream",
     "text": [
      "a* ba\n",
      "False\n"
     ]
    }
   ],
   "source": [
    "print(isMatch(\"a*\" ,\"ba\"))"
   ]
  },
  {
   "cell_type": "code",
   "execution_count": 242,
   "metadata": {
    "slideshow": {
     "slide_type": "slide"
    }
   },
   "outputs": [
    {
     "data": {
      "text/html": [
       "<img src=\"https://i.imgur.com/dse47H3.png\"/>"
      ],
      "text/plain": [
       "<IPython.core.display.Image object>"
      ]
     },
     "execution_count": 242,
     "metadata": {},
     "output_type": "execute_result"
    }
   ],
   "source": [
    "# Worst case Time Complexity: T(n) = T(n-1) + T(n-1) = 2* T(n-1)\n",
    "\n",
    "# => T(n) = 0(2^n) [as shown below]\n",
    "\n",
    "\n",
    "from IPython.display import Image\n",
    "Image(url= \"https://i.imgur.com/dse47H3.png\")\n"
   ]
  },
  {
   "cell_type": "code",
   "execution_count": 243,
   "metadata": {
    "slideshow": {
     "slide_type": "slide"
    }
   },
   "outputs": [
    {
     "data": {
      "text/html": [
       "<img src=\"https://i.imgur.com/Rx6tN8a.png\"/>"
      ],
      "text/plain": [
       "<IPython.core.display.Image object>"
      ]
     },
     "execution_count": 243,
     "metadata": {},
     "output_type": "execute_result"
    }
   ],
   "source": [
    "# Can we do better?\n",
    "\n",
    "Image(url= \"https://i.imgur.com/Rx6tN8a.png\")"
   ]
  },
  {
   "cell_type": "code",
   "execution_count": 244,
   "metadata": {
    "slideshow": {
     "slide_type": "slide"
    }
   },
   "outputs": [],
   "source": [
    "# Overlapping sub-problems: \n",
    "# Why not store solutions to already solved problems in a dict (dp)\n",
    "# Dynamic programming: Recursion + overlapping subproblems\n",
    "\n",
    "\n",
    "# We discussed this in our course when we learn back-propogation in Deep-Learning.\n"
   ]
  },
  {
   "cell_type": "code",
   "execution_count": 269,
   "metadata": {
    "slideshow": {
     "slide_type": "slide"
    }
   },
   "outputs": [],
   "source": [
    "# top-down DP using recursion and memoization (dp)\n",
    "\n",
    "\n",
    "\n",
    "def isMatchDP(pattern, string, pattern_start, string_start, dp ):\n",
    "    \n",
    "    #print(pattern_start, string_start);\n",
    "    \n",
    "    if  (pattern_start, string_start) in dp:\n",
    "        return dp[(pattern_start, string_start)]\n",
    "    \n",
    "    p = pattern[pattern_start:];\n",
    "    s = string[string_start:];\n",
    "    \n",
    "    \n",
    "    print(p,s) # print statemnt for debugging\n",
    "    \n",
    "    # boundary cases of recursion\n",
    "    if p == s:\n",
    "        dp[(pattern_start, string_start)] = True;\n",
    "        return True\n",
    "    \n",
    "    if p == \"*\":\n",
    "        dp[(pattern_start, string_start)] = True;\n",
    "        return True\n",
    "    \n",
    "    if p == \"\" or s == \"\":\n",
    "        dp[(pattern_start, string_start)] = False;\n",
    "        return False\n",
    "    \n",
    "    # recursion case-1\n",
    "    if p[0] == s[0] or p[0] == '?':\n",
    "        tmp = isMatchDP(pattern, string, pattern_start+1, string_start+1, dp)\n",
    "        d[(pattern_start, string_start)] = tmp;\n",
    "        return tmp;\n",
    "    \n",
    "    # recursion-case-2\n",
    "    if p[0] == '*':\n",
    "        tmp = ( isMatchDP( pattern, string, pattern_start+1, string_start, dp) or isMatchDP( pattern, string, pattern_start, string_start+1, dp))\n",
    "        dp[(pattern_start, string_start)] = tmp;\n",
    "        return tmp;\n",
    "    \n",
    "    # last case: if p[0] is a character\n",
    "    if  p[0] != s[0]:\n",
    "        dp[(pattern_start, string_start)] = False;\n",
    "        return False;\n",
    "    "
   ]
  },
  {
   "cell_type": "code",
   "execution_count": 270,
   "metadata": {
    "slideshow": {
     "slide_type": "subslide"
    }
   },
   "outputs": [
    {
     "name": "stdout",
     "output_type": "stream",
     "text": [
      "* ab\n",
      "True\n"
     ]
    }
   ],
   "source": [
    "print(isMatchDP(\"*\",\"ab\",0,0, {}))"
   ]
  },
  {
   "cell_type": "code",
   "execution_count": 272,
   "metadata": {
    "slideshow": {
     "slide_type": "subslide"
    }
   },
   "outputs": [
    {
     "name": "stdout",
     "output_type": "stream",
     "text": [
      "?a baa\n",
      "a aa\n",
      " a\n",
      "False\n"
     ]
    }
   ],
   "source": [
    "print(isMatchDP(\"?a\" ,\"baa\",0,0,{}))"
   ]
  },
  {
   "cell_type": "code",
   "execution_count": 273,
   "metadata": {
    "slideshow": {
     "slide_type": "subslide"
    }
   },
   "outputs": [
    {
     "name": "stdout",
     "output_type": "stream",
     "text": [
      "?a* baa\n",
      "a* aa\n",
      "* a\n",
      "True\n"
     ]
    }
   ],
   "source": [
    "print(isMatchDP(\"?a*\" ,\"baa\",0,0,{}))"
   ]
  },
  {
   "cell_type": "markdown",
   "metadata": {
    "slideshow": {
     "slide_type": "slide"
    }
   },
   "source": [
    "### 2 Dimensional Dynamic programming vs 1-Dimensional DP\n",
    "\n",
    "### Additional Resources:\n",
    "- https://www.geeksforgeeks.org/solve-dynamic-programming-problem/\n",
    "- 50 practice problems: https://blog.usejournal.com/top-50-dynamic-programming-practice-problems-4208fed71aa3\n"
   ]
  },
  {
   "cell_type": "markdown",
   "metadata": {
    "slideshow": {
     "slide_type": "slide"
    }
   },
   "source": [
    "# Python's inbuilt data-structures: List, Dict, Set, Tuple \n",
    "- Assumption: basic understadning about these DS. \n",
    "- Big practical question: Where to use which DS?"
   ]
  },
  {
   "cell_type": "markdown",
   "metadata": {
    "slideshow": {
     "slide_type": "slide"
    }
   },
   "source": [
    "### Key properties (recap): \n",
    "- LIST: [1,2,3,4,5], ordered, indexable, iterable\n",
    "\n",
    "- DICT:  {'jack': 4098, 'sape': 4139}, O(1) search, <k,v> pairs, iterable, ordered(3.7+)[https://docs.python.org/3/whatsnew/3.7.html]\n",
    "\n",
    "- TUPLE: (1,2,3), immutable, ordered-k-items, \n",
    "\n",
    "- SET: {1,2,3}, unordered, iterable, no-duplicates.\n",
    "\n",
    "\n",
    "\" A DS is decided based on what operations you want to perform on it and how fast these operations are\"\n"
   ]
  },
  {
   "cell_type": "markdown",
   "metadata": {
    "slideshow": {
     "slide_type": "slide"
    }
   },
   "source": [
    "### Lets learn: Which DS will you use in a given situation and why?\n"
   ]
  },
  {
   "cell_type": "markdown",
   "metadata": {
    "slideshow": {
     "slide_type": "slide"
    }
   },
   "source": [
    "### Q. Represent a 3-D point as a parameter to a function: f(3D-point)"
   ]
  },
  {
   "cell_type": "markdown",
   "metadata": {},
   "source": [
    "#### Notice the shape parameter in NumPy\n",
    "\n",
    "class numpy.ndarray(shape, dtype=float, buffer=None, offset=0, strides=None, order=None)[source]\n",
    "An array object represents a multidimensional, homogeneous array of fixed-size items. An associated data-type object describes the format of each element in the array (its byte-order, how many bytes it occupies in memory, whether it is an integer, a floating point number, or something else, etc.)\n",
    "\n",
    "Arrays should be constructed using array, zeros or empty (refer to the See Also section below). The parameters given here refer to a low-level method (ndarray(…)) for instantiating an array.\n",
    "\n",
    "For more information, refer to the numpy module and examine the methods and attributes of an array.\n",
    "\n",
    "Parameters:\t\n",
    "(for the __new__ method; see Notes below)\n",
    "shape : tuple of ints\n",
    "Shape of created array.\n",
    "\n",
    "dtype : data-type, optional\n",
    "Any object that can be interpreted as a numpy data type.\n",
    "\n",
    "buffer : object exposing buffer interface, optional\n",
    "Used to fill the array with data.\n",
    "\n",
    "offset : int, optional\n",
    "Offset of array data in buffer."
   ]
  },
  {
   "cell_type": "markdown",
   "metadata": {
    "slideshow": {
     "slide_type": "slide"
    }
   },
   "source": [
    "### Q. Represent a 3-D point as a parameter to a function: f(3D-point) which changes the 3-D point's co-ordinates"
   ]
  },
  {
   "cell_type": "code",
   "execution_count": 179,
   "metadata": {
    "slideshow": {
     "slide_type": "slide"
    }
   },
   "outputs": [
    {
     "name": "stdout",
     "output_type": "stream",
     "text": [
      "(0, 1, 2)\n",
      "0\n"
     ]
    },
    {
     "ename": "TypeError",
     "evalue": "'tuple' object does not support item assignment",
     "output_type": "error",
     "traceback": [
      "\u001b[0;31m---------------------------------------------------------------------------\u001b[0m",
      "\u001b[0;31mTypeError\u001b[0m                                 Traceback (most recent call last)",
      "\u001b[0;32m<ipython-input-179-be22e0c9180e>\u001b[0m in \u001b[0;36m<module>\u001b[0;34m\u001b[0m\n\u001b[1;32m     10\u001b[0m \u001b[0mprint\u001b[0m\u001b[0;34m(\u001b[0m\u001b[0mt\u001b[0m\u001b[0;34m[\u001b[0m\u001b[0;36m0\u001b[0m\u001b[0;34m]\u001b[0m\u001b[0;34m)\u001b[0m\u001b[0;34m\u001b[0m\u001b[0;34m\u001b[0m\u001b[0m\n\u001b[1;32m     11\u001b[0m \u001b[0;34m\u001b[0m\u001b[0m\n\u001b[0;32m---> 12\u001b[0;31m \u001b[0mf\u001b[0m\u001b[0;34m(\u001b[0m\u001b[0mt\u001b[0m\u001b[0;34m)\u001b[0m\u001b[0;34m;\u001b[0m\u001b[0;34m\u001b[0m\u001b[0;34m\u001b[0m\u001b[0m\n\u001b[0m\u001b[1;32m     13\u001b[0m \u001b[0;34m\u001b[0m\u001b[0m\n\u001b[1;32m     14\u001b[0m \u001b[0mprint\u001b[0m\u001b[0;34m(\u001b[0m\u001b[0mt\u001b[0m\u001b[0;34m)\u001b[0m\u001b[0;34m\u001b[0m\u001b[0;34m\u001b[0m\u001b[0m\n",
      "\u001b[0;32m<ipython-input-179-be22e0c9180e>\u001b[0m in \u001b[0;36mf\u001b[0;34m(t)\u001b[0m\n\u001b[1;32m      1\u001b[0m \u001b[0;32mdef\u001b[0m \u001b[0mf\u001b[0m\u001b[0;34m(\u001b[0m\u001b[0mt\u001b[0m\u001b[0;34m)\u001b[0m\u001b[0;34m:\u001b[0m\u001b[0;34m\u001b[0m\u001b[0;34m\u001b[0m\u001b[0m\n\u001b[0;32m----> 2\u001b[0;31m     \u001b[0mt\u001b[0m\u001b[0;34m[\u001b[0m\u001b[0;36m0\u001b[0m\u001b[0;34m]\u001b[0m \u001b[0;34m=\u001b[0m \u001b[0mt\u001b[0m\u001b[0;34m[\u001b[0m\u001b[0;36m0\u001b[0m\u001b[0;34m]\u001b[0m\u001b[0;34m+\u001b[0m\u001b[0;36m1\u001b[0m\u001b[0;34m;\u001b[0m\u001b[0;34m\u001b[0m\u001b[0;34m\u001b[0m\u001b[0m\n\u001b[0m\u001b[1;32m      3\u001b[0m     \u001b[0mt\u001b[0m\u001b[0;34m[\u001b[0m\u001b[0;36m1\u001b[0m\u001b[0;34m]\u001b[0m \u001b[0;34m=\u001b[0m \u001b[0mt\u001b[0m\u001b[0;34m[\u001b[0m\u001b[0;36m1\u001b[0m\u001b[0;34m]\u001b[0m\u001b[0;34m+\u001b[0m\u001b[0;36m1\u001b[0m\u001b[0;34m;\u001b[0m\u001b[0;34m\u001b[0m\u001b[0;34m\u001b[0m\u001b[0m\n\u001b[1;32m      4\u001b[0m     \u001b[0mt\u001b[0m\u001b[0;34m[\u001b[0m\u001b[0;36m2\u001b[0m\u001b[0;34m]\u001b[0m \u001b[0;34m=\u001b[0m \u001b[0mt\u001b[0m\u001b[0;34m[\u001b[0m\u001b[0;36m2\u001b[0m\u001b[0;34m]\u001b[0m\u001b[0;34m+\u001b[0m\u001b[0;36m1\u001b[0m\u001b[0;34m;\u001b[0m\u001b[0;34m\u001b[0m\u001b[0;34m\u001b[0m\u001b[0m\n\u001b[1;32m      5\u001b[0m     \u001b[0;32mreturn\u001b[0m\u001b[0;34m;\u001b[0m\u001b[0;34m\u001b[0m\u001b[0;34m\u001b[0m\u001b[0m\n",
      "\u001b[0;31mTypeError\u001b[0m: 'tuple' object does not support item assignment"
     ]
    }
   ],
   "source": [
    "def f(t):\n",
    "    t[0] = t[0]+1;\n",
    "    t[1] = t[1]+1;\n",
    "    t[2] = t[2]+1;\n",
    "    return;\n",
    "\n",
    "t=(0,1,2);\n",
    "print(t);\n",
    "\n",
    "print(t[0])\n",
    "\n",
    "f(t);\n",
    "\n",
    "print(t)\n",
    "\n",
    "# tuples are immutable"
   ]
  },
  {
   "cell_type": "code",
   "execution_count": 180,
   "metadata": {
    "slideshow": {
     "slide_type": "slide"
    }
   },
   "outputs": [
    {
     "name": "stdout",
     "output_type": "stream",
     "text": [
      "[0, 1, 2]\n",
      "0\n",
      "[1, 2, 3]\n"
     ]
    }
   ],
   "source": [
    "# lists are mutable and ordered.\n",
    "\n",
    "def f(t):\n",
    "    t[0] = t[0]+1;\n",
    "    t[1] = t[1]+1;\n",
    "    t[2] = t[2]+1;\n",
    "    return;\n",
    "\n",
    "t=[0,1,2];\n",
    "print(t);\n",
    "\n",
    "print(t[0])\n",
    "\n",
    "f(t);\n",
    "\n",
    "print(t)"
   ]
  },
  {
   "cell_type": "markdown",
   "metadata": {
    "slideshow": {
     "slide_type": "slide"
    }
   },
   "source": [
    "\n",
    "#### Example: Mutable and immutable & Parameter passing\n",
    "https://stackoverflow.com/a/986145"
   ]
  },
  {
   "cell_type": "markdown",
   "metadata": {
    "slideshow": {
     "slide_type": "slide"
    }
   },
   "source": [
    "### Q. If you were to design NumPy from scratch, which inbuilt DS would you use to design ndarray?\n"
   ]
  },
  {
   "cell_type": "markdown",
   "metadata": {
    "slideshow": {
     "slide_type": "slide"
    }
   },
   "source": [
    "### Q. How do you think data is internally stored in Numpy Arrays?"
   ]
  },
  {
   "cell_type": "markdown",
   "metadata": {
    "slideshow": {
     "slide_type": "slide"
    }
   },
   "source": [
    "\"Why are NumPy arrays efficient?\n",
    "\n",
    "A NumPy array is basically described by metadata (notably the number of dimensions, the shape, and the data type) and the actual data. The data is stored in a homogeneous and contiguous block of memory, at a particular address in system memory (Random Access Memory, or RAM). This block of memory is called the data buffer. This is the main difference between an array and a pure Python structure, such as a list, where the items are scattered across the system memory. This aspect is the critical feature that makes NumPy arrays so efficient.\"\n",
    "\n",
    "Source: https://ipython-books.github.io/45-understanding-the-internals-of-numpy-to-avoid-unnecessary-array-copying/"
   ]
  },
  {
   "cell_type": "markdown",
   "metadata": {
    "slideshow": {
     "slide_type": "slide"
    }
   },
   "source": [
    "### Q. You want to write the program to obtain various combinations. How do you take the input?"
   ]
  },
  {
   "cell_type": "markdown",
   "metadata": {
    "slideshow": {
     "slide_type": "slide"
    }
   },
   "source": [
    "Refer: https://docs.python.org/2/library/itertools.html#itertools.combinations\n",
    "        \n",
    "itertools.combinations(iterable, r)\n",
    "\n",
    "Return r length subsequences of elements from the input iterable.\n",
    "Combinations are emitted in lexicographic sort order. So, if the input iterable is sorted, the combination tuples will be produced in sorted order.\n",
    "Elements are treated as unique based on their position, not on their value. So if the input elements are unique, there will be no repeat values in each combination."
   ]
  },
  {
   "cell_type": "code",
   "execution_count": 6,
   "metadata": {},
   "outputs": [
    {
     "name": "stdout",
     "output_type": "stream",
     "text": [
      "<class 'itertools.combinations'>\n"
     ]
    }
   ],
   "source": [
    "import itertools\n",
    "\n",
    "res = itertools.combinations([1,2,3,4,5],2)\n",
    "\n",
    "print(type(res))\n"
   ]
  },
  {
   "cell_type": "markdown",
   "metadata": {
    "slideshow": {
     "slide_type": "slide"
    }
   },
   "source": [
    "#### Q. How would you build a TinyURL service? [https://tinyurl.com/]\n",
    "- Popular interview question"
   ]
  },
  {
   "cell_type": "markdown",
   "metadata": {
    "slideshow": {
     "slide_type": "slide"
    }
   },
   "source": [
    "Dict/Hashtable has <K,V> pairs\n",
    "\n",
    "Key = short-URL\n",
    "Value = Long-URL\n",
    "\n",
    "Key: random variable length alphabetic suffix [tinyurl.com/tgwxyc]\n"
   ]
  },
  {
   "cell_type": "code",
   "execution_count": 188,
   "metadata": {
    "slideshow": {
     "slide_type": "slide"
    }
   },
   "outputs": [],
   "source": [
    "import random\n",
    "import string\n",
    "\n",
    "d = {};\n",
    "\n",
    "# given a long URL, get a short URL\n",
    "def getShortURL(longURL):\n",
    "    # length = random value in 6-10\n",
    "    l = random.randint(6,10);\n",
    "    print(l);\n",
    "    \n",
    "    # generate random characters into a string of length l\n",
    "    chars = string.ascii_lowercase\n",
    "    shortURL = ''.join(random.choice(chars) for i in range(l))\n",
    "    print(shortURL);\n",
    "    \n",
    "    # check if this string is already present in dict d\n",
    "    if shortURL in d:\n",
    "        return getShortURL(longURL);\n",
    "    else:\n",
    "        d[shortURL] = longURL;\n",
    "        \n",
    "    print(d)\n",
    "    r = \"https://www.shortURL.com/\"+shortURL\n",
    "    return r;\n",
    "\n"
   ]
  },
  {
   "cell_type": "code",
   "execution_count": 189,
   "metadata": {
    "slideshow": {
     "slide_type": "subslide"
    }
   },
   "outputs": [
    {
     "name": "stdout",
     "output_type": "stream",
     "text": [
      "8\n",
      "iftgtrsu\n",
      "{'iftgtrsu': 'www.appliedaicourse.com'}\n",
      "https://www.shortURL.com/iftgtrsu\n"
     ]
    }
   ],
   "source": [
    "print(getShortURL(\"www.appliedaicourse.com\"))"
   ]
  },
  {
   "cell_type": "code",
   "execution_count": 190,
   "metadata": {
    "slideshow": {
     "slide_type": "subslide"
    }
   },
   "outputs": [
    {
     "name": "stdout",
     "output_type": "stream",
     "text": [
      "7\n",
      "mxzmuis\n",
      "{'iftgtrsu': 'www.appliedaicourse.com', 'mxzmuis': 'www.appliedaicourse.com'}\n",
      "https://www.shortURL.com/mxzmuis\n"
     ]
    }
   ],
   "source": [
    "print(getShortURL(\"www.appliedaicourse.com\"))"
   ]
  },
  {
   "cell_type": "code",
   "execution_count": 191,
   "metadata": {
    "slideshow": {
     "slide_type": "slide"
    }
   },
   "outputs": [],
   "source": [
    "def getLongURL(shortURL):\n",
    "    \n",
    "    # extarct key from URL https://www.shortURL.com/mxzmuis ---> mxzmuis\n",
    "    k = shortURL[25:];\n",
    "    print(k)\n",
    "    \n",
    "    return d[k];\n"
   ]
  },
  {
   "cell_type": "code",
   "execution_count": 192,
   "metadata": {
    "slideshow": {
     "slide_type": "subslide"
    }
   },
   "outputs": [
    {
     "name": "stdout",
     "output_type": "stream",
     "text": [
      "mxzmuis\n",
      "www.appliedaicourse.com\n"
     ]
    }
   ],
   "source": [
    "print(getLongURL(\"https://www.shortURL.com/mxzmuis\"))\n"
   ]
  },
  {
   "cell_type": "code",
   "execution_count": 193,
   "metadata": {
    "slideshow": {
     "slide_type": "subslide"
    }
   },
   "outputs": [
    {
     "name": "stdout",
     "output_type": "stream",
     "text": [
      "abcdef\n"
     ]
    },
    {
     "ename": "KeyError",
     "evalue": "'abcdef'",
     "output_type": "error",
     "traceback": [
      "\u001b[0;31m---------------------------------------------------------------------------\u001b[0m",
      "\u001b[0;31mKeyError\u001b[0m                                  Traceback (most recent call last)",
      "\u001b[0;32m<ipython-input-193-a1641eeac07b>\u001b[0m in \u001b[0;36m<module>\u001b[0;34m\u001b[0m\n\u001b[0;32m----> 1\u001b[0;31m \u001b[0mprint\u001b[0m\u001b[0;34m(\u001b[0m\u001b[0mgetLongURL\u001b[0m\u001b[0;34m(\u001b[0m\u001b[0;34m\"https://www.shortURL.com/abcdef\"\u001b[0m\u001b[0;34m)\u001b[0m\u001b[0;34m)\u001b[0m\u001b[0;34m\u001b[0m\u001b[0;34m\u001b[0m\u001b[0m\n\u001b[0m",
      "\u001b[0;32m<ipython-input-191-049da4c13feb>\u001b[0m in \u001b[0;36mgetLongURL\u001b[0;34m(shortURL)\u001b[0m\n\u001b[1;32m      5\u001b[0m     \u001b[0mprint\u001b[0m\u001b[0;34m(\u001b[0m\u001b[0mk\u001b[0m\u001b[0;34m)\u001b[0m\u001b[0;34m\u001b[0m\u001b[0;34m\u001b[0m\u001b[0m\n\u001b[1;32m      6\u001b[0m \u001b[0;34m\u001b[0m\u001b[0m\n\u001b[0;32m----> 7\u001b[0;31m     \u001b[0;32mreturn\u001b[0m \u001b[0md\u001b[0m\u001b[0;34m[\u001b[0m\u001b[0mk\u001b[0m\u001b[0;34m]\u001b[0m\u001b[0;34m;\u001b[0m\u001b[0;34m\u001b[0m\u001b[0;34m\u001b[0m\u001b[0m\n\u001b[0m",
      "\u001b[0;31mKeyError\u001b[0m: 'abcdef'"
     ]
    }
   ],
   "source": [
    "print(getLongURL(\"https://www.shortURL.com/abcdef\"))"
   ]
  },
  {
   "cell_type": "code",
   "execution_count": 196,
   "metadata": {
    "slideshow": {
     "slide_type": "slide"
    }
   },
   "outputs": [],
   "source": [
    "# Handle Errors and return None\n",
    "\n",
    "def getLongURL(shortURL):\n",
    "    \n",
    "    # extarct key from URL https://www.shortURL.com/mxzmuis ---> mxzmuis\n",
    "    k = shortURL[25:];\n",
    "    print(k)\n",
    "    \n",
    "    if k in d:\n",
    "        return d[k];\n",
    "    else:\n",
    "        return None;"
   ]
  },
  {
   "cell_type": "code",
   "execution_count": 197,
   "metadata": {
    "slideshow": {
     "slide_type": "subslide"
    }
   },
   "outputs": [
    {
     "name": "stdout",
     "output_type": "stream",
     "text": [
      "abcdef\n",
      "None\n"
     ]
    }
   ],
   "source": [
    "print(getLongURL(\"https://www.shortURL.com/abcdef\"))"
   ]
  },
  {
   "cell_type": "code",
   "execution_count": 198,
   "metadata": {
    "slideshow": {
     "slide_type": "subslide"
    }
   },
   "outputs": [
    {
     "name": "stdout",
     "output_type": "stream",
     "text": [
      "mxzmuis\n",
      "www.appliedaicourse.com\n"
     ]
    }
   ],
   "source": [
    "print(getLongURL(\"https://www.shortURL.com/mxzmuis\"))\n"
   ]
  },
  {
   "cell_type": "markdown",
   "metadata": {
    "slideshow": {
     "slide_type": "subslide"
    }
   },
   "source": [
    "#### IDEA: We have dict 'd' and these two functions(getShortURL, getLongURL ) that opearete on 'd'. Why not put all these three in a single logical block?\n",
    "- That's where \"Classes\" come in!  Next session: Basics of OOP in Python (for ML)\n",
    "- We will build a ShortURL class."
   ]
  },
  {
   "cell_type": "markdown",
   "metadata": {
    "slideshow": {
     "slide_type": "slide"
    }
   },
   "source": [
    "### Q. Find common elements in 3 lists\n",
    "l1 = [1,2,3,4] <br>\n",
    "l2 = [3,4,5] <br>\n",
    "l3 = [1,4,6,7,8]\n",
    "\n",
    "result = [4]\n"
   ]
  },
  {
   "cell_type": "code",
   "execution_count": 201,
   "metadata": {
    "slideshow": {
     "slide_type": "subslide"
    }
   },
   "outputs": [
    {
     "name": "stdout",
     "output_type": "stream",
     "text": [
      "[4]\n"
     ]
    }
   ],
   "source": [
    "\n",
    "l1 = [1,2,3,4]\n",
    "l2 = [3,4,5]\n",
    "l3 = [1,4,6,7,8]\n",
    "\n",
    "s1 = set(l1);\n",
    "s2 = set(l2);\n",
    "s3 =set(l3);\n",
    "\n",
    "result = list((s1.intersection(s2)).intersection(s3))\n",
    "\n",
    "print(result)\n",
    "\n",
    "# Simple application of Sets"
   ]
  },
  {
   "cell_type": "markdown",
   "metadata": {
    "slideshow": {
     "slide_type": "slide"
    }
   },
   "source": [
    "### Exercise: Find all documents which contain search keywords and phrases."
   ]
  },
  {
   "cell_type": "code",
   "execution_count": null,
   "metadata": {},
   "outputs": [],
   "source": []
  }
 ],
 "metadata": {
  "celltoolbar": "Slideshow",
  "kernelspec": {
   "display_name": "Python 3",
   "language": "python",
   "name": "python3"
  },
  "language_info": {
   "codemirror_mode": {
    "name": "ipython",
    "version": 3
   },
   "file_extension": ".py",
   "mimetype": "text/x-python",
   "name": "python",
   "nbconvert_exporter": "python",
   "pygments_lexer": "ipython3",
   "version": "3.7.3"
  }
 },
 "nbformat": 4,
 "nbformat_minor": 2
}
