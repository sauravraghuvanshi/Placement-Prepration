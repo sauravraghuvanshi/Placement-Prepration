{
 "cells": [
  {
   "cell_type": "markdown",
   "source": [
    "# Types Of Functions"
   ],
   "metadata": {
    "colab_type": "text",
    "id": "RqxIugMnDy18"
   }
  },
  {
   "cell_type": "markdown",
   "source": [
    "1. Built-in Functions\n",
    "\n",
    "2. User-defined Functions"
   ],
   "metadata": {
    "colab_type": "text",
    "id": "MeGY4QcFDy2B"
   }
  },
  {
   "cell_type": "markdown",
   "source": [
    "# Built-in Functions"
   ],
   "metadata": {
    "colab_type": "text",
    "id": "ilt0Wb4sDy2E"
   }
  },
  {
   "cell_type": "markdown",
   "source": [
    "# 1. abs()"
   ],
   "metadata": {
    "colab_type": "text",
    "id": "ubtJWhwrDy2F"
   }
  },
  {
   "cell_type": "code",
   "execution_count": 1,
   "source": [
    "# find the absolute value\r\n",
    "\r\n",
    "num = -100\r\n",
    "\r\n",
    "print(abs(num))\r\n"
   ],
   "outputs": [
    {
     "output_type": "stream",
     "name": "stdout",
     "text": [
      "100\n"
     ]
    }
   ],
   "metadata": {
    "colab": {},
    "colab_type": "code",
    "id": "cs7rqfNGDy2H",
    "outputId": "9b7c7119-c7ac-4687-c6d2-2c1f4beedb6b"
   }
  },
  {
   "cell_type": "markdown",
   "source": [
    "# 2. all()"
   ],
   "metadata": {
    "colab_type": "text",
    "id": "Ao4an2SJDy2V"
   }
  },
  {
   "cell_type": "markdown",
   "source": [
    "#return value of all() function\n",
    "\n",
    "True: if all elements in an iterable are true\n",
    "\n",
    "False: if any element in an iterable is false"
   ],
   "metadata": {
    "colab_type": "text",
    "id": "s7KNa-qjDy2X"
   }
  },
  {
   "cell_type": "code",
   "execution_count": 2,
   "source": [
    "lst = [1, 2, 3, 4]\r\n",
    "print(all(lst)) \r\n"
   ],
   "outputs": [
    {
     "output_type": "stream",
     "name": "stdout",
     "text": [
      "True\n"
     ]
    }
   ],
   "metadata": {
    "colab": {},
    "colab_type": "code",
    "id": "BUYpaNxDDy2Z",
    "outputId": "4155af24-b996-48bc-f94f-96455fc6c295"
   }
  },
  {
   "cell_type": "code",
   "execution_count": 3,
   "source": [
    "lst = (0, 2, 3, 4)    # 0 present in list \r\n",
    "print(all(lst))\r\n"
   ],
   "outputs": [
    {
     "output_type": "stream",
     "name": "stdout",
     "text": [
      "False\n"
     ]
    }
   ],
   "metadata": {
    "colab": {},
    "colab_type": "code",
    "id": "PMh2XjhmDy2g",
    "outputId": "3fcc42c4-b996-4002-c2bc-4379c765ae57"
   }
  },
  {
   "cell_type": "code",
   "execution_count": 4,
   "source": [
    "lst = []              #empty list always true\r\n",
    "print(all(lst))\r\n"
   ],
   "outputs": [
    {
     "output_type": "stream",
     "name": "stdout",
     "text": [
      "True\n"
     ]
    }
   ],
   "metadata": {
    "colab": {},
    "colab_type": "code",
    "id": "A1612gmHDy2n",
    "outputId": "5ab9f21d-d79d-43c0-e021-018ba8228f32"
   }
  },
  {
   "cell_type": "code",
   "execution_count": 5,
   "source": [
    "lst = [False, 1, 2]   #False present in a list so all(lst) is False\r\n",
    "print(all(lst))\r\n"
   ],
   "outputs": [
    {
     "output_type": "stream",
     "name": "stdout",
     "text": [
      "False\n"
     ]
    }
   ],
   "metadata": {
    "colab": {},
    "colab_type": "code",
    "id": "EFwmHv_kDy2v",
    "outputId": "d466ad84-2d91-4ceb-bf13-c808f8dfcd2d"
   }
  },
  {
   "cell_type": "markdown",
   "source": [
    "# dir()"
   ],
   "metadata": {
    "colab_type": "text",
    "id": "Vpyu5OLGDy2z"
   }
  },
  {
   "cell_type": "markdown",
   "source": [
    "The dir() tries to return a list of valid attributes of the object.\n",
    "\n",
    "If the object has __dir__() method, the method will be called and must return the list of attributes.\n",
    "\n",
    "If the object doesn't have __dir()__ method, this method tries to find information from the __dict__ attribute (if defined), and from type object. In this case, the list returned from dir() may not be complete.\n"
   ],
   "metadata": {
    "colab_type": "text",
    "id": "hKSi83LiDy20"
   }
  },
  {
   "cell_type": "code",
   "execution_count": 6,
   "source": [
    "numbers = [1, 2, 3]\r\n",
    "\r\n",
    "print(dir(numbers))\r\n"
   ],
   "outputs": [
    {
     "output_type": "stream",
     "name": "stdout",
     "text": [
      "['__add__', '__class__', '__contains__', '__delattr__', '__delitem__', '__dir__', '__doc__', '__eq__', '__format__', '__ge__', '__getattribute__', '__getitem__', '__gt__', '__hash__', '__iadd__', '__imul__', '__init__', '__init_subclass__', '__iter__', '__le__', '__len__', '__lt__', '__mul__', '__ne__', '__new__', '__reduce__', '__reduce_ex__', '__repr__', '__reversed__', '__rmul__', '__setattr__', '__setitem__', '__sizeof__', '__str__', '__subclasshook__', 'append', 'clear', 'copy', 'count', 'extend', 'index', 'insert', 'pop', 'remove', 'reverse', 'sort']\n"
     ]
    }
   ],
   "metadata": {
    "colab": {},
    "colab_type": "code",
    "id": "x3-LaQj8Dy22",
    "outputId": "fadf0dbd-4c71-41bd-b759-968236a0a696"
   }
  },
  {
   "cell_type": "markdown",
   "source": [
    "# divmod()"
   ],
   "metadata": {
    "colab_type": "text",
    "id": "qAkLDrzDDy27"
   }
  },
  {
   "cell_type": "markdown",
   "source": [
    "The divmod() method takes two numbers and returns a pair of numbers (a tuple) consisting of their quotient and remainder."
   ],
   "metadata": {
    "colab_type": "text",
    "id": "Z7PAJz9RDy28"
   }
  },
  {
   "cell_type": "code",
   "execution_count": 7,
   "source": [
    "print(divmod(9, 2)) #print quotient and remainder as a tuple\r\n",
    "\r\n",
    "#try with other number\r\n"
   ],
   "outputs": [
    {
     "output_type": "stream",
     "name": "stdout",
     "text": [
      "(4, 1)\n"
     ]
    }
   ],
   "metadata": {
    "colab": {},
    "colab_type": "code",
    "id": "6V3UUIj-Dy29",
    "outputId": "51645660-aa7a-4d6d-b162-effe6e5db99b"
   }
  },
  {
   "cell_type": "markdown",
   "source": [
    "# enumerate()"
   ],
   "metadata": {
    "colab_type": "text",
    "id": "3XcOj4ahDy3A"
   }
  },
  {
   "cell_type": "markdown",
   "source": [
    "The enumerate() method adds counter to an iterable and returns it "
   ],
   "metadata": {
    "colab_type": "text",
    "id": "sPGIxThfDy3C"
   }
  },
  {
   "cell_type": "markdown",
   "source": [
    "syntax: enumerate(iterable, start=0)"
   ],
   "metadata": {
    "colab_type": "text",
    "id": "PsPTJ9w3Dy3C"
   }
  },
  {
   "cell_type": "code",
   "execution_count": 8,
   "source": [
    "numbers = [10, 20, 30, 40]\r\n",
    "\r\n",
    "for index, num in enumerate(numbers,1):\r\n",
    "    print(\"index {0} has value {1}\".format(index, num))\r\n",
    "    "
   ],
   "outputs": [
    {
     "output_type": "stream",
     "name": "stdout",
     "text": [
      "index 1 has value 10\n",
      "index 2 has value 20\n",
      "index 3 has value 30\n",
      "index 4 has value 40\n"
     ]
    }
   ],
   "metadata": {
    "colab": {},
    "colab_type": "code",
    "id": "LzYe1WyTDy3E",
    "outputId": "d97df55a-531b-4f3f-c4b9-09053c31f337"
   }
  },
  {
   "cell_type": "markdown",
   "source": [
    "# filter()"
   ],
   "metadata": {
    "colab_type": "text",
    "id": "Qv7BOrOjDy3I"
   }
  },
  {
   "cell_type": "markdown",
   "source": [
    "The filter() method constructs an iterator from elements of an iterable for which a function returns true."
   ],
   "metadata": {
    "colab_type": "text",
    "id": "K8_DVZ2uDy3J"
   }
  },
  {
   "cell_type": "markdown",
   "source": [
    "syntax: filter(function, iterable)"
   ],
   "metadata": {
    "colab_type": "text",
    "id": "Xsq_-ITBDy3K"
   }
  },
  {
   "cell_type": "code",
   "execution_count": 9,
   "source": [
    "def find_positive_number(num):\r\n",
    "    \"\"\"\r\n",
    "    This function returns the positive number if num is positive\r\n",
    "    \"\"\"\r\n",
    "    if num > 0:\r\n",
    "        return num\r\n",
    "    "
   ],
   "outputs": [],
   "metadata": {
    "colab": {},
    "colab_type": "code",
    "id": "-Nclc6WjDy3L"
   }
  },
  {
   "cell_type": "code",
   "execution_count": 10,
   "source": [
    "number_list = range(-10, 10) #create a list with numbers from -10 to 10\r\n",
    "print(list(number_list))\r\n",
    "\r\n",
    "positive_num_lst = list(filter(find_positive_number, number_list))\r\n",
    "\r\n",
    "print(positive_num_lst)\r\n"
   ],
   "outputs": [
    {
     "output_type": "stream",
     "name": "stdout",
     "text": [
      "[-10, -9, -8, -7, -6, -5, -4, -3, -2, -1, 0, 1, 2, 3, 4, 5, 6, 7, 8, 9]\n",
      "[1, 2, 3, 4, 5, 6, 7, 8, 9]\n"
     ]
    }
   ],
   "metadata": {
    "colab": {},
    "colab_type": "code",
    "id": "ef_Se6snDy3Q",
    "outputId": "8fb2019e-3862-47e5-ff75-8be51c7ca567"
   }
  },
  {
   "cell_type": "markdown",
   "source": [
    "# isinstance()"
   ],
   "metadata": {
    "colab_type": "text",
    "id": "i1jHDq_5Dy3Z"
   }
  },
  {
   "cell_type": "markdown",
   "source": [
    "The isinstance() function checks if the object (first argument) is an instance or subclass of classinfo class (second argument)."
   ],
   "metadata": {
    "colab_type": "text",
    "id": "eSZpUEYnDy3b"
   }
  },
  {
   "cell_type": "markdown",
   "source": [
    "syntax: isinstance(object, classinfo)"
   ],
   "metadata": {
    "colab_type": "text",
    "id": "JYB_W3vfDy3e"
   }
  },
  {
   "cell_type": "code",
   "execution_count": 11,
   "source": [
    "lst = [1, 2, 3, 4]\r\n",
    "print(isinstance(lst, list))\r\n",
    "\r\n",
    "#try with other datatypes tuple, set\r\n",
    "t = (1,2,3,4)\r\n",
    "print(isinstance(t, list))"
   ],
   "outputs": [
    {
     "output_type": "stream",
     "name": "stdout",
     "text": [
      "True\n",
      "False\n"
     ]
    }
   ],
   "metadata": {
    "colab": {},
    "colab_type": "code",
    "id": "JMAYKKXZDy3f",
    "outputId": "42dc66ee-8ee9-434e-c523-c35ed9653b09"
   }
  },
  {
   "cell_type": "markdown",
   "source": [
    "# map()"
   ],
   "metadata": {
    "colab_type": "text",
    "id": "0SzHgv87Dy3k"
   }
  },
  {
   "cell_type": "markdown",
   "source": [
    "Map applies a function to all the items in an input_list."
   ],
   "metadata": {
    "colab_type": "text",
    "id": "eAqVlxbtDy3m"
   }
  },
  {
   "cell_type": "markdown",
   "source": [
    "syntax: map(function_to_apply, list_of_inputs)"
   ],
   "metadata": {
    "colab_type": "text",
    "id": "oHivUTbRDy3m"
   }
  },
  {
   "cell_type": "code",
   "execution_count": 12,
   "source": [
    "numbers = [1, 2, 3, 4]\r\n",
    "\r\n",
    "#normal method of computing num^2 for each element in the list.\r\n",
    "squared = []\r\n",
    "for num in numbers:\r\n",
    "    squared.append(num ** 2)\r\n",
    "\r\n",
    "print(squared)\r\n"
   ],
   "outputs": [
    {
     "output_type": "stream",
     "name": "stdout",
     "text": [
      "[1, 4, 9, 16]\n"
     ]
    }
   ],
   "metadata": {
    "colab": {},
    "colab_type": "code",
    "id": "YrzZKvFMDy3n",
    "outputId": "bdcc45b2-5a0e-43e7-be55-cc3749c03498"
   }
  },
  {
   "cell_type": "code",
   "execution_count": 13,
   "source": [
    "numbers = [1, 2, 3, 4]\r\n",
    "\r\n",
    "def powerOfTwo(num):\r\n",
    "    return num ** 2\r\n",
    "\r\n",
    "#using map() function\r\n",
    "squared = list(map(powerOfTwo, numbers))\r\n",
    "print(squared)\r\n"
   ],
   "outputs": [
    {
     "output_type": "stream",
     "name": "stdout",
     "text": [
      "[1, 4, 9, 16]\n"
     ]
    }
   ],
   "metadata": {
    "colab": {},
    "colab_type": "code",
    "id": "SWKg9_nYDy3r",
    "outputId": "50395f75-d023-4dca-ca24-431a527e1e97"
   }
  },
  {
   "cell_type": "markdown",
   "source": [
    "# reduce()"
   ],
   "metadata": {
    "colab_type": "text",
    "id": "-ZZiI7m5Dy3t"
   }
  },
  {
   "cell_type": "markdown",
   "source": [
    "reduce() function is for performing some computation on a list and returning the result. \n",
    "\n",
    "It applies a rolling computation to sequential pairs of values in a list. "
   ],
   "metadata": {
    "colab_type": "text",
    "id": "u_pxdMIcDy3v"
   }
  },
  {
   "cell_type": "code",
   "execution_count": 14,
   "source": [
    "#product of elemnts in a list\r\n",
    "product = 1\r\n",
    "lst = [1, 2, 3, 4]\r\n",
    "\r\n",
    "# traditional program without reduce()\r\n",
    "for num in lst:\r\n",
    "    product *= num\r\n",
    "print(product)\r\n"
   ],
   "outputs": [
    {
     "output_type": "stream",
     "name": "stdout",
     "text": [
      "24\n"
     ]
    }
   ],
   "metadata": {
    "colab": {},
    "colab_type": "code",
    "id": "jqx-xAf7Dy3w",
    "outputId": "182c1097-2ed9-4197-bdaf-8b7866401a4d"
   }
  },
  {
   "cell_type": "code",
   "execution_count": 15,
   "source": [
    "#with reduce()\r\n",
    "from functools import reduce # in Python 3.\r\n",
    "\r\n",
    "def multiply(x,y):\r\n",
    "    return x*y\r\n",
    "\r\n",
    "product = reduce(multiply, lst)\r\n",
    "print(product)\r\n"
   ],
   "outputs": [
    {
     "output_type": "stream",
     "name": "stdout",
     "text": [
      "24\n"
     ]
    }
   ],
   "metadata": {
    "colab": {},
    "colab_type": "code",
    "id": "c-_BNfapDy3y",
    "outputId": "8858e5be-5ad5-4979-da7e-4ef51283a04d"
   }
  },
  {
   "cell_type": "markdown",
   "source": [
    "# 2. User-defined Functions"
   ],
   "metadata": {
    "colab_type": "text",
    "id": "PlBjfKeLDy33"
   }
  },
  {
   "cell_type": "markdown",
   "source": [
    "Functions that we define ourselves to do certain specific task are referred as user-defined functions"
   ],
   "metadata": {
    "colab_type": "text",
    "id": "-jG1cIkIDy33"
   }
  },
  {
   "cell_type": "markdown",
   "source": [
    "If we use functions written by others in the form of library, it can be termed as library functions."
   ],
   "metadata": {
    "colab_type": "text",
    "id": "U0R-nQZEDy35"
   }
  },
  {
   "cell_type": "markdown",
   "source": [
    "# Advantages"
   ],
   "metadata": {
    "colab_type": "text",
    "id": "qnW4EEEaDy36"
   }
  },
  {
   "cell_type": "markdown",
   "source": [
    "1. User-defined functions help to decompose a large program into small segments which makes program easy to understand, maintain and debug.\n",
    "\n",
    "2. If repeated code occurs in a program. Function can be used to include those codes and execute when needed by calling that function.\n",
    "\n",
    "3. Programmars working on large project can divide the workload by making different functions."
   ],
   "metadata": {
    "colab_type": "text",
    "id": "BuTGBpe_Dy36"
   }
  },
  {
   "cell_type": "markdown",
   "source": [
    "# Example:"
   ],
   "metadata": {
    "colab_type": "text",
    "id": "bchAt3KsDy37"
   }
  },
  {
   "cell_type": "code",
   "execution_count": 16,
   "source": [
    "def product_numbers(a, b):\r\n",
    "    \"\"\"\r\n",
    "    this function returns the product of two numbers\r\n",
    "    \"\"\"\r\n",
    "    product = a * b\r\n",
    "    return product\r\n",
    "\r\n",
    "num1 = 10\r\n",
    "num2 = 20\r\n",
    "print (\"product of {0} and {1} is {2} \".format(num1, num2, product_numbers(num1, num2)))"
   ],
   "outputs": [
    {
     "output_type": "stream",
     "name": "stdout",
     "text": [
      "product of 10 and 20 is 200 \n"
     ]
    }
   ],
   "metadata": {
    "colab": {},
    "colab_type": "code",
    "id": "Bl7T01heDy3-",
    "outputId": "6dfc3c9d-6622-4219-9180-5367adb6b7b2"
   }
  },
  {
   "cell_type": "markdown",
   "source": [
    "# Python program to make a simple calculator that can add, subtract, multiply and division"
   ],
   "metadata": {
    "colab_type": "text",
    "id": "3t1WqaakDy4B"
   }
  },
  {
   "cell_type": "code",
   "execution_count": 18,
   "source": [
    "def add(a, b):\r\n",
    "    \"\"\"\r\n",
    "    This function adds two numbers\r\n",
    "    \"\"\"\r\n",
    "    return a + b\r\n",
    "\r\n",
    "def multiply(a, b):\r\n",
    "    \"\"\"\r\n",
    "    This function multiply two numbers\r\n",
    "    \"\"\"\r\n",
    "    return a * b\r\n",
    "\r\n",
    "def subtract(a, b):\r\n",
    "    \"\"\"\r\n",
    "    This function subtract two numbers\r\n",
    "    \"\"\"\r\n",
    "    return a - b\r\n",
    "\r\n",
    "def division(a, b):\r\n",
    "    \"\"\"\r\n",
    "    This function divides two numbers\r\n",
    "    \"\"\"\r\n",
    "    return a / b\r\n",
    "\r\n",
    "print(\"Select Option\")\r\n",
    "print(\"1. Addition\")\r\n",
    "print (\"2. Subtraction\")\r\n",
    "print (\"3. Multiplication\")\r\n",
    "print (\"4. Division\")\r\n",
    "\r\n",
    "#take input from user\r\n",
    "choice = int(input(\"Enter choice 1/2/3/4\"))\r\n",
    "\r\n",
    "num1 = float(input(\"Enter first number:\"))\r\n",
    "num2 = float(input(\"Enter second number:\"))\r\n",
    "if choice == 1:\r\n",
    "    print(\"Addition of {0} and {1} is {2}\".format(num1, num2, add(num1, num2)))\r\n",
    "elif choice == 2:\r\n",
    "    print(\"Subtraction of {0} and {1} is {2}\".format(num1, num2, subtract(num1, num2)))\r\n",
    "elif choice == 3:\r\n",
    "    print(\"Multiplication of {0} and {1} is {2}\".format(num1, num2, multiply(num1, num2)))\r\n",
    "elif choice == 4:\r\n",
    "    print(\"Division of {0} and {1} is {2}\".format(num1, num2, division(num1, num2)))\r\n",
    "else:\r\n",
    "    print(\"Invalid Choice\")"
   ],
   "outputs": [
    {
     "output_type": "stream",
     "name": "stdout",
     "text": [
      "Select Option\n",
      "1. Addition\n",
      "2. Subtraction\n",
      "3. Multiplication\n",
      "4. Division\n",
      "Enter choice 1/2/3/41\n",
      "Enter first number:6\n",
      "Enter second number:8\n",
      "Addition of 6.0 and 8.0 is 14.0\n"
     ]
    }
   ],
   "metadata": {
    "colab": {},
    "colab_type": "code",
    "id": "7VcPOrmLDy4E",
    "outputId": "31adb3c1-11dd-4316-a355-ae44a54acf42"
   }
  },
  {
   "cell_type": "code",
   "execution_count": null,
   "source": [],
   "outputs": [],
   "metadata": {
    "colab": {},
    "colab_type": "code",
    "id": "aQZUmO9xDy4G"
   }
  }
 ],
 "metadata": {
  "colab": {
   "name": "function_types.ipynb",
   "provenance": [],
   "version": "0.3.2"
  },
  "kernelspec": {
   "display_name": "Python 3",
   "language": "python",
   "name": "python3"
  },
  "language_info": {
   "codemirror_mode": {
    "name": "ipython",
    "version": 3
   },
   "file_extension": ".py",
   "mimetype": "text/x-python",
   "name": "python",
   "nbconvert_exporter": "python",
   "pygments_lexer": "ipython3",
   "version": "3.7.4"
  }
 },
 "nbformat": 4,
 "nbformat_minor": 1
}