{
 "cells": [
  {
   "cell_type": "markdown",
   "source": [
    "# Python Functions"
   ],
   "metadata": {
    "colab_type": "text",
    "id": "W685A3V4qx1Q"
   }
  },
  {
   "cell_type": "markdown",
   "source": [
    "Function is a group of related statements that perform a specific task."
   ],
   "metadata": {
    "colab_type": "text",
    "id": "iueQVnPGqx1U"
   }
  },
  {
   "cell_type": "markdown",
   "source": [
    "Functions help break our program into smaller and modular chunks. As our program grows larger and larger, functions make it more organized and manageable.\n",
    "\n",
    "It avoids repetition and makes code reusable."
   ],
   "metadata": {
    "colab_type": "text",
    "id": "wUB2YXtBqx1X"
   }
  },
  {
   "cell_type": "markdown",
   "source": [
    "# Syntax:"
   ],
   "metadata": {
    "colab_type": "text",
    "id": "LDZ6MpTwqx1a"
   }
  },
  {
   "cell_type": "markdown",
   "source": [
    "    def function_name(parameters):\n",
    "    \n",
    "        \"\"\"\n",
    "        Doc String\n",
    "        \"\"\"\n",
    "    \n",
    "        Statement(s)"
   ],
   "metadata": {
    "colab_type": "text",
    "id": "EyqjxCEwqx1c"
   }
  },
  {
   "cell_type": "markdown",
   "source": [
    "1. keyword \"def\" marks the start of function header\n",
    "\n",
    "2. Parameters (arguments) through which we pass values to a function. These are optional\n",
    "\n",
    "3. A colon(:) to mark the end of funciton header\n",
    "\n",
    "4. Doc string describe what the function does. This is optional\n",
    "\n",
    "5. \"return\" statement to return a value from the function. This is optional"
   ],
   "metadata": {
    "colab_type": "text",
    "id": "k4qKflh4qx1e"
   }
  },
  {
   "cell_type": "markdown",
   "source": [
    "# Example:"
   ],
   "metadata": {
    "colab_type": "text",
    "id": "tHJhKoLgqx1h"
   }
  },
  {
   "cell_type": "code",
   "execution_count": 15,
   "source": [
    "def print_name(name):\r\n",
    "    \"\"\" \r\n",
    "    This function prints the name\r\n",
    "    \"\"\"\r\n",
    "    print(\"Hello \" + str(name)) "
   ],
   "outputs": [],
   "metadata": {
    "colab": {},
    "colab_type": "code",
    "id": "Y8D1p1eAqx1i"
   }
  },
  {
   "cell_type": "markdown",
   "source": [
    "# Function Call"
   ],
   "metadata": {
    "colab_type": "text",
    "id": "TDBBivd2qx1p"
   }
  },
  {
   "cell_type": "markdown",
   "source": [
    "Once we have defined a function, we can call it from anywhere"
   ],
   "metadata": {
    "colab_type": "text",
    "id": "Dseptsvoqx1q"
   }
  },
  {
   "cell_type": "code",
   "execution_count": 9,
   "source": [
    "print_name('satish')\r\n"
   ],
   "outputs": [
    {
     "output_type": "stream",
     "name": "stdout",
     "text": [
      "Hello satish\n"
     ]
    }
   ],
   "metadata": {
    "colab": {},
    "colab_type": "code",
    "id": "4CJ01FUpqx1t",
    "outputId": "183b4d32-4a77-4d0f-d475-2df249a8b621"
   }
  },
  {
   "cell_type": "markdown",
   "source": [
    "# Doc String"
   ],
   "metadata": {
    "colab_type": "text",
    "collapsed": true,
    "id": "oljIs66Jqx11"
   }
  },
  {
   "cell_type": "markdown",
   "source": [
    "The first string after the function header is called the docstring and is short for documentation string.\n"
   ],
   "metadata": {
    "colab_type": "text",
    "id": "7qnfLrtsqx12"
   }
  },
  {
   "cell_type": "markdown",
   "source": [
    "Although optional, documentation is a good programming practice, always document your code"
   ],
   "metadata": {
    "colab_type": "text",
    "id": "hQmE1qO8qx14"
   }
  },
  {
   "cell_type": "markdown",
   "source": [
    "Doc string will be written in triple quotes so that docstring can extend up to multiple lines"
   ],
   "metadata": {
    "colab_type": "text",
    "id": "HICWQwepqx15"
   }
  },
  {
   "cell_type": "code",
   "execution_count": 10,
   "source": [
    "print(print_name.__doc__) # print doc string of the function\r\n"
   ],
   "outputs": [
    {
     "output_type": "stream",
     "name": "stdout",
     "text": [
      " \n",
      "    This function prints the name\n",
      "    \n"
     ]
    }
   ],
   "metadata": {
    "colab": {},
    "colab_type": "code",
    "id": "hQCrIjvzqx18",
    "outputId": "35e42840-e897-46e0-ecf7-9ef1881534f4"
   }
  },
  {
   "cell_type": "markdown",
   "source": [
    "# return Statement"
   ],
   "metadata": {
    "colab_type": "text",
    "id": "7bXpeRMXqx2D"
   }
  },
  {
   "cell_type": "markdown",
   "source": [
    "The return statement is used to exit a function and go back to the place from where it was called."
   ],
   "metadata": {
    "colab_type": "text",
    "id": "GoR0PNUOqx2G"
   }
  },
  {
   "cell_type": "markdown",
   "source": [
    "Syntax:\n",
    "    \n",
    "    return [expression]"
   ],
   "metadata": {
    "colab_type": "text",
    "id": "XPoedgmGqx2H"
   }
  },
  {
   "cell_type": "markdown",
   "source": [
    "-> return statement can contain an expression which gets evaluated and the value is returned.\n",
    "\n",
    "-> if there is no expression in the statement or the return statement itself is not present inside a function, then the function will return None Object"
   ],
   "metadata": {
    "colab_type": "text",
    "id": "IIkX4Y1gqx2J"
   }
  },
  {
   "cell_type": "code",
   "execution_count": 11,
   "source": [
    "def get_sum(lst):\r\n",
    "    \"\"\"\r\n",
    "    This function returns the sum of all the elements in a list\r\n",
    "    \"\"\"\r\n",
    "    #initialize sum\r\n",
    "    _sum = 0\r\n",
    "    \r\n",
    "    #iterating over the list\r\n",
    "    for num in lst:\r\n",
    "        _sum += num\r\n",
    "    return _sum\r\n"
   ],
   "outputs": [],
   "metadata": {
    "colab": {},
    "colab_type": "code",
    "id": "e8JqjPNvqx2L"
   }
  },
  {
   "cell_type": "code",
   "execution_count": 12,
   "source": [
    "s = get_sum([1, 2, 3, 4])\r\n",
    "print(s)\r\n"
   ],
   "outputs": [
    {
     "output_type": "stream",
     "name": "stdout",
     "text": [
      "10\n"
     ]
    }
   ],
   "metadata": {
    "colab": {},
    "colab_type": "code",
    "id": "9tKmO0IQqx2T",
    "outputId": "c682c536-157f-449c-9e75-9568e9874636"
   }
  },
  {
   "cell_type": "code",
   "execution_count": 13,
   "source": [
    "#print doc string\r\n",
    "print(get_sum.__doc__)\r\n"
   ],
   "outputs": [
    {
     "output_type": "stream",
     "name": "stdout",
     "text": [
      "\n",
      "    This function returns the sum of all the elements in a list\n",
      "    \n"
     ]
    }
   ],
   "metadata": {
    "colab": {},
    "colab_type": "code",
    "id": "aJ2e31Jrqx2Y",
    "outputId": "c56387e6-ba8a-4428-dbb2-d8173e75649b"
   }
  },
  {
   "cell_type": "markdown",
   "source": [
    "# How Function works in Python?"
   ],
   "metadata": {
    "colab_type": "text",
    "id": "wKMztpt2qx2e"
   }
  },
  {
   "cell_type": "markdown",
   "source": [
    "![title](function_works.jpg)"
   ],
   "metadata": {
    "colab_type": "text",
    "id": "kKZtprN7qx2f"
   }
  },
  {
   "cell_type": "markdown",
   "source": [
    "# Scope and Life Time of Variables"
   ],
   "metadata": {
    "colab_type": "text",
    "id": "ngEFY7UVqx2i"
   }
  },
  {
   "cell_type": "markdown",
   "source": [
    "-> Scope of a variable is the portion of a program where the variable is recognized"
   ],
   "metadata": {
    "colab_type": "text",
    "id": "Q_2YkKBlqx2l"
   }
  },
  {
   "cell_type": "markdown",
   "source": [
    "-> variables defined inside a function is not visible from outside. Hence, they have a local scope."
   ],
   "metadata": {
    "colab_type": "text",
    "id": "wwAGJbwKqx2n"
   }
  },
  {
   "cell_type": "markdown",
   "source": [
    "-> Lifetime of a variable is the period throughout which the variable exits in the memory. \n",
    "\n",
    "-> The lifetime of variables inside a function is as long as the function executes."
   ],
   "metadata": {
    "colab_type": "text",
    "id": "oR9IZIIfqx2p"
   }
  },
  {
   "cell_type": "markdown",
   "source": [
    "-> Variables are destroyed once we return from the function. "
   ],
   "metadata": {
    "colab_type": "text",
    "id": "Sf0XTJGOqx2p"
   }
  },
  {
   "cell_type": "markdown",
   "source": [
    "# Example:"
   ],
   "metadata": {
    "colab_type": "text",
    "id": "SdCba00Uqx2r"
   }
  },
  {
   "cell_type": "code",
   "execution_count": 14,
   "source": [
    "global_var = \"This is global variable\"\r\n",
    "\r\n",
    "def test_life_time():\r\n",
    "    \"\"\"\r\n",
    "    This function test the life time of a variables\r\n",
    "    \"\"\"\r\n",
    "    local_var = \"This is local variable\"\r\n",
    "    print(local_var)       #print local variable local_var\r\n",
    "    \r\n",
    "    print(global_var)      #print global variable global_var\r\n",
    "    \r\n",
    "    \r\n",
    "\r\n",
    "#calling function\r\n",
    "test_life_time()\r\n",
    "\r\n",
    "#print global variable global_var\r\n",
    "print(global_var)\r\n",
    "\r\n",
    "#print local variable local_var\r\n",
    "print(local_var)\r\n"
   ],
   "outputs": [
    {
     "output_type": "stream",
     "name": "stdout",
     "text": [
      "This is local variable\n",
      "This is global variable\n",
      "This is global variable\n"
     ]
    },
    {
     "output_type": "error",
     "ename": "NameError",
     "evalue": "name 'local_var' is not defined",
     "traceback": [
      "\u001b[1;31m---------------------------------------------------------------------------\u001b[0m",
      "\u001b[1;31mNameError\u001b[0m                                 Traceback (most recent call last)",
      "\u001b[1;32m<ipython-input-14-42729f607629>\u001b[0m in \u001b[0;36m<module>\u001b[1;34m\u001b[0m\n\u001b[0;32m     19\u001b[0m \u001b[1;33m\u001b[0m\u001b[0m\n\u001b[0;32m     20\u001b[0m \u001b[1;31m#print local variable local_var\u001b[0m\u001b[1;33m\u001b[0m\u001b[1;33m\u001b[0m\u001b[1;33m\u001b[0m\u001b[0m\n\u001b[1;32m---> 21\u001b[1;33m \u001b[0mprint\u001b[0m\u001b[1;33m(\u001b[0m\u001b[0mlocal_var\u001b[0m\u001b[1;33m)\u001b[0m\u001b[1;33m\u001b[0m\u001b[1;33m\u001b[0m\u001b[0m\n\u001b[0m",
      "\u001b[1;31mNameError\u001b[0m: name 'local_var' is not defined"
     ]
    }
   ],
   "metadata": {
    "colab": {},
    "colab_type": "code",
    "id": "8jUaZMoiqx2r",
    "outputId": "fe6c64c2-4b9e-466d-eaf6-56938eae3a56"
   }
  },
  {
   "cell_type": "markdown",
   "source": [
    "# Python program to print Highest Common Factor (HCF) of two numbers"
   ],
   "metadata": {
    "colab_type": "text",
    "id": "m57Z9Aq1qx2z"
   }
  },
  {
   "cell_type": "code",
   "execution_count": null,
   "source": [
    "def computeHCF(a, b):\r\n",
    "    \"\"\"\r\n",
    "    Computing HCF of two numbers\r\n",
    "    \"\"\"\r\n",
    "    smaller = b if a > b else a  #consice way of writing if else statement\r\n",
    "    \r\n",
    "    hcf = 1\r\n",
    "    for i in range(1, smaller+1):\r\n",
    "        if (a % i == 0) and (b % i == 0):\r\n",
    "            hcf = i\r\n",
    "    return hcf\r\n",
    "\r\n",
    "num1 = 6\r\n",
    "num2 = 36\r\n",
    "\r\n",
    "print(\"H.C.F of {0} and {1} is: {2}\".format(num1, num2, computeHCF(num1, num2)))"
   ],
   "outputs": [
    {
     "output_type": "stream",
     "name": "stdout",
     "text": [
      "H.C.F of 6 and 36 is: 6\n"
     ]
    }
   ],
   "metadata": {
    "colab": {
     "base_uri": "https://localhost:8080/",
     "height": 54
    },
    "colab_type": "code",
    "executionInfo": {
     "elapsed": 1084,
     "status": "ok",
     "timestamp": 1544028099228,
     "user": {
      "displayName": "Applied AI Course",
      "photoUrl": "https://lh3.googleusercontent.com/-EsJzSyawCkQ/AAAAAAAAAAI/AAAAAAAAAWk/jhKHALKaHag/s64/photo.jpg",
      "userId": "06629147635963609455"
     },
     "user_tz": -330
    },
    "id": "khyxyWWBqx20",
    "outputId": "c4883331-8436-4ef8-c939-0f7bc26a6229"
   }
  },
  {
   "cell_type": "code",
   "execution_count": null,
   "source": [],
   "outputs": [],
   "metadata": {
    "colab": {},
    "colab_type": "code",
    "id": "en1Kc1Jjqx2_"
   }
  },
  {
   "cell_type": "code",
   "execution_count": null,
   "source": [],
   "outputs": [],
   "metadata": {}
  }
 ],
 "metadata": {
  "colab": {
   "name": "Functions_Introduction.ipynb",
   "provenance": [],
   "version": "0.3.2"
  },
  "kernelspec": {
   "name": "python3",
   "display_name": "Python 3.7.4 64-bit ('base': conda)"
  },
  "language_info": {
   "codemirror_mode": {
    "name": "ipython",
    "version": 3
   },
   "file_extension": ".py",
   "mimetype": "text/x-python",
   "name": "python",
   "nbconvert_exporter": "python",
   "pygments_lexer": "ipython3",
   "version": "3.7.4"
  },
  "interpreter": {
   "hash": "6aa4e563fcc316e4a45c191851d226024341c22e5279c609c01fb0b2d94cafc4"
  }
 },
 "nbformat": 4,
 "nbformat_minor": 1
}