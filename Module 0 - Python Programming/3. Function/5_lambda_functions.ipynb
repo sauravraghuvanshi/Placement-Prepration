{
 "cells": [
  {
   "cell_type": "markdown",
   "source": [
    "# Anonymous / Lambda Function"
   ],
   "metadata": {
    "colab_type": "text",
    "id": "9hwg-SFGkuwl"
   }
  },
  {
   "cell_type": "markdown",
   "source": [
    "In Python, anonymous function is a function that is defined without a name.\n",
    "\n",
    "While normal functions are defined using the def keyword, in Python anonymous functions are defined using the lambda keyword.\n",
    "\n",
    "Lambda functions are used extensively along with built-in functions like filter(), map()"
   ],
   "metadata": {
    "colab_type": "text",
    "id": "T968WlfYkuwn"
   }
  },
  {
   "cell_type": "markdown",
   "source": [
    "syntax:\n",
    "    \n",
    "    lambda arguments: expression"
   ],
   "metadata": {
    "colab_type": "text",
    "id": "W1J2Es82kuwp"
   }
  },
  {
   "cell_type": "markdown",
   "source": [
    "# Example:"
   ],
   "metadata": {
    "colab_type": "text",
    "id": "ELGfMrUQkuwq"
   }
  },
  {
   "cell_type": "code",
   "execution_count": 1,
   "source": [
    "double = lambda x: x*2\r\n",
    "\r\n",
    "print(double(5))\r\n"
   ],
   "outputs": [
    {
     "output_type": "stream",
     "name": "stdout",
     "text": [
      "10\n"
     ]
    }
   ],
   "metadata": {
    "colab": {
     "base_uri": "https://localhost:8080/",
     "height": 34
    },
    "colab_type": "code",
    "executionInfo": {
     "elapsed": 2916,
     "status": "ok",
     "timestamp": 1561901391968,
     "user": {
      "displayName": "Applied AI Course",
      "photoUrl": "https://lh3.googleusercontent.com/-EsJzSyawCkQ/AAAAAAAAAAI/AAAAAAAAEIk/w9ORR2FfvaE/s64/photo.jpg",
      "userId": "06629147635963609455"
     },
     "user_tz": -330
    },
    "id": "uPnqlXPkkuws",
    "outputId": "d7ee377f-ff25-4c45-ca42-dab7a182ea16"
   }
  },
  {
   "cell_type": "code",
   "execution_count": 2,
   "source": [
    "def double(x):\r\n",
    "    return x * 2\r\n",
    "\r\n",
    "print(double(5))\r\n"
   ],
   "outputs": [
    {
     "output_type": "stream",
     "name": "stdout",
     "text": [
      "10\n"
     ]
    }
   ],
   "metadata": {
    "colab": {
     "base_uri": "https://localhost:8080/",
     "height": 34
    },
    "colab_type": "code",
    "executionInfo": {
     "elapsed": 1237,
     "status": "ok",
     "timestamp": 1561901394909,
     "user": {
      "displayName": "Applied AI Course",
      "photoUrl": "https://lh3.googleusercontent.com/-EsJzSyawCkQ/AAAAAAAAAAI/AAAAAAAAEIk/w9ORR2FfvaE/s64/photo.jpg",
      "userId": "06629147635963609455"
     },
     "user_tz": -330
    },
    "id": "E9CTFNv9kuw4",
    "outputId": "abea0398-f992-4042-fa77-c577b9ce3324"
   }
  },
  {
   "cell_type": "code",
   "execution_count": 3,
   "source": [
    "#Example use with filter()\r\n",
    "lst = [1, 2, 3, 4, 5]\r\n",
    "even_lst = list(filter(lambda x: (x%2 == 0), lst))\r\n",
    "print(even_lst)\r\n"
   ],
   "outputs": [
    {
     "output_type": "stream",
     "name": "stdout",
     "text": [
      "[2, 4]\n"
     ]
    }
   ],
   "metadata": {
    "colab": {
     "base_uri": "https://localhost:8080/",
     "height": 34
    },
    "colab_type": "code",
    "executionInfo": {
     "elapsed": 1098,
     "status": "ok",
     "timestamp": 1561901397277,
     "user": {
      "displayName": "Applied AI Course",
      "photoUrl": "https://lh3.googleusercontent.com/-EsJzSyawCkQ/AAAAAAAAAAI/AAAAAAAAEIk/w9ORR2FfvaE/s64/photo.jpg",
      "userId": "06629147635963609455"
     },
     "user_tz": -330
    },
    "id": "aahzcZxlkuw_",
    "outputId": "bc549d06-82d1-496f-ea3a-949aa2a80361"
   }
  },
  {
   "cell_type": "code",
   "execution_count": 4,
   "source": [
    "#Example use with map()\r\n",
    "lst = [1, 2, 3, 4, 5]\r\n",
    "new_lst = list(map(lambda x: x ** 2, lst))\r\n",
    "print(new_lst)\r\n"
   ],
   "outputs": [
    {
     "output_type": "stream",
     "name": "stdout",
     "text": [
      "[1, 4, 9, 16, 25]\n"
     ]
    }
   ],
   "metadata": {
    "colab": {
     "base_uri": "https://localhost:8080/",
     "height": 34
    },
    "colab_type": "code",
    "executionInfo": {
     "elapsed": 1055,
     "status": "ok",
     "timestamp": 1561901511923,
     "user": {
      "displayName": "Applied AI Course",
      "photoUrl": "https://lh3.googleusercontent.com/-EsJzSyawCkQ/AAAAAAAAAAI/AAAAAAAAEIk/w9ORR2FfvaE/s64/photo.jpg",
      "userId": "06629147635963609455"
     },
     "user_tz": -330
    },
    "id": "F9yMVkN7kuxE",
    "outputId": "292da7a6-2e1e-4901-f2e6-378ba5c5a8c5"
   }
  },
  {
   "cell_type": "code",
   "execution_count": 5,
   "source": [
    "#Example use with reduce()\r\n",
    "from functools import reduce\r\n",
    "\r\n",
    "lst = [1, 2, 3, 4, 5]\r\n",
    "product_lst = reduce(lambda x, y: x*y, lst)\r\n",
    "print(product_lst)\r\n"
   ],
   "outputs": [
    {
     "output_type": "stream",
     "name": "stdout",
     "text": [
      "120\n"
     ]
    }
   ],
   "metadata": {
    "colab": {},
    "colab_type": "code",
    "id": "HtOP0Q31kuxM",
    "outputId": "7d8689c8-2030-4e9e-974d-cc72369a678a"
   }
  },
  {
   "cell_type": "code",
   "execution_count": null,
   "source": [],
   "outputs": [],
   "metadata": {
    "colab": {},
    "colab_type": "code",
    "id": "ijo7VPg9kuxW"
   }
  }
 ],
 "metadata": {
  "colab": {
   "name": "5_lambda_functions.ipynb",
   "provenance": [],
   "version": "0.3.2"
  },
  "kernelspec": {
   "display_name": "Python 3",
   "language": "python",
   "name": "python3"
  },
  "language_info": {
   "codemirror_mode": {
    "name": "ipython",
    "version": 3
   },
   "file_extension": ".py",
   "mimetype": "text/x-python",
   "name": "python",
   "nbconvert_exporter": "python",
   "pygments_lexer": "ipython3",
   "version": "3.7.4"
  }
 },
 "nbformat": 4,
 "nbformat_minor": 1
}