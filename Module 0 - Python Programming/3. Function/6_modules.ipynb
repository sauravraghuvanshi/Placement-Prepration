{
 "cells": [
  {
   "cell_type": "markdown",
   "source": [
    "# Modules"
   ],
   "metadata": {
    "colab_type": "text",
    "id": "NDrXKN-NHeYR"
   }
  },
  {
   "cell_type": "markdown",
   "source": [
    "Modules refer to a file containing Python statements and definitions.\n",
    "\n",
    "A file containing Python code, for e.g.: abc.py, is called a module and its module name would be \"abc\"."
   ],
   "metadata": {
    "colab_type": "text",
    "id": "i0AVpPtvHeYU"
   }
  },
  {
   "cell_type": "markdown",
   "source": [
    "We use modules to break down large programs into small manageable and organized files. Furthermore, modules provide reusability of code.\n",
    "\n",
    "We can define our most used functions in a module and import it, instead of copying their definitions into different programs."
   ],
   "metadata": {
    "colab_type": "text",
    "id": "Cncmoy9XHeYW"
   }
  },
  {
   "cell_type": "markdown",
   "source": [
    "# How to import a module?"
   ],
   "metadata": {
    "colab_type": "text",
    "id": "OMq5zEJZHeYY"
   }
  },
  {
   "cell_type": "markdown",
   "source": [
    "We use the import keyword to do this."
   ],
   "metadata": {
    "colab_type": "text",
    "id": "-BZo1veLHeYa"
   }
  },
  {
   "cell_type": "code",
   "execution_count": 26,
   "source": [
    "import example #imported example module"
   ],
   "outputs": [],
   "metadata": {
    "colab": {},
    "colab_type": "code",
    "id": "LkdtsKI-HeYb"
   }
  },
  {
   "cell_type": "markdown",
   "source": [
    "Using the module name we can access the function using dot (.) operation."
   ],
   "metadata": {
    "colab_type": "text",
    "id": "8QYfvfCiHeYh"
   }
  },
  {
   "cell_type": "code",
   "execution_count": 27,
   "source": [
    "example.add(10, 20)\r\n"
   ],
   "outputs": [
    {
     "output_type": "execute_result",
     "data": {
      "text/plain": [
       "30"
      ]
     },
     "metadata": {},
     "execution_count": 27
    }
   ],
   "metadata": {
    "colab": {},
    "colab_type": "code",
    "id": "4aS7F29GHeYk",
    "outputId": "6283c968-e7a6-4450-de6a-94abff22feff"
   }
  },
  {
   "cell_type": "markdown",
   "source": [
    "Python has a lot of standard modules available.\n",
    "\n",
    "https://docs.python.org/3/py-modindex.html "
   ],
   "metadata": {
    "colab_type": "text",
    "id": "UzrMkOH9HeYs"
   }
  },
  {
   "cell_type": "markdown",
   "source": [
    "# Examples:"
   ],
   "metadata": {
    "colab_type": "text",
    "id": "k-zR_tU7HeYs"
   }
  },
  {
   "cell_type": "code",
   "execution_count": 28,
   "source": [
    "import math\r\n",
    "print(math.pi)\r\n"
   ],
   "outputs": [
    {
     "output_type": "stream",
     "name": "stdout",
     "text": [
      "3.141592653589793\n"
     ]
    }
   ],
   "metadata": {
    "colab": {},
    "colab_type": "code",
    "id": "dRUqBrXjHeYt",
    "outputId": "add83409-8085-4540-b91b-be5580a6a8c3"
   }
  },
  {
   "cell_type": "code",
   "execution_count": 29,
   "source": [
    "import datetime\r\n",
    "datetime.datetime.now()\r\n"
   ],
   "outputs": [
    {
     "output_type": "execute_result",
     "data": {
      "text/plain": [
       "datetime.datetime(2021, 8, 8, 0, 40, 10, 596356)"
      ]
     },
     "metadata": {},
     "execution_count": 29
    }
   ],
   "metadata": {
    "colab": {},
    "colab_type": "code",
    "id": "wr-Jyr-cHeY1",
    "outputId": "438ed43d-8c18-4da3-e929-1c4c1676ba5c"
   }
  },
  {
   "cell_type": "markdown",
   "source": [
    "# import with renaming"
   ],
   "metadata": {
    "colab_type": "text",
    "id": "34mCV3oJHeY4"
   }
  },
  {
   "cell_type": "code",
   "execution_count": 30,
   "source": [
    "import math as m\r\n",
    "print(m.pi)\r\n"
   ],
   "outputs": [
    {
     "output_type": "stream",
     "name": "stdout",
     "text": [
      "3.141592653589793\n"
     ]
    }
   ],
   "metadata": {
    "colab": {},
    "colab_type": "code",
    "id": "BljTPvmRHeY5",
    "outputId": "c1213478-fa22-4cc8-cc8a-d6073e5afb1d"
   }
  },
  {
   "cell_type": "markdown",
   "source": [
    "# from...import statement"
   ],
   "metadata": {
    "colab_type": "text",
    "id": "Yck3dGWaHeY-"
   }
  },
  {
   "cell_type": "markdown",
   "source": [
    "We can import specific names form a module without importing the module as a whole."
   ],
   "metadata": {
    "colab_type": "text",
    "id": "PgxZkgecHeY_"
   }
  },
  {
   "cell_type": "code",
   "execution_count": 31,
   "source": [
    "from datetime import datetime \r\n",
    "datetime.now()\r\n"
   ],
   "outputs": [
    {
     "output_type": "execute_result",
     "data": {
      "text/plain": [
       "datetime.datetime(2021, 8, 8, 0, 40, 10, 828352)"
      ]
     },
     "metadata": {},
     "execution_count": 31
    }
   ],
   "metadata": {
    "colab": {},
    "colab_type": "code",
    "id": "SAgwJxMuHeZA",
    "outputId": "1c5c83bd-525f-483d-95dd-5813d922912b"
   }
  },
  {
   "cell_type": "markdown",
   "source": [
    "# import all names"
   ],
   "metadata": {
    "colab_type": "text",
    "id": "3FKKbMKCHeZL"
   }
  },
  {
   "cell_type": "code",
   "execution_count": 32,
   "source": [
    "from math import *\r\n",
    "print(\"Value of PI is \" + str(pi))\r\n"
   ],
   "outputs": [
    {
     "output_type": "stream",
     "name": "stdout",
     "text": [
      "Value of PI is 3.141592653589793\n"
     ]
    }
   ],
   "metadata": {
    "colab": {},
    "colab_type": "code",
    "id": "OvEe2dxZHeZM",
    "outputId": "42a14832-f267-4af1-b712-79c1d099a760"
   }
  },
  {
   "cell_type": "markdown",
   "source": [
    "# dir() built in function"
   ],
   "metadata": {
    "colab_type": "text",
    "id": "dPVCLPyQHeZR"
   }
  },
  {
   "cell_type": "markdown",
   "source": [
    "We can use the dir() function to find out names that are defined inside a module."
   ],
   "metadata": {
    "colab_type": "text",
    "id": "EPRn9wTiHeZT"
   }
  },
  {
   "cell_type": "code",
   "execution_count": 33,
   "source": [
    "dir(example)\r\n"
   ],
   "outputs": [
    {
     "output_type": "execute_result",
     "data": {
      "text/plain": [
       "['__builtins__',\n",
       " '__cached__',\n",
       " '__doc__',\n",
       " '__file__',\n",
       " '__loader__',\n",
       " '__name__',\n",
       " '__package__',\n",
       " '__spec__',\n",
       " 'add']"
      ]
     },
     "metadata": {},
     "execution_count": 33
    }
   ],
   "metadata": {
    "colab": {},
    "colab_type": "code",
    "id": "T9PeK-KxHeZX",
    "outputId": "ecdf1d42-e747-4e27-9a5a-5811ea885c97"
   }
  },
  {
   "cell_type": "code",
   "execution_count": 34,
   "source": [
    "print(example.add.__doc__)\r\n"
   ],
   "outputs": [
    {
     "output_type": "stream",
     "name": "stdout",
     "text": [
      "None\n"
     ]
    }
   ],
   "metadata": {
    "colab": {},
    "colab_type": "code",
    "id": "1vvA0aSwHeZb",
    "outputId": "61b9e1ff-5334-4103-8a62-b4e40ae61002"
   }
  }
 ],
 "metadata": {
  "colab": {
   "name": "6_modules.ipynb",
   "provenance": [],
   "version": "0.3.2"
  },
  "kernelspec": {
   "name": "python3",
   "display_name": "Python 3.7.4 64-bit ('base': conda)"
  },
  "language_info": {
   "codemirror_mode": {
    "name": "ipython",
    "version": 3
   },
   "file_extension": ".py",
   "mimetype": "text/x-python",
   "name": "python",
   "nbconvert_exporter": "python",
   "pygments_lexer": "ipython3",
   "version": "3.7.4"
  },
  "interpreter": {
   "hash": "6aa4e563fcc316e4a45c191851d226024341c22e5279c609c01fb0b2d94cafc4"
  }
 },
 "nbformat": 4,
 "nbformat_minor": 1
}