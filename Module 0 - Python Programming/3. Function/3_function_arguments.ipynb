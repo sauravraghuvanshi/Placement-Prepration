{
 "cells": [
  {
   "cell_type": "markdown",
   "source": [
    "# Function Arguments\n"
   ],
   "metadata": {}
  },
  {
   "cell_type": "code",
   "execution_count": 1,
   "source": [
    "def greet(name, msg):\r\n",
    "    \"\"\"\r\n",
    "    This function greets to person with the provided message\r\n",
    "    \"\"\"\r\n",
    "    print(\"Hello {0} , {1}\".format(name, msg))\r\n",
    "\r\n",
    "#call the function with arguments\r\n",
    "greet(\"satish\", \"Good Morning\")\r\n"
   ],
   "outputs": [
    {
     "output_type": "stream",
     "name": "stdout",
     "text": [
      "Hello satish , Good Morning\n"
     ]
    }
   ],
   "metadata": {}
  },
  {
   "cell_type": "code",
   "execution_count": 2,
   "source": [
    "#suppose if we pass one argument\r\n",
    "\r\n",
    "greet(\"satish\") #will get an error\r\n"
   ],
   "outputs": [
    {
     "output_type": "error",
     "ename": "TypeError",
     "evalue": "greet() missing 1 required positional argument: 'msg'",
     "traceback": [
      "\u001b[1;31m---------------------------------------------------------------------------\u001b[0m",
      "\u001b[1;31mTypeError\u001b[0m                                 Traceback (most recent call last)",
      "\u001b[1;32m<ipython-input-2-cf596f2e5581>\u001b[0m in \u001b[0;36m<module>\u001b[1;34m\u001b[0m\n\u001b[0;32m      1\u001b[0m \u001b[1;31m#suppose if we pass one argument\u001b[0m\u001b[1;33m\u001b[0m\u001b[1;33m\u001b[0m\u001b[1;33m\u001b[0m\u001b[0m\n\u001b[0;32m      2\u001b[0m \u001b[1;33m\u001b[0m\u001b[0m\n\u001b[1;32m----> 3\u001b[1;33m \u001b[0mgreet\u001b[0m\u001b[1;33m(\u001b[0m\u001b[1;34m\"satish\"\u001b[0m\u001b[1;33m)\u001b[0m \u001b[1;31m#will get an error\u001b[0m\u001b[1;33m\u001b[0m\u001b[1;33m\u001b[0m\u001b[0m\n\u001b[0m",
      "\u001b[1;31mTypeError\u001b[0m: greet() missing 1 required positional argument: 'msg'"
     ]
    }
   ],
   "metadata": {}
  },
  {
   "cell_type": "markdown",
   "source": [
    "# Different Forms of Arguments"
   ],
   "metadata": {}
  },
  {
   "cell_type": "markdown",
   "source": [
    "# 1. Default Arguments"
   ],
   "metadata": {}
  },
  {
   "cell_type": "markdown",
   "source": [
    "We can provide a default value to an argument by using the assignment operator (=). "
   ],
   "metadata": {}
  },
  {
   "cell_type": "code",
   "execution_count": 3,
   "source": [
    "def greet(name, msg=\"Good Morning\"):\r\n",
    "    \"\"\"\r\n",
    "    This function greets to person with the provided message\r\n",
    "    if message is not provided, it defaults to \"Good Morning\"\r\n",
    "    \"\"\"\r\n",
    "    print(\"Hello {0} , {1}\".format(name, msg))\r\n",
    "\r\n",
    "greet(\"satish\", \"Good Night\")\r\n"
   ],
   "outputs": [
    {
     "output_type": "stream",
     "name": "stdout",
     "text": [
      "Hello satish , Good Night\n"
     ]
    }
   ],
   "metadata": {}
  },
  {
   "cell_type": "code",
   "execution_count": 4,
   "source": [
    "#with out msg argument\r\n",
    "greet(\"satish\")\r\n"
   ],
   "outputs": [
    {
     "output_type": "stream",
     "name": "stdout",
     "text": [
      "Hello satish , Good Morning\n"
     ]
    }
   ],
   "metadata": {}
  },
  {
   "cell_type": "markdown",
   "source": [
    "Once we have a default argument, all the arguments to its right must also have default values."
   ],
   "metadata": {}
  },
  {
   "cell_type": "markdown",
   "source": [
    "def greet(msg=\"Good Morning\", name)   \n",
    "\n",
    "#will get a SyntaxError : non-default argument follows default argument"
   ],
   "metadata": {}
  },
  {
   "cell_type": "markdown",
   "source": [
    "# 2. Keyword Arguments"
   ],
   "metadata": {}
  },
  {
   "cell_type": "markdown",
   "source": [
    "kwargs allows you to pass keyworded variable length of arguments to a function. You should use **kwargs if you want to handle named arguments in a function"
   ],
   "metadata": {}
  },
  {
   "cell_type": "markdown",
   "source": [
    "# Example:"
   ],
   "metadata": {}
  },
  {
   "cell_type": "code",
   "execution_count": 5,
   "source": [
    "def greet(**kwargs):\r\n",
    "    \"\"\"\r\n",
    "    This function greets to person with the provided message\r\n",
    "    \"\"\"\r\n",
    "    if kwargs:\r\n",
    "        print(\"Hello {0} , {1}\".format(kwargs['name'], kwargs['msg']))\r\n",
    "greet(name=\"satish\", msg=\"Good Morning\")\r\n"
   ],
   "outputs": [
    {
     "output_type": "stream",
     "name": "stdout",
     "text": [
      "Hello satish , Good Morning\n"
     ]
    }
   ],
   "metadata": {}
  },
  {
   "cell_type": "markdown",
   "source": [
    "# 3. Arbitary Arguments"
   ],
   "metadata": {}
  },
  {
   "cell_type": "markdown",
   "source": [
    "Sometimes, we do not know in advance the number of arguments that will be passed into a function.Python allows us to handle this kind of situation through function calls with arbitrary number of arguments."
   ],
   "metadata": {}
  },
  {
   "cell_type": "markdown",
   "source": [
    "# Example:"
   ],
   "metadata": {}
  },
  {
   "cell_type": "code",
   "execution_count": 6,
   "source": [
    "def greet(*names):\r\n",
    "    \"\"\"\r\n",
    "    This function greets all persons in the names tuple \r\n",
    "    \"\"\"\r\n",
    "    print(names)\r\n",
    "    \r\n",
    "    for name in names:\r\n",
    "        print(\"Hello,  {0} \".format(name))\r\n",
    "\r\n",
    "greet(\"satish\", \"murali\", \"naveen\", \"srikanth\")\r\n"
   ],
   "outputs": [
    {
     "output_type": "stream",
     "name": "stdout",
     "text": [
      "('satish', 'murali', 'naveen', 'srikanth')\n",
      "Hello,  satish \n",
      "Hello,  murali \n",
      "Hello,  naveen \n",
      "Hello,  srikanth \n"
     ]
    }
   ],
   "metadata": {}
  },
  {
   "cell_type": "code",
   "execution_count": null,
   "source": [],
   "outputs": [],
   "metadata": {
    "collapsed": true
   }
  }
 ],
 "metadata": {
  "kernelspec": {
   "name": "python3",
   "display_name": "Python 3.7.4 64-bit ('base': conda)"
  },
  "language_info": {
   "codemirror_mode": {
    "name": "ipython",
    "version": 3
   },
   "file_extension": ".py",
   "mimetype": "text/x-python",
   "name": "python",
   "nbconvert_exporter": "python",
   "pygments_lexer": "ipython3",
   "version": "3.7.4"
  },
  "interpreter": {
   "hash": "6aa4e563fcc316e4a45c191851d226024341c22e5279c609c01fb0b2d94cafc4"
  }
 },
 "nbformat": 4,
 "nbformat_minor": 2
}