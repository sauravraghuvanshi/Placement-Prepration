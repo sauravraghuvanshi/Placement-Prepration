{
 "cells": [
  {
   "cell_type": "markdown",
   "source": [
    "# Python if ... else Statement"
   ],
   "metadata": {
    "colab_type": "text",
    "id": "I9BsPCXXefQ_"
   }
  },
  {
   "cell_type": "markdown",
   "source": [
    "The **if…elif…else** statement is used in Python for decision making."
   ],
   "metadata": {
    "colab_type": "text",
    "id": "KcH_APWeefQ_"
   }
  },
  {
   "cell_type": "markdown",
   "source": [
    "# if statement syntax"
   ],
   "metadata": {
    "colab_type": "text",
    "id": "B4c_NjAlefRA"
   }
  },
  {
   "cell_type": "markdown",
   "source": [
    "    if test expression:\n",
    "\n",
    "        statement(s)"
   ],
   "metadata": {
    "colab_type": "text",
    "id": "kJmNXz9_efRB"
   }
  },
  {
   "cell_type": "markdown",
   "source": [
    "The program evaluates the test expression and will execute statement(s) only if the text expression is True.\n",
    "\n",
    "If the text expression is False, the statement(s) is not executed."
   ],
   "metadata": {
    "colab_type": "text",
    "id": "5P8FX06GefRB"
   }
  },
  {
   "cell_type": "markdown",
   "source": [
    "Python interprets non-zero values as True. None and 0 are interpreted as False."
   ],
   "metadata": {
    "colab_type": "text",
    "id": "2j1VzC47efRD"
   }
  },
  {
   "cell_type": "markdown",
   "source": [
    "# Flow Chart"
   ],
   "metadata": {
    "colab_type": "text",
    "id": "ZoHX8fhdefRD"
   }
  },
  {
   "cell_type": "markdown",
   "source": [
    "![title](Python_if_statement.jpg)"
   ],
   "metadata": {
    "colab_type": "text",
    "id": "PAtC2WHdefRE"
   }
  },
  {
   "cell_type": "markdown",
   "source": [
    "# Example"
   ],
   "metadata": {
    "colab_type": "text",
    "id": "Q5ARdqzUefRE"
   }
  },
  {
   "cell_type": "code",
   "execution_count": 2,
   "source": [
    "num = 10\r\n",
    "\r\n",
    "# try 0, -1 and None\r\n",
    "if None:\r\n",
    "    print(\"Number is positive\")\r\n",
    "print(\"This will print always\")      #This print statement always print\r\n",
    "\r\n",
    "#change number \r\n"
   ],
   "outputs": [
    {
     "output_type": "stream",
     "name": "stdout",
     "text": [
      "This will print always\n"
     ]
    }
   ],
   "metadata": {
    "colab": {
     "autoexec": {
      "startup": false,
      "wait_interval": 0
     }
    },
    "colab_type": "code",
    "id": "6mBW6suCefRF",
    "outputId": "72e798df-efe6-44b0-a265-dcf4ed65c853"
   }
  },
  {
   "cell_type": "markdown",
   "source": [
    "# if ... else Statement"
   ],
   "metadata": {
    "colab_type": "text",
    "id": "np1GauhCefRK"
   }
  },
  {
   "cell_type": "markdown",
   "source": [
    "# Syntax:"
   ],
   "metadata": {
    "colab_type": "text",
    "id": "Y5F7zmmEefRK"
   }
  },
  {
   "cell_type": "markdown",
   "source": [
    "    if test expression:\n",
    "    \n",
    "        Body of if\n",
    "\n",
    "    else: \n",
    "    \n",
    "        Body of else"
   ],
   "metadata": {
    "colab_type": "text",
    "id": "y8jdfyhZefRL"
   }
  },
  {
   "cell_type": "markdown",
   "source": [
    "# Flow Chart"
   ],
   "metadata": {
    "colab_type": "text",
    "id": "qhlErfqoefRM"
   }
  },
  {
   "cell_type": "markdown",
   "source": [
    "![title](Python_if_else_statement.jpg)"
   ],
   "metadata": {
    "colab_type": "text",
    "id": "yZzUkQw4efRN"
   }
  },
  {
   "cell_type": "markdown",
   "source": [
    "# Example"
   ],
   "metadata": {
    "colab_type": "text",
    "id": "kJe4WdEyefRN"
   }
  },
  {
   "cell_type": "code",
   "execution_count": 2,
   "source": [
    "num = 10\r\n",
    "if num > 0:\r\n",
    "    print(\"Positive number\")\r\n",
    "else:\r\n",
    "    print(\"Negative Number\")"
   ],
   "outputs": [
    {
     "output_type": "stream",
     "name": "stdout",
     "text": [
      "Positive number\n"
     ]
    }
   ],
   "metadata": {
    "colab": {
     "autoexec": {
      "startup": false,
      "wait_interval": 0
     }
    },
    "colab_type": "code",
    "id": "pC8kDvb2efRO",
    "outputId": "bf77eac7-736c-406f-a561-c8ef8cca83c6"
   }
  },
  {
   "cell_type": "markdown",
   "source": [
    "# if...elif...else Statement"
   ],
   "metadata": {
    "colab_type": "text",
    "id": "FhL5F5DJefRR"
   }
  },
  {
   "cell_type": "markdown",
   "source": [
    "# Syntax:"
   ],
   "metadata": {
    "colab_type": "text",
    "id": "n5gOJbuUefRS"
   }
  },
  {
   "cell_type": "markdown",
   "source": [
    "    if test expression:\n",
    "\n",
    "        Body of if\n",
    "    elif test expression:\n",
    "    \n",
    "        Body of elif\n",
    "    else: \n",
    "    \n",
    "        Body of else"
   ],
   "metadata": {
    "colab_type": "text",
    "id": "NK9FpkhiefRT"
   }
  },
  {
   "cell_type": "markdown",
   "source": [
    "# Flow Chart"
   ],
   "metadata": {
    "colab_type": "text",
    "id": "TPvm-6d9efRT"
   }
  },
  {
   "cell_type": "markdown",
   "source": [
    "![title](Python_if_elif_else_statement.jpg)"
   ],
   "metadata": {
    "colab_type": "text",
    "id": "88YUH1IMefRU"
   }
  },
  {
   "cell_type": "markdown",
   "source": [
    "# Example:"
   ],
   "metadata": {
    "colab_type": "text",
    "id": "_PsCmnflefRU"
   }
  },
  {
   "cell_type": "code",
   "execution_count": 3,
   "source": [
    "num = 0\r\n",
    "\r\n",
    "if num > 0:\r\n",
    "    print(\"Positive number\")\r\n",
    "elif num == 0:\r\n",
    "    print(\"ZERO\")\r\n",
    "else:\r\n",
    "    print(\"Negative Number\")"
   ],
   "outputs": [
    {
     "output_type": "stream",
     "name": "stdout",
     "text": [
      "ZERO\n"
     ]
    }
   ],
   "metadata": {
    "colab": {
     "autoexec": {
      "startup": false,
      "wait_interval": 0
     }
    },
    "colab_type": "code",
    "id": "NgIKVa1vefRV",
    "outputId": "d8cba0f9-d26d-4163-fbf9-5aceb05b4112"
   }
  },
  {
   "cell_type": "markdown",
   "source": [
    "# Nested if Statements"
   ],
   "metadata": {
    "colab_type": "text",
    "id": "Sp98_OGyefRZ"
   }
  },
  {
   "cell_type": "markdown",
   "source": [
    "We can have a if...elif...else statement inside another if...elif...else statement. This is called nesting in computer programming."
   ],
   "metadata": {
    "colab_type": "text",
    "id": "Ss3GbcNTefRZ"
   }
  },
  {
   "cell_type": "markdown",
   "source": [
    "# Example:"
   ],
   "metadata": {
    "colab_type": "text",
    "id": "_WOwMeijefRZ"
   }
  },
  {
   "cell_type": "code",
   "execution_count": 4,
   "source": [
    "num = 10.5\r\n",
    "\r\n",
    "if num >= 0:\r\n",
    "    if num == 0:\r\n",
    "        print(\"Zero\")\r\n",
    "    else:\r\n",
    "        print(\"Positive number\")\r\n",
    "else:\r\n",
    "    print(\"Negative Number\")"
   ],
   "outputs": [
    {
     "output_type": "stream",
     "name": "stdout",
     "text": [
      "Positive number\n"
     ]
    }
   ],
   "metadata": {
    "colab": {
     "autoexec": {
      "startup": false,
      "wait_interval": 0
     }
    },
    "colab_type": "code",
    "id": "XSjHkI2RefRa",
    "outputId": "aab86f49-a9d6-4643-ec20-5a9d00df9237"
   }
  },
  {
   "cell_type": "markdown",
   "source": [
    "# Python program to find the largest element among three Numbers"
   ],
   "metadata": {
    "colab_type": "text",
    "id": "29bb4cB2efRc"
   }
  },
  {
   "cell_type": "code",
   "execution_count": 5,
   "source": [
    "num1 = 10\r\n",
    "num2 = 50\r\n",
    "num3 = 15\r\n",
    "\r\n",
    "if (num1 >= num2) and (num1 >= num3):           #logical operator   and\r\n",
    "    largest = num1\r\n",
    "elif (num2 >= num1) and (num2 >= num3):\r\n",
    "    largest = num2\r\n",
    "else:\r\n",
    "    largest = num3\r\n",
    "print(\"Largest element among three numbers is: {}\".format(largest))"
   ],
   "outputs": [
    {
     "output_type": "stream",
     "name": "stdout",
     "text": [
      "Largest element among three numbers is: 50\n"
     ]
    }
   ],
   "metadata": {
    "colab": {
     "autoexec": {
      "startup": false,
      "wait_interval": 0
     }
    },
    "colab_type": "code",
    "id": "wNkB5Fz1efRd",
    "outputId": "7f6c6563-784d-40a6-cafd-eb999ed77e2a"
   }
  },
  {
   "cell_type": "code",
   "execution_count": null,
   "source": [],
   "outputs": [],
   "metadata": {
    "colab": {
     "autoexec": {
      "startup": false,
      "wait_interval": 0
     }
    },
    "colab_type": "code",
    "id": "cjzyFKiMefRf"
   }
  }
 ],
 "metadata": {
  "colab": {
   "default_view": {},
   "name": "if-elif-else.ipynb",
   "provenance": [],
   "version": "0.3.2",
   "views": {}
  },
  "kernelspec": {
   "name": "python3",
   "display_name": "Python 3.7.4 64-bit ('base': conda)"
  },
  "language_info": {
   "codemirror_mode": {
    "name": "ipython",
    "version": 3
   },
   "file_extension": ".py",
   "mimetype": "text/x-python",
   "name": "python",
   "nbconvert_exporter": "python",
   "pygments_lexer": "ipython3",
   "version": "3.7.4"
  },
  "interpreter": {
   "hash": "6aa4e563fcc316e4a45c191851d226024341c22e5279c609c01fb0b2d94cafc4"
  }
 },
 "nbformat": 4,
 "nbformat_minor": 1
}