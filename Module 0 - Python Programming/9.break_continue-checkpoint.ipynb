{
 "cells": [
  {
   "cell_type": "markdown",
   "source": [
    "# Python break and continue Statements"
   ],
   "metadata": {}
  },
  {
   "cell_type": "markdown",
   "source": [
    "In Python, break and continue statements can alter the flow of a normal loop.\n",
    "\n",
    "Loops iterate over a block of code until test expression is false, but sometimes we wish to terminate the current iteration or even the whole loop without cheking test expression.\n",
    "\n",
    "The break and continue statements are used in these cases."
   ],
   "metadata": {}
  },
  {
   "cell_type": "markdown",
   "source": [
    "# Python break Statement"
   ],
   "metadata": {}
  },
  {
   "cell_type": "markdown",
   "source": [
    "Syntax:\n",
    "    \n",
    "    break"
   ],
   "metadata": {}
  },
  {
   "cell_type": "markdown",
   "source": [
    "![title](break.jpg)"
   ],
   "metadata": {}
  },
  {
   "cell_type": "markdown",
   "source": [
    "![title](break_works.jpg)"
   ],
   "metadata": {}
  },
  {
   "cell_type": "markdown",
   "source": [
    "# Example"
   ],
   "metadata": {}
  },
  {
   "cell_type": "code",
   "execution_count": 1,
   "source": [
    "numbers = [1, 2, 3, 4]\r\n",
    "for num in numbers:          #iterating over list\r\n",
    "    if num == 4:\r\n",
    "        break\r\n",
    "    print(num)\r\n",
    "else:\r\n",
    "    print(\"in the else-block\")\r\n",
    "print(\"Outside of for loop\")"
   ],
   "outputs": [
    {
     "output_type": "stream",
     "name": "stdout",
     "text": [
      "1\n",
      "2\n",
      "3\n",
      "Outside of for loop\n"
     ]
    }
   ],
   "metadata": {}
  },
  {
   "cell_type": "markdown",
   "source": [
    "# Python Program to check given number is Prime number or not (using break)\n"
   ],
   "metadata": {}
  },
  {
   "cell_type": "code",
   "execution_count": 1,
   "source": [
    "num = int(input(\"Enter a number: \"))        #convert string to int\r\n",
    "\r\n",
    "\r\n",
    "isDivisible = False\r\n",
    "\r\n",
    "i=2\r\n",
    "while (i < num):\r\n",
    "    if num % i == 0:\r\n",
    "        isDivisible = True\r\n",
    "        print (\"{} is divisible by {}\".format(num,i) )\r\n",
    "        break; # this line is the only addition.\r\n",
    "    i += 1\r\n",
    "    \r\n",
    "if isDivisible:\r\n",
    "    print(\"{} is NOT a Prime number\".format(num))\r\n",
    "else:\r\n",
    "    print(\"{} is a Prime number\".format(num))"
   ],
   "outputs": [
    {
     "output_type": "stream",
     "name": "stdout",
     "text": [
      "10 is divisible by 2\n",
      "10 is NOT a Prime number\n"
     ]
    }
   ],
   "metadata": {}
  },
  {
   "cell_type": "markdown",
   "source": [
    "# Python Continue Statement"
   ],
   "metadata": {}
  },
  {
   "cell_type": "markdown",
   "source": [
    "syntax:\n",
    "    \n",
    "    continue"
   ],
   "metadata": {}
  },
  {
   "cell_type": "markdown",
   "source": [
    "# Flow Chart"
   ],
   "metadata": {}
  },
  {
   "cell_type": "markdown",
   "source": [
    "![title](continue.jpg)"
   ],
   "metadata": {}
  },
  {
   "cell_type": "markdown",
   "source": [
    "![title](continue_works.jpg)"
   ],
   "metadata": {}
  },
  {
   "cell_type": "markdown",
   "source": [
    "# Example"
   ],
   "metadata": {}
  },
  {
   "cell_type": "code",
   "execution_count": 3,
   "source": [
    "#print odd numbers present in a list\r\n",
    "numbers = [1, 2, 3, 4, 5]\r\n",
    "\r\n",
    "for num in numbers:\r\n",
    "    if num % 2 == 0:\r\n",
    "        continue\r\n",
    "    print(num)\r\n",
    "else:\r\n",
    "    print(\"else-block\")"
   ],
   "outputs": [
    {
     "output_type": "stream",
     "name": "stdout",
     "text": [
      "1\n",
      "3\n",
      "5\n",
      "else-block\n"
     ]
    }
   ],
   "metadata": {}
  },
  {
   "cell_type": "code",
   "execution_count": null,
   "source": [],
   "outputs": [],
   "metadata": {}
  },
  {
   "cell_type": "code",
   "execution_count": null,
   "source": [],
   "outputs": [],
   "metadata": {}
  }
 ],
 "metadata": {
  "kernelspec": {
   "name": "python3",
   "display_name": "Python 3.7.4 64-bit ('base': conda)"
  },
  "language_info": {
   "codemirror_mode": {
    "name": "ipython",
    "version": 3
   },
   "file_extension": ".py",
   "mimetype": "text/x-python",
   "name": "python",
   "nbconvert_exporter": "python",
   "pygments_lexer": "ipython3",
   "version": "3.7.4"
  },
  "interpreter": {
   "hash": "6aa4e563fcc316e4a45c191851d226024341c22e5279c609c01fb0b2d94cafc4"
  }
 },
 "nbformat": 4,
 "nbformat_minor": 2
}