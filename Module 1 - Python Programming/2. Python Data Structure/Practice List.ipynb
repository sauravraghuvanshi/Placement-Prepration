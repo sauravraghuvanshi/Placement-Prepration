{
 "cells": [
  {
   "cell_type": "code",
   "execution_count": 1,
   "source": [
    "#list length\r\n",
    "lst = [\"one\", \"two\", \"three\", \"four\", \"five\"]\r\n",
    "print(len(lst))"
   ],
   "outputs": [
    {
     "output_type": "stream",
     "name": "stdout",
     "text": [
      "5\n"
     ]
    }
   ],
   "metadata": {}
  },
  {
   "cell_type": "code",
   "execution_count": 4,
   "source": [
    "#list insert\r\n",
    "#syntax lst.insert(x,y)\r\n",
    "lst = [\"one\", 'two', \"four\"]\r\n",
    "lst.insert(2, \"three\")\r\n",
    "print(lst)"
   ],
   "outputs": [
    {
     "output_type": "stream",
     "name": "stdout",
     "text": [
      "['one', 'two', 'three', 'four']\n"
     ]
    }
   ],
   "metadata": {}
  },
  {
   "cell_type": "code",
   "execution_count": 6,
   "source": [
    "#list remove\r\n",
    "#lst.remove(x)\r\n",
    "lst = [\"one\", \"two\", \"three\", \"four\", \"two\"]\r\n",
    "lst.remove('two')\r\n",
    "print(lst)"
   ],
   "outputs": [
    {
     "output_type": "stream",
     "name": "stdout",
     "text": [
      "['one', 'three', 'four', 'two']\n"
     ]
    }
   ],
   "metadata": {}
  },
  {
   "cell_type": "code",
   "execution_count": 7,
   "source": [
    "#List append & extend\r\n",
    "lst = [\"one\", \"two\", \"three\", \"four\"]\r\n",
    "lst2 = ['five', 'six']\r\n",
    "#extend will join the lst with lst2\r\n",
    "lst.extend(lst2)\r\n",
    "print(lst)"
   ],
   "outputs": [
    {
     "output_type": "stream",
     "name": "stdout",
     "text": [
      "['one', 'two', 'three', 'four', 'five', 'six']\n"
     ]
    }
   ],
   "metadata": {}
  },
  {
   "cell_type": "code",
   "execution_count": 8,
   "source": [
    "#list delete\r\n",
    "#del to remove item based on index position\r\n",
    "lst = ['one', 'two', 'three', 'four', 'five']\r\n",
    "del lst[1]\r\n",
    "print(lst)"
   ],
   "outputs": [
    {
     "output_type": "stream",
     "name": "stdout",
     "text": [
      "['one', 'three', 'four', 'five']\n"
     ]
    }
   ],
   "metadata": {}
  },
  {
   "cell_type": "code",
   "execution_count": 10,
   "source": [
    "#we can use pop() method\r\n",
    "a = lst.pop(2)\r\n",
    "print(a)\r\n",
    "print(lst)"
   ],
   "outputs": [
    {
     "output_type": "stream",
     "name": "stdout",
     "text": [
      "five\n",
      "['one', 'three']\n"
     ]
    }
   ],
   "metadata": {}
  },
  {
   "cell_type": "code",
   "execution_count": 11,
   "source": [
    "#List remove\r\n",
    "lst = ['one', 'two', 'three', 'four']\r\n",
    "#remove an item from list\r\n",
    "lst.remove('three')\r\n",
    "print(lst)"
   ],
   "outputs": [
    {
     "output_type": "stream",
     "name": "stdout",
     "text": [
      "['one', 'two', 'four']\n"
     ]
    }
   ],
   "metadata": {}
  },
  {
   "cell_type": "code",
   "execution_count": 12,
   "source": [
    "# List related keyword in Python\r\n",
    "# keyword 'in' is used to test if an item is in the list\r\n",
    "lst = ['one', 'two', 'three', 'four']\r\n",
    "if 'two' in lst:\r\n",
    "    print(\"two in the list\")"
   ],
   "outputs": [
    {
     "output_type": "stream",
     "name": "stdout",
     "text": [
      "two in the list\n"
     ]
    }
   ],
   "metadata": {}
  },
  {
   "cell_type": "code",
   "execution_count": 14,
   "source": [
    "#keyword 'not' can be combined 'in' \r\n",
    "if 'six' not in lst:\r\n",
    "    print('six not in lst')"
   ],
   "outputs": [
    {
     "output_type": "stream",
     "name": "stdout",
     "text": [
      "six not in lst\n"
     ]
    }
   ],
   "metadata": {}
  },
  {
   "cell_type": "code",
   "execution_count": 15,
   "source": [
    "# list reverse\r\n",
    "lst = ['one', 'two', 'three', 'four']\r\n",
    "lst.reverse()\r\n",
    "print(lst)"
   ],
   "outputs": [
    {
     "output_type": "stream",
     "name": "stdout",
     "text": [
      "['four', 'three', 'two', 'one']\n"
     ]
    }
   ],
   "metadata": {}
  },
  {
   "cell_type": "code",
   "execution_count": 16,
   "source": [
    "#list sorting\r\n",
    "numbers = [3, 1, 6, 2, 8]\r\n",
    "sorted_lst = sorted(numbers)\r\n",
    "print(\"Sorted list: \", sorted_lst)"
   ],
   "outputs": [
    {
     "output_type": "stream",
     "name": "stdout",
     "text": [
      "Sorted list:  [1, 2, 3, 6, 8]\n"
     ]
    }
   ],
   "metadata": {}
  },
  {
   "cell_type": "code",
   "execution_count": 2,
   "source": [
    "#print sorted lst in reverse order\r\n",
    "numbers = [3, 1, 6, 2, 8]\r\n",
    "print(\"Reverse sorted list: \", sorted(numbers, reverse=True))"
   ],
   "outputs": [
    {
     "output_type": "stream",
     "name": "stdout",
     "text": [
      "Reverse sorted list:  [8, 6, 3, 2, 1]\n"
     ]
    }
   ],
   "metadata": {}
  },
  {
   "cell_type": "code",
   "execution_count": 5,
   "source": [
    "#another way for sorting list\r\n",
    "lst = [1, 20, 5, 5, 20, 4.2]\r\n",
    "lst.sort()\r\n",
    "print(lst)"
   ],
   "outputs": [
    {
     "output_type": "stream",
     "name": "stdout",
     "text": [
      "[1, 4.2, 5, 5, 20, 20]\n"
     ]
    }
   ],
   "metadata": {}
  },
  {
   "cell_type": "code",
   "execution_count": 6,
   "source": [
    "# String split to create a list\r\n",
    "s = \"one, two, three, four, five\"\r\n",
    "slist = s.split()\r\n",
    "print(slist)"
   ],
   "outputs": [
    {
     "output_type": "stream",
     "name": "stdout",
     "text": [
      "['one,', 'two,', 'three,', 'four,', 'five']\n"
     ]
    }
   ],
   "metadata": {}
  },
  {
   "cell_type": "code",
   "execution_count": 8,
   "source": [
    "s = \"This is Placement Prepration Course\"\r\n",
    "splist_lst = s.split()\r\n",
    "print(splist_lst)"
   ],
   "outputs": [
    {
     "output_type": "stream",
     "name": "stdout",
     "text": [
      "['This', 'is', 'Placement', 'Prepration', 'Course']\n"
     ]
    }
   ],
   "metadata": {}
  },
  {
   "cell_type": "code",
   "execution_count": 9,
   "source": [
    "numbers = [10, 20, 30, 40, 50, 60, 70, 80]\r\n",
    "#print all numbers\r\n",
    "print(numbers[:])\r\n",
    "# print from index 0 to index 3\r\n",
    "print(numbers[0:4])"
   ],
   "outputs": [
    {
     "output_type": "stream",
     "name": "stdout",
     "text": [
      "[10, 20, 30, 40, 50, 60, 70, 80]\n",
      "[10, 20, 30, 40]\n"
     ]
    }
   ],
   "metadata": {}
  },
  {
   "cell_type": "code",
   "execution_count": 11,
   "source": [
    "# print alternative elements in a list\r\n",
    "print(numbers[::2])\r\n",
    "#print elements start from 0 through rest of the list\r\n",
    "print(numbers[2::2])"
   ],
   "outputs": [
    {
     "output_type": "stream",
     "name": "stdout",
     "text": [
      "[10, 30, 50, 70]\n",
      "[30, 50, 70]\n"
     ]
    }
   ],
   "metadata": {}
  },
  {
   "cell_type": "code",
   "execution_count": 12,
   "source": [
    "# list extend using \"+\"\r\n",
    "lst1 = [1, 2, 3, 4]\r\n",
    "lst2 = [\"verma\", \"naveen\", \"murli\", \"brahma\"]\r\n",
    "new_lst = lst1 + lst2\r\n",
    "print(new_lst)"
   ],
   "outputs": [
    {
     "output_type": "stream",
     "name": "stdout",
     "text": [
      "[1, 2, 3, 4, 'verma', 'naveen', 'murli', 'brahma']\n"
     ]
    }
   ],
   "metadata": {}
  },
  {
   "cell_type": "code",
   "execution_count": 14,
   "source": [
    "# list count\r\n",
    "numbers = [1, 2, 3, 1, 3, 4, 2.5, 3]\r\n",
    "# frequency of 1 in a list\r\n",
    "print(numbers.count(1))\r\n",
    "#frequency of 3 in a list\r\n",
    "print(numbers.count(3))"
   ],
   "outputs": [
    {
     "output_type": "stream",
     "name": "stdout",
     "text": [
      "2\n",
      "3\n"
     ]
    }
   ],
   "metadata": {}
  },
  {
   "cell_type": "code",
   "execution_count": 15,
   "source": [
    "# list looping\r\n",
    "# loop through a list\r\n",
    "lst = ['one', 'two', 'three', 'four']\r\n",
    "\r\n",
    "for ele in lst:\r\n",
    "    print(ele)"
   ],
   "outputs": [
    {
     "output_type": "stream",
     "name": "stdout",
     "text": [
      "one\n",
      "two\n",
      "three\n",
      "four\n"
     ]
    }
   ],
   "metadata": {}
  },
  {
   "cell_type": "code",
   "execution_count": 16,
   "source": [
    "# without list comprehension\r\n",
    "squares = []\r\n",
    "for i in range(10):\r\n",
    "    squares.append(i**2)\r\n",
    "print(squares)"
   ],
   "outputs": [
    {
     "output_type": "stream",
     "name": "stdout",
     "text": [
      "[0, 1, 4, 9, 16, 25, 36, 49, 64, 81]\n"
     ]
    }
   ],
   "metadata": {}
  },
  {
   "cell_type": "code",
   "execution_count": 17,
   "source": [
    "# using list comprehension\r\n",
    "squares = [i**2 for i in range(10)]\r\n",
    "print(squares)"
   ],
   "outputs": [
    {
     "output_type": "stream",
     "name": "stdout",
     "text": [
      "[0, 1, 4, 9, 16, 25, 36, 49, 64, 81]\n"
     ]
    }
   ],
   "metadata": {}
  },
  {
   "cell_type": "code",
   "execution_count": 19,
   "source": [
    "#example\r\n",
    "lst = [-10, -20, 10, 20, 50]\r\n",
    "# create a new list with vaiues doubled\r\n",
    "new_lst = [i**2 for i in lst]\r\n",
    "print(new_lst)\r\n",
    "\r\n",
    "#filter the list to execute negative numbers\r\n",
    "new_lst = [i**2 for i in lst if i>=0]\r\n",
    "print(new_lst)"
   ],
   "outputs": [
    {
     "output_type": "stream",
     "name": "stdout",
     "text": [
      "[100, 400, 100, 400, 2500]\n",
      "[100, 400, 2500]\n"
     ]
    }
   ],
   "metadata": {}
  },
  {
   "cell_type": "code",
   "execution_count": 20,
   "source": [
    "# create a list of tuples line 9number, square_of_number\r\n",
    "new_lst = [(i, i**2) for i in range(10)]\r\n",
    "print(new_lst)"
   ],
   "outputs": [
    {
     "output_type": "stream",
     "name": "stdout",
     "text": [
      "[(0, 0), (1, 1), (2, 4), (3, 9), (4, 16), (5, 25), (6, 36), (7, 49), (8, 64), (9, 81)]\n"
     ]
    }
   ],
   "metadata": {}
  },
  {
   "cell_type": "code",
   "execution_count": 26,
   "source": [
    "# nested list comprehension \r\n",
    "matrix = [\r\n",
    "    [1, 2, 3, 4],\r\n",
    "    [5, 6, 7, 8],\r\n",
    "    [9, 10, 11, 12],\r\n",
    "    [13, 14, 15, 16],\r\n",
    "    [17, 18, 19, 20]\r\n",
    "]\r\n",
    "\r\n",
    "transposed = [[row[i] for row in matrix] for i in range(4)]\r\n",
    "print(transposed)"
   ],
   "outputs": [
    {
     "output_type": "stream",
     "name": "stdout",
     "text": [
      "[[1, 5, 9, 13, 17], [2, 6, 10, 14, 18], [3, 7, 11, 15, 19], [4, 8, 12, 16, 20]]\n"
     ]
    }
   ],
   "metadata": {}
  },
  {
   "cell_type": "code",
   "execution_count": null,
   "source": [],
   "outputs": [],
   "metadata": {}
  }
 ],
 "metadata": {
  "orig_nbformat": 4,
  "language_info": {
   "name": "python",
   "version": "3.7.4",
   "mimetype": "text/x-python",
   "codemirror_mode": {
    "name": "ipython",
    "version": 3
   },
   "pygments_lexer": "ipython3",
   "nbconvert_exporter": "python",
   "file_extension": ".py"
  },
  "kernelspec": {
   "name": "python3",
   "display_name": "Python 3.7.4 64-bit ('base': conda)"
  },
  "interpreter": {
   "hash": "6aa4e563fcc316e4a45c191851d226024341c22e5279c609c01fb0b2d94cafc4"
  }
 },
 "nbformat": 4,
 "nbformat_minor": 2
}