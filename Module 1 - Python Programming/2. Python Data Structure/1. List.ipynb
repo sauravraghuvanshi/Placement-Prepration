{
 "cells": [
  {
   "cell_type": "markdown",
   "source": [
    "# Lists"
   ],
   "metadata": {
    "colab_type": "text",
    "id": "NdXy-T5zaAaF"
   }
  },
  {
   "cell_type": "markdown",
   "source": [
    "Data Structure:\n",
    "    \n",
    "A data structure is a collection of data elements (such as numbers or characters—or even other data structures) that is structured in some way, for example, by numbering the elements. The most basic data structure in Python is the \"sequence\"."
   ],
   "metadata": {
    "colab_type": "text",
    "id": "d2abr_4DaAaG"
   }
  },
  {
   "cell_type": "markdown",
   "source": [
    "-> List is one of the Sequence Data structure\n",
    "\n",
    "-> Lists are collection of items (Strings, integers or even other lists)\n",
    "\n",
    "-> Lists are enclosed in [ ]\n",
    "\n",
    "-> Each item in the list has an assigned index value.\n",
    "\n",
    "-> Each item in a list is separated by a comma\n",
    "\n",
    "-> Lists are mutable, which means they can be changed.\n"
   ],
   "metadata": {
    "colab_type": "text",
    "id": "_OkL1n_saAaI"
   }
  },
  {
   "cell_type": "markdown",
   "source": [
    "# List Creation"
   ],
   "metadata": {
    "colab_type": "text",
    "collapsed": true,
    "id": "y6E87CNkaAaI"
   }
  },
  {
   "cell_type": "code",
   "execution_count": 1,
   "source": [
    "emptyList = []\r\n",
    "\r\n",
    "lst = ['one', 'two', 'three', 'four'] # list of strings\r\n",
    "\r\n",
    "lst2 = [1, 2, 3, 4] #list of integers\r\n",
    "\r\n",
    "lst3 = [[1, 2], [3, 4]] # list of lists\r\n",
    "\r\n",
    "lst4 = [1, 'ramu', 24, 1.24] # list of different datatypes\r\n",
    "\r\n",
    "print(lst4)\r\n"
   ],
   "outputs": [
    {
     "output_type": "stream",
     "name": "stdout",
     "text": [
      "[1, 'ramu', 24, 1.24]\n"
     ]
    }
   ],
   "metadata": {
    "colab": {},
    "colab_type": "code",
    "id": "3xDIU3qfaAaJ",
    "outputId": "95be36e3-6048-4231-8b84-86ed03f92eb8"
   }
  },
  {
   "cell_type": "markdown",
   "source": [
    "# List Length"
   ],
   "metadata": {
    "colab_type": "text",
    "id": "6CEa5juJaAaP"
   }
  },
  {
   "cell_type": "code",
   "execution_count": 2,
   "source": [
    "lst = ['one', 'two', 'three', 'four']\r\n",
    "\r\n",
    "#find length of a list\r\n",
    "print(len(lst))"
   ],
   "outputs": [
    {
     "output_type": "stream",
     "name": "stdout",
     "text": [
      "4\n"
     ]
    }
   ],
   "metadata": {
    "colab": {},
    "colab_type": "code",
    "id": "ELTxkoZAaAaQ",
    "outputId": "779b1f15-3461-4704-ebd3-5b587166297e"
   }
  },
  {
   "cell_type": "markdown",
   "source": [
    "# List Append"
   ],
   "metadata": {
    "colab_type": "text",
    "id": "BWtzSHqEaAaT"
   }
  },
  {
   "cell_type": "code",
   "execution_count": 3,
   "source": [
    "lst = ['one', 'two', 'three', 'four']\r\n",
    "\r\n",
    "lst.append('five') # append will add the item at the end\r\n",
    "\r\n",
    "print(lst)"
   ],
   "outputs": [
    {
     "output_type": "stream",
     "name": "stdout",
     "text": [
      "['one', 'two', 'three', 'four', 'five']\n"
     ]
    }
   ],
   "metadata": {
    "colab": {},
    "colab_type": "code",
    "id": "lgxkiUKRaAaU",
    "outputId": "eb163944-cceb-4943-8494-f879111f1773"
   }
  },
  {
   "cell_type": "markdown",
   "source": [
    "# List Insert"
   ],
   "metadata": {
    "colab_type": "text",
    "id": "Yk3hugoCaAaX"
   }
  },
  {
   "cell_type": "code",
   "execution_count": 4,
   "source": [
    "#syntax: lst.insert(x, y) \r\n",
    "\r\n",
    "lst = ['one', 'two', 'four']\r\n",
    "\r\n",
    "lst.insert(2, \"three\") # will add element y at location x\r\n",
    "\r\n",
    "print(lst)"
   ],
   "outputs": [
    {
     "output_type": "stream",
     "name": "stdout",
     "text": [
      "['one', 'two', 'three', 'four']\n"
     ]
    }
   ],
   "metadata": {
    "colab": {},
    "colab_type": "code",
    "id": "hxFmwInfaAaY",
    "outputId": "40675a3c-2fb6-42e1-d4f1-fc5cc518a1ed"
   }
  },
  {
   "cell_type": "markdown",
   "source": [
    "# List Remove"
   ],
   "metadata": {
    "colab_type": "text",
    "id": "YcGKZ45BaAab"
   }
  },
  {
   "cell_type": "code",
   "execution_count": 5,
   "source": [
    "#syntax: lst.remove(x) \r\n",
    "\r\n",
    "lst = ['one', 'two', 'three', 'four', 'two']\r\n",
    "\r\n",
    "lst.remove('two') #it will remove first occurence of 'two' in a given list\r\n",
    "\r\n",
    "print(lst)"
   ],
   "outputs": [
    {
     "output_type": "stream",
     "name": "stdout",
     "text": [
      "['one', 'three', 'four', 'two']\n"
     ]
    }
   ],
   "metadata": {
    "colab": {},
    "colab_type": "code",
    "id": "Qz9E9r6IaAac",
    "outputId": "fcdf5357-8ebb-491d-8fa9-bf0d7e45011d"
   }
  },
  {
   "cell_type": "markdown",
   "source": [
    "# List Append & Extend"
   ],
   "metadata": {
    "colab_type": "text",
    "id": "gP3lb_hlaAai"
   }
  },
  {
   "cell_type": "code",
   "execution_count": 6,
   "source": [
    "lst = ['one', 'two', 'three', 'four']\r\n",
    "\r\n",
    "lst2 = ['five', 'six']\r\n",
    "\r\n",
    "#append \r\n",
    "lst.append(lst2)\r\n",
    "\r\n",
    "print(lst)"
   ],
   "outputs": [
    {
     "output_type": "stream",
     "name": "stdout",
     "text": [
      "['one', 'two', 'three', 'four', ['five', 'six']]\n"
     ]
    }
   ],
   "metadata": {
    "colab": {},
    "colab_type": "code",
    "id": "AhQZ_S5WaAaj",
    "outputId": "3e023a9c-0291-4264-8c49-3d32d2a685e9"
   }
  },
  {
   "cell_type": "code",
   "execution_count": 7,
   "source": [
    "lst = ['one', 'two', 'three', 'four']\r\n",
    "\r\n",
    "lst2 = ['five', 'six']\r\n",
    "\r\n",
    "#extend will join the list with list1\r\n",
    "\r\n",
    "lst.extend(lst2)\r\n",
    "\r\n",
    "print(lst)"
   ],
   "outputs": [
    {
     "output_type": "stream",
     "name": "stdout",
     "text": [
      "['one', 'two', 'three', 'four', 'five', 'six']\n"
     ]
    }
   ],
   "metadata": {
    "colab": {},
    "colab_type": "code",
    "id": "-eDRYerEaAan",
    "outputId": "dc992ec1-df5e-4190-c096-8f7b9e3b889c"
   }
  },
  {
   "cell_type": "markdown",
   "source": [
    "# List Delete"
   ],
   "metadata": {
    "colab_type": "text",
    "id": "HRsgFVblaAar"
   }
  },
  {
   "cell_type": "code",
   "execution_count": 1,
   "source": [
    "#del to remove item based on index position\r\n",
    "\r\n",
    "lst = ['one', 'two', 'three', 'four', 'five']\r\n",
    "\r\n",
    "del lst[1]\r\n",
    "print(lst)\r\n",
    "\r\n",
    "#or we can use pop() method\r\n",
    "a = lst.pop(2)\r\n",
    "print(a)\r\n",
    "\r\n",
    "print(lst)"
   ],
   "outputs": [
    {
     "output_type": "stream",
     "name": "stdout",
     "text": [
      "['one', 'three', 'four', 'five']\n",
      "four\n",
      "['one', 'three', 'five']\n"
     ]
    }
   ],
   "metadata": {
    "colab": {},
    "colab_type": "code",
    "id": "E0TcvgzCaAas",
    "outputId": "6337a874-61a3-495a-9d07-8eebe66def35"
   }
  },
  {
   "cell_type": "code",
   "execution_count": 9,
   "source": [
    "lst = ['one', 'two', 'three', 'four']\r\n",
    "\r\n",
    "#remove an item from list\r\n",
    "lst.remove('three')\r\n",
    "\r\n",
    "print(lst)"
   ],
   "outputs": [
    {
     "output_type": "stream",
     "name": "stdout",
     "text": [
      "['one', 'two', 'four']\n"
     ]
    }
   ],
   "metadata": {
    "colab": {},
    "colab_type": "code",
    "id": "QZy8YqvraAav",
    "outputId": "41c18ac6-f55f-4a81-f949-8af520202363"
   }
  },
  {
   "cell_type": "markdown",
   "source": [
    "# List realted keywords in Python"
   ],
   "metadata": {
    "colab_type": "text",
    "id": "B3taZUwqaAax"
   }
  },
  {
   "cell_type": "code",
   "execution_count": 10,
   "source": [
    "#keyword 'in' is used to test if an item is in a list\r\n",
    "lst = ['one', 'two', 'three', 'four']\r\n",
    "\r\n",
    "if 'two' in lst:\r\n",
    "    print('AI')\r\n",
    "\r\n",
    "#keyword 'not' can combined with 'in'\r\n",
    "if 'six' not in lst:\r\n",
    "    print('ML')"
   ],
   "outputs": [
    {
     "output_type": "stream",
     "name": "stdout",
     "text": [
      "AI\n",
      "ML\n"
     ]
    }
   ],
   "metadata": {
    "colab": {},
    "colab_type": "code",
    "id": "KnvMpRFCaAay",
    "outputId": "0645c347-1c9c-44e4-aacb-20649a09234f"
   }
  },
  {
   "cell_type": "markdown",
   "source": [
    "# List Reverse"
   ],
   "metadata": {
    "colab_type": "text",
    "id": "ikBpRbI9aAa2"
   }
  },
  {
   "cell_type": "code",
   "execution_count": 11,
   "source": [
    "#reverse is reverses the entire list\r\n",
    "\r\n",
    "lst = ['one', 'two', 'three', 'four']\r\n",
    "\r\n",
    "lst.reverse()\r\n",
    "\r\n",
    "print(lst)"
   ],
   "outputs": [
    {
     "output_type": "stream",
     "name": "stdout",
     "text": [
      "['four', 'three', 'two', 'one']\n"
     ]
    }
   ],
   "metadata": {
    "colab": {},
    "colab_type": "code",
    "id": "RQqzW-mEaAa3",
    "outputId": "781e6007-4649-4640-adde-8f4afde602d6"
   }
  },
  {
   "cell_type": "markdown",
   "source": [
    "# List Sorting"
   ],
   "metadata": {
    "colab_type": "text",
    "id": "o9lI--gRaAa7"
   }
  },
  {
   "cell_type": "markdown",
   "source": [
    "The easiest way to sort a List is with the sorted(list) function. \n",
    "\n",
    "That takes a list and returns a new list with those elements in sorted order. \n",
    "\n",
    "The original list is not changed. \n",
    "\n",
    "The sorted() optional argument reverse=True, e.g. sorted(list, reverse=True), \n",
    "makes it sort backwards."
   ],
   "metadata": {
    "colab_type": "text",
    "id": "lUTiW5mcaAa8"
   }
  },
  {
   "cell_type": "code",
   "execution_count": 12,
   "source": [
    "#create a list with numbers\r\n",
    "numbers = [3, 1, 6, 2, 8]\r\n",
    "\r\n",
    "sorted_lst = sorted(numbers)\r\n",
    "\r\n",
    "\r\n",
    "print(\"Sorted list :\", sorted_lst)\r\n",
    "\r\n",
    "#original list remain unchanged\r\n",
    "print(\"Original list: \", numbers)"
   ],
   "outputs": [
    {
     "output_type": "stream",
     "name": "stdout",
     "text": [
      "Sorted list : [1, 2, 3, 6, 8]\n",
      "Original list:  [3, 1, 6, 2, 8]\n"
     ]
    }
   ],
   "metadata": {
    "colab": {},
    "colab_type": "code",
    "id": "LegBovHtaAa9",
    "outputId": "ce14fea3-fbd0-4858-b19d-f4066e000ee5"
   }
  },
  {
   "cell_type": "code",
   "execution_count": 13,
   "source": [
    "#print a list in reverse sorted order\r\n",
    "print(\"Reverse sorted list :\", sorted(numbers, reverse=True))\r\n",
    "\r\n",
    "#orginal list remain unchanged\r\n",
    "print(\"Original list :\",  numbers)"
   ],
   "outputs": [
    {
     "output_type": "stream",
     "name": "stdout",
     "text": [
      "Reverse sorted list : [8, 6, 3, 2, 1]\n",
      "Original list : [3, 1, 6, 2, 8]\n"
     ]
    }
   ],
   "metadata": {
    "colab": {},
    "colab_type": "code",
    "id": "qT_4cI63aAbB",
    "outputId": "c67d0b88-24c6-4cd4-c63e-7d64ae66c5c3"
   }
  },
  {
   "cell_type": "code",
   "execution_count": 14,
   "source": [
    "lst = [1, 20, 5, 5, 4.2]\r\n",
    "\r\n",
    "#sort the list and stored in itself\r\n",
    "lst.sort()\r\n",
    "\r\n",
    "# add element 'a' to the list to show an error\r\n",
    "\r\n",
    "print(\"Sorted list: \", lst)"
   ],
   "outputs": [
    {
     "output_type": "stream",
     "name": "stdout",
     "text": [
      "Sorted list:  [1, 4.2, 5, 5, 20]\n"
     ]
    }
   ],
   "metadata": {
    "colab": {},
    "colab_type": "code",
    "id": "7YLaz7thaAbF",
    "outputId": "ed2b0657-3ddb-4390-8f3f-0a4c8c34db77"
   }
  },
  {
   "cell_type": "code",
   "execution_count": 16,
   "source": [
    "lst = [1, 20, 'b', 5, 'a']\r\n",
    "print(lst.sort()) # sort list with element of different datatypes is not possible.\r\n"
   ],
   "outputs": [
    {
     "output_type": "error",
     "ename": "TypeError",
     "evalue": "'<' not supported between instances of 'str' and 'int'",
     "traceback": [
      "\u001b[1;31m---------------------------------------------------------------------------\u001b[0m",
      "\u001b[1;31mTypeError\u001b[0m                                 Traceback (most recent call last)",
      "\u001b[1;32m<ipython-input-16-ef09162c432d>\u001b[0m in \u001b[0;36m<module>\u001b[1;34m\u001b[0m\n\u001b[0;32m      1\u001b[0m \u001b[0mlst\u001b[0m \u001b[1;33m=\u001b[0m \u001b[1;33m[\u001b[0m\u001b[1;36m1\u001b[0m\u001b[1;33m,\u001b[0m \u001b[1;36m20\u001b[0m\u001b[1;33m,\u001b[0m \u001b[1;34m'b'\u001b[0m\u001b[1;33m,\u001b[0m \u001b[1;36m5\u001b[0m\u001b[1;33m,\u001b[0m \u001b[1;34m'a'\u001b[0m\u001b[1;33m]\u001b[0m\u001b[1;33m\u001b[0m\u001b[1;33m\u001b[0m\u001b[0m\n\u001b[1;32m----> 2\u001b[1;33m \u001b[0mprint\u001b[0m\u001b[1;33m(\u001b[0m\u001b[0mlst\u001b[0m\u001b[1;33m.\u001b[0m\u001b[0msort\u001b[0m\u001b[1;33m(\u001b[0m\u001b[1;33m)\u001b[0m\u001b[1;33m)\u001b[0m \u001b[1;31m# sort list with element of different datatypes is not possible.\u001b[0m\u001b[1;33m\u001b[0m\u001b[1;33m\u001b[0m\u001b[0m\n\u001b[0m",
      "\u001b[1;31mTypeError\u001b[0m: '<' not supported between instances of 'str' and 'int'"
     ]
    }
   ],
   "metadata": {
    "colab": {},
    "colab_type": "code",
    "id": "WfPzBE_-aAbI",
    "outputId": "bbbf76f2-169f-4875-953b-d224feb0f0c5"
   }
  },
  {
   "cell_type": "markdown",
   "source": [
    "# List Having Multiple References"
   ],
   "metadata": {
    "colab_type": "text",
    "id": "eI34dleeaAbK"
   }
  },
  {
   "cell_type": "code",
   "execution_count": 17,
   "source": [
    "lst = [1, 2, 3, 4, 5]\r\n",
    "abc = lst\r\n",
    "abc.append(6)\r\n",
    "\r\n",
    "#print original list\r\n",
    "print(\"Original list: \", lst)"
   ],
   "outputs": [
    {
     "output_type": "stream",
     "name": "stdout",
     "text": [
      "Original list:  [1, 2, 3, 4, 5, 6]\n"
     ]
    }
   ],
   "metadata": {
    "colab": {},
    "colab_type": "code",
    "id": "BcmPLhR6aAbM",
    "outputId": "bdfc1ccb-6af9-416a-c1a3-53823789de67"
   }
  },
  {
   "cell_type": "markdown",
   "source": [
    "# String Split to create a list"
   ],
   "metadata": {
    "colab_type": "text",
    "id": "nsmc6A1YaAbP"
   }
  },
  {
   "cell_type": "code",
   "execution_count": 18,
   "source": [
    "#let's take a string\r\n",
    "\r\n",
    "s = \"one,two,three,four,five\"\r\n",
    "slst = s.split(',')\r\n",
    "print(slst)"
   ],
   "outputs": [
    {
     "output_type": "stream",
     "name": "stdout",
     "text": [
      "['one', 'two', 'three', 'four', 'five']\n"
     ]
    }
   ],
   "metadata": {
    "colab": {},
    "colab_type": "code",
    "id": "YPLVh4TjaAbP",
    "outputId": "dc4b1445-3c8b-4aff-892b-cb1306c36499",
    "scrolled": true
   }
  },
  {
   "cell_type": "code",
   "execution_count": 19,
   "source": [
    "s = \"This is applied AI Course\"\r\n",
    "split_lst = s.split() # default split is white-character: space or tab\r\n",
    "print(split_lst)"
   ],
   "outputs": [
    {
     "output_type": "stream",
     "name": "stdout",
     "text": [
      "['This', 'is', 'applied', 'AI', 'Course']\n"
     ]
    }
   ],
   "metadata": {
    "colab": {},
    "colab_type": "code",
    "id": "PBYLi_UjaAbS",
    "outputId": "222b6691-9adf-4194-b9c9-c3acb65b5509"
   }
  },
  {
   "cell_type": "markdown",
   "source": [
    "# List Indexing"
   ],
   "metadata": {
    "colab_type": "text",
    "id": "i0FJbejqaAbU"
   }
  },
  {
   "cell_type": "markdown",
   "source": [
    "Each item in the list has an assigned index value starting from 0.\n",
    "\n",
    "Accessing elements in a list is called indexing."
   ],
   "metadata": {
    "colab_type": "text",
    "id": "_ZJom4VxaAbW"
   }
  },
  {
   "cell_type": "code",
   "execution_count": 20,
   "source": [
    "lst = [1, 2, 3, 4]\r\n",
    "print(lst[1]) #print second element\r\n",
    "\r\n",
    "#print last element using negative index\r\n",
    "print(lst[-2])"
   ],
   "outputs": [
    {
     "output_type": "stream",
     "name": "stdout",
     "text": [
      "2\n",
      "3\n"
     ]
    }
   ],
   "metadata": {
    "colab": {},
    "colab_type": "code",
    "id": "_vYi0oRbaAbW",
    "outputId": "359ac752-72c9-47c3-df99-ffff292a088d"
   }
  },
  {
   "cell_type": "markdown",
   "source": [
    "# List Slicing"
   ],
   "metadata": {
    "colab_type": "text",
    "id": "ihTfiGnGaAba"
   }
  },
  {
   "cell_type": "markdown",
   "source": [
    "Accessing parts of segments is called slicing. \n",
    "\n",
    "The key point to remember is that the :end value represents the first value that \n",
    "is not in the selected slice. "
   ],
   "metadata": {
    "colab_type": "text",
    "id": "HJ6BnCxJaAba"
   }
  },
  {
   "cell_type": "code",
   "execution_count": 21,
   "source": [
    "numbers = [10, 20, 30, 40, 50,60,70,80]\r\n",
    "\r\n",
    "#print all numbers\r\n",
    "print(numbers[:]) \r\n",
    "\r\n",
    "#print from index 0 to index 3\r\n",
    "print(numbers[0:4])\r\n"
   ],
   "outputs": [
    {
     "output_type": "stream",
     "name": "stdout",
     "text": [
      "[10, 20, 30, 40, 50, 60, 70, 80]\n",
      "[10, 20, 30, 40]\n"
     ]
    }
   ],
   "metadata": {
    "colab": {},
    "colab_type": "code",
    "id": "yadzqSHAaAbc",
    "outputId": "89b39b80-69a2-4f01-9436-bbe9bf2b4f05"
   }
  },
  {
   "cell_type": "code",
   "execution_count": 22,
   "source": [
    "print (numbers)\r\n",
    "#print alternate elements in a list\r\n",
    "print(numbers[::2])\r\n",
    "\r\n",
    "\r\n",
    "#print elemnts start from 0 through rest of the list\r\n",
    "print(numbers[2::2])\r\n"
   ],
   "outputs": [
    {
     "output_type": "stream",
     "name": "stdout",
     "text": [
      "[10, 20, 30, 40, 50, 60, 70, 80]\n",
      "[10, 30, 50, 70]\n",
      "[30, 50, 70]\n"
     ]
    }
   ],
   "metadata": {
    "colab": {},
    "colab_type": "code",
    "id": "ESlZQ2aNaAbf",
    "outputId": "b62f05e9-031d-40de-d785-043d59160e45"
   }
  },
  {
   "cell_type": "markdown",
   "source": [
    "# List extend using \"+\""
   ],
   "metadata": {
    "colab_type": "text",
    "id": "69BXgb4YaAbh"
   }
  },
  {
   "cell_type": "code",
   "execution_count": 23,
   "source": [
    "lst1 = [1, 2, 3, 4]\r\n",
    "lst2 = ['varma', 'naveen', 'murali', 'brahma']\r\n",
    "new_lst = lst1 + lst2\r\n",
    "\r\n",
    "print(new_lst)"
   ],
   "outputs": [
    {
     "output_type": "stream",
     "name": "stdout",
     "text": [
      "[1, 2, 3, 4, 'varma', 'naveen', 'murali', 'brahma']\n"
     ]
    }
   ],
   "metadata": {
    "colab": {},
    "colab_type": "code",
    "id": "paZsLKU7aAbh",
    "outputId": "4882a753-1daa-4357-c02c-d1c889ace73f"
   }
  },
  {
   "cell_type": "markdown",
   "source": [
    "# List Count"
   ],
   "metadata": {
    "colab_type": "text",
    "id": "zR8AY0YCaAbk"
   }
  },
  {
   "cell_type": "code",
   "execution_count": 24,
   "source": [
    "numbers = [1, 2, 3, 1, 3, 4, 2, 5]\r\n",
    "\r\n",
    "#frequency of 1 in a list\r\n",
    "print(numbers.count(1))\r\n",
    "\r\n",
    "#frequency of 3 in a list\r\n",
    "print(numbers.count(3))"
   ],
   "outputs": [
    {
     "output_type": "stream",
     "name": "stdout",
     "text": [
      "2\n",
      "2\n"
     ]
    }
   ],
   "metadata": {
    "colab": {},
    "colab_type": "code",
    "id": "xLWcn0TcaAbl",
    "outputId": "ba7168f7-a97f-45d7-b123-38df8cc7c1ae"
   }
  },
  {
   "cell_type": "markdown",
   "source": [
    "# List Looping"
   ],
   "metadata": {
    "colab_type": "text",
    "id": "Ttuq4WbPaAbn"
   }
  },
  {
   "cell_type": "code",
   "execution_count": 25,
   "source": [
    "#loop through a list\r\n",
    "\r\n",
    "lst = ['one', 'two', 'three', 'four']\r\n",
    "\r\n",
    "for ele in lst:\r\n",
    "    print(ele)"
   ],
   "outputs": [
    {
     "output_type": "stream",
     "name": "stdout",
     "text": [
      "one\n",
      "two\n",
      "three\n",
      "four\n"
     ]
    }
   ],
   "metadata": {
    "colab": {},
    "colab_type": "code",
    "id": "gGBIUhMvaAbn",
    "outputId": "b09c4261-5dd9-4bf0-f94f-a0590670d7cf"
   }
  },
  {
   "cell_type": "markdown",
   "source": [
    "# List Comprehensions"
   ],
   "metadata": {
    "colab_type": "text",
    "id": "-EZO9D31aAbq"
   }
  },
  {
   "cell_type": "markdown",
   "source": [
    "List comprehensions provide a concise way to create lists. \n",
    "\n",
    "Common applications are to make new lists where each element is the result of some operations applied to each member of another sequence or iterable, or to create a subsequence of those elements that satisfy a certain condition."
   ],
   "metadata": {
    "colab_type": "text",
    "id": "y8DXRBM_aAbq"
   }
  },
  {
   "cell_type": "code",
   "execution_count": 26,
   "source": [
    "# without list comprehension\r\n",
    "squares = []\r\n",
    "for i in range(10):\r\n",
    "    squares.append(i**2)   #list append\r\n",
    "print(squares)"
   ],
   "outputs": [
    {
     "output_type": "stream",
     "name": "stdout",
     "text": [
      "[0, 1, 4, 9, 16, 25, 36, 49, 64, 81]\n"
     ]
    }
   ],
   "metadata": {
    "colab": {},
    "colab_type": "code",
    "id": "-rHP7zw_aAbr",
    "outputId": "5adc1c49-9633-47bb-a83a-bf144dd1bbbb"
   }
  },
  {
   "cell_type": "code",
   "execution_count": 27,
   "source": [
    "#using list comprehension\r\n",
    "squares = [i**2 for i in range(10)]\r\n",
    "print(squares)"
   ],
   "outputs": [
    {
     "output_type": "stream",
     "name": "stdout",
     "text": [
      "[0, 1, 4, 9, 16, 25, 36, 49, 64, 81]\n"
     ]
    }
   ],
   "metadata": {
    "colab": {},
    "colab_type": "code",
    "id": "CS6fvT8daAbu",
    "outputId": "87959059-b9d0-41bc-bb7d-3e9f3ed14995"
   }
  },
  {
   "cell_type": "code",
   "execution_count": 28,
   "source": [
    "#example\r\n",
    "\r\n",
    "lst = [-10, -20, 10, 20, 50]\r\n",
    "\r\n",
    "#create a new list with values doubled\r\n",
    "new_lst = [i*2 for i in lst]\r\n",
    "print(new_lst)\r\n",
    "\r\n",
    "#filter the list to exclude negative numbers\r\n",
    "new_lst = [i for i in lst if i >= 0]\r\n",
    "print(new_lst)\r\n",
    "\r\n",
    "\r\n",
    "#create a list of tuples like (number, square_of_number)\r\n",
    "new_lst = [(i, i**2) for i in range(10)]\r\n",
    "print(new_lst)"
   ],
   "outputs": [
    {
     "output_type": "stream",
     "name": "stdout",
     "text": [
      "[-20, -40, 20, 40, 100]\n",
      "[10, 20, 50]\n",
      "[(0, 0), (1, 1), (2, 4), (3, 9), (4, 16), (5, 25), (6, 36), (7, 49), (8, 64), (9, 81)]\n"
     ]
    }
   ],
   "metadata": {
    "colab": {},
    "colab_type": "code",
    "id": "N-v4Y9KDaAbw",
    "outputId": "f13d09a5-f6fd-41f7-b6d0-2af43f040afd"
   }
  },
  {
   "cell_type": "markdown",
   "source": [
    "# Nested List Comprehensions"
   ],
   "metadata": {
    "colab_type": "text",
    "id": "Sp6JeODZaAb5"
   }
  },
  {
   "cell_type": "code",
   "execution_count": 29,
   "source": [
    "#let's suppose we have a matrix\r\n",
    "\r\n",
    "matrix = [\r\n",
    "    [1, 2, 3, 4],\r\n",
    "    [5, 6, 7, 8],\r\n",
    "    [9, 10, 11, 12]\r\n",
    "]\r\n",
    "\r\n",
    "#transpose of a matrix without list comprehension\r\n",
    "transposed = []\r\n",
    "for i in range(4):\r\n",
    "    lst = []\r\n",
    "    for row in matrix:\r\n",
    "        lst.append(row[i])\r\n",
    "    transposed.append(lst)\r\n",
    "\r\n",
    "print(transposed)\r\n"
   ],
   "outputs": [
    {
     "output_type": "stream",
     "name": "stdout",
     "text": [
      "[[1, 5, 9], [2, 6, 10], [3, 7, 11], [4, 8, 12]]\n"
     ]
    }
   ],
   "metadata": {
    "colab": {},
    "colab_type": "code",
    "id": "I7FzVx3CaAb5",
    "outputId": "20d171d1-25eb-4f5d-b01f-30639b8e0df6"
   }
  },
  {
   "cell_type": "code",
   "execution_count": 30,
   "source": [
    "#with list comprehension\r\n",
    "transposed = [[row[i] for row in matrix] for i in range(4)]\r\n",
    "print(transposed)"
   ],
   "outputs": [
    {
     "output_type": "stream",
     "name": "stdout",
     "text": [
      "[[1, 5, 9], [2, 6, 10], [3, 7, 11], [4, 8, 12]]\n"
     ]
    }
   ],
   "metadata": {
    "colab": {},
    "colab_type": "code",
    "id": "bc0Ij-kaaAb8",
    "outputId": "1005a34e-8982-46ab-9357-f7be29e16f61"
   }
  },
  {
   "cell_type": "code",
   "execution_count": null,
   "source": [],
   "outputs": [],
   "metadata": {
    "colab": {},
    "colab_type": "code",
    "id": "__DT4BWEaAb_"
   }
  },
  {
   "cell_type": "code",
   "execution_count": null,
   "source": [],
   "outputs": [],
   "metadata": {}
  }
 ],
 "metadata": {
  "colab": {
   "name": "2.1.ipynb",
   "provenance": [],
   "version": "0.3.2"
  },
  "kernelspec": {
   "name": "python3",
   "display_name": "Python 3.7.4 64-bit ('base': conda)"
  },
  "language_info": {
   "codemirror_mode": {
    "name": "ipython",
    "version": 3
   },
   "file_extension": ".py",
   "mimetype": "text/x-python",
   "name": "python",
   "nbconvert_exporter": "python",
   "pygments_lexer": "ipython3",
   "version": "3.7.4"
  },
  "interpreter": {
   "hash": "6aa4e563fcc316e4a45c191851d226024341c22e5279c609c01fb0b2d94cafc4"
  }
 },
 "nbformat": 4,
 "nbformat_minor": 1
}