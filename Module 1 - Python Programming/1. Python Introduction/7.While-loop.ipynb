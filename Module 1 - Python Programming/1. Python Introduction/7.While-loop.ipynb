{
 "cells": [
  {
   "cell_type": "markdown",
   "source": [
    "# Python while Loop"
   ],
   "metadata": {
    "colab_type": "text",
    "id": "07ksljDtKAHa"
   }
  },
  {
   "cell_type": "markdown",
   "source": [
    "The while loop in Python is used to iterate over a block of code as long as the test expression (condition) is true.\n",
    "\n"
   ],
   "metadata": {
    "colab_type": "text",
    "id": "2OItOHUHKAHb"
   }
  },
  {
   "cell_type": "markdown",
   "source": [
    "# Syntax:"
   ],
   "metadata": {
    "colab_type": "text",
    "id": "WWLJzdWHKAHc"
   }
  },
  {
   "cell_type": "markdown",
   "source": [
    "    while test_expression:\n",
    "        \n",
    "        Body of while"
   ],
   "metadata": {
    "colab_type": "text",
    "id": "lnGzbA0QKAHd"
   }
  },
  {
   "cell_type": "markdown",
   "source": [
    "The body of the loop is entered only if the test_expression evaluates to True. \n",
    "\n",
    "After one iteration, the test expression is checked again. \n",
    "\n",
    "This process continues until the test_expression evaluates to False."
   ],
   "metadata": {
    "colab_type": "text",
    "id": "Ado-uFWRKAHf"
   }
  },
  {
   "cell_type": "markdown",
   "source": [
    "# Flow Chart"
   ],
   "metadata": {
    "colab_type": "text",
    "id": "ney6zqygKAHf"
   }
  },
  {
   "cell_type": "markdown",
   "source": [
    "![title](whileloop.jpg)"
   ],
   "metadata": {
    "colab_type": "text",
    "id": "F9ALpRDlKAHg"
   }
  },
  {
   "cell_type": "markdown",
   "source": [
    "# Example"
   ],
   "metadata": {
    "colab_type": "text",
    "id": "x5K-OhLWKAHh"
   }
  },
  {
   "cell_type": "code",
   "execution_count": 1,
   "source": [
    "#Find product of all numbers present in a list\r\n",
    "\r\n",
    "lst = [10, 20, 30, 40, 60]\r\n",
    "\r\n",
    "product = 1\r\n",
    "index = 0\r\n",
    "\r\n",
    "while (index < len(lst)):\r\n",
    "    product *= lst[index]\r\n",
    "    index += 1\r\n",
    "\r\n",
    "print(\"Product is: {}\".format(product))\r\n"
   ],
   "outputs": [
    {
     "output_type": "stream",
     "name": "stdout",
     "text": [
      "Product is: 14400000\n"
     ]
    }
   ],
   "metadata": {
    "colab": {},
    "colab_type": "code",
    "id": "hSScsfzjKAHi",
    "outputId": "22fb60e0-a6f2-48ca-d3c4-4598d0b05d31"
   }
  },
  {
   "cell_type": "markdown",
   "source": [
    "# while Loop with else\n"
   ],
   "metadata": {
    "colab_type": "text",
    "id": "yh4ZfYEbKAHm"
   }
  },
  {
   "cell_type": "markdown",
   "source": [
    "Same as that of for loop, we can have an optional else block with while loop as well.\n",
    "\n",
    "The else part is executed if the condition in the while loop evaluates to False. The while loop can be terminated with a break statement.\n",
    "\n",
    "In such case, the else part is ignored. Hence, a while loop's else part runs if no break occurs and the condition is false.\n",
    "\n"
   ],
   "metadata": {
    "colab_type": "text",
    "id": "huxkWIqIKAHn"
   }
  },
  {
   "cell_type": "code",
   "execution_count": 2,
   "source": [
    "numbers = [1, 2, 3,4,5]\r\n",
    "\r\n",
    "#iterating over the list\r\n",
    "index = 0\r\n",
    "while (index < len(numbers)):\r\n",
    "    print(numbers[index])\r\n",
    "    index += 1\r\n",
    "    \r\n",
    "else:\r\n",
    "    print(\"no item left in the list\")"
   ],
   "outputs": [
    {
     "output_type": "stream",
     "name": "stdout",
     "text": [
      "1\n",
      "2\n",
      "3\n",
      "4\n",
      "5\n",
      "no item left in the list\n"
     ]
    }
   ],
   "metadata": {
    "colab": {},
    "colab_type": "code",
    "id": "mSKSiUt6KAHo",
    "outputId": "2d8dc557-a5c0-428b-a069-6f3957cf2ba0"
   }
  },
  {
   "cell_type": "markdown",
   "source": [
    "# Python Program to check given number is Prime number or not"
   ],
   "metadata": {
    "colab_type": "text",
    "id": "CrDoBi92KAHv"
   }
  },
  {
   "cell_type": "code",
   "execution_count": 4,
   "source": [
    "num = int(input(\"Enter a number: \"))        #convert string to int\r\n",
    "\r\n",
    "\r\n",
    "isDivisible = False\r\n",
    "\r\n",
    "i=2\r\n",
    "while i < num:\r\n",
    "    if num % i == 0:\r\n",
    "        isDivisible = True\r\n",
    "        print (\"{} is divisible by {}\".format(num,i) )\r\n",
    "    i += 1\r\n",
    "    \r\n",
    "if isDivisible:\r\n",
    "    print(\"{} is NOT a Prime number\".format(num))\r\n",
    "else:\r\n",
    "    print(\"{} is a Prime number\".format(num))\r\n"
   ],
   "outputs": [
    {
     "output_type": "stream",
     "name": "stdout",
     "text": [
      "12 is divisible by 2\n",
      "12 is divisible by 3\n",
      "12 is divisible by 4\n",
      "12 is divisible by 6\n",
      "12 is NOT a Prime number\n"
     ]
    }
   ],
   "metadata": {
    "colab": {},
    "colab_type": "code",
    "id": "lSxKkUZ5KAHw",
    "outputId": "3ece378f-4489-4270-9190-03ff23f93b70"
   }
  },
  {
   "cell_type": "code",
   "execution_count": null,
   "source": [],
   "outputs": [],
   "metadata": {
    "colab": {},
    "colab_type": "code",
    "id": "LbwaOl7hKAH0"
   }
  }
 ],
 "metadata": {
  "colab": {
   "name": "While-loop.ipynb",
   "provenance": [],
   "version": "0.3.2"
  },
  "kernelspec": {
   "name": "python3",
   "display_name": "Python 3.7.4 64-bit ('base': conda)"
  },
  "language_info": {
   "codemirror_mode": {
    "name": "ipython",
    "version": 3
   },
   "file_extension": ".py",
   "mimetype": "text/x-python",
   "name": "python",
   "nbconvert_exporter": "python",
   "pygments_lexer": "ipython3",
   "version": "3.7.4"
  },
  "interpreter": {
   "hash": "6aa4e563fcc316e4a45c191851d226024341c22e5279c609c01fb0b2d94cafc4"
  }
 },
 "nbformat": 4,
 "nbformat_minor": 1
}