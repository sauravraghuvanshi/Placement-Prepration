{
 "cells": [
  {
   "cell_type": "markdown",
   "source": [
    "# Operators"
   ],
   "metadata": {}
  },
  {
   "cell_type": "markdown",
   "source": [
    "Operators are special symbols in Python that carry out arithmetic or logical computation. The value that the operator operates on is called the operand."
   ],
   "metadata": {}
  },
  {
   "cell_type": "markdown",
   "source": [
    "# Operator Types"
   ],
   "metadata": {}
  },
  {
   "cell_type": "markdown",
   "source": [
    "1. Arithmetic operators\n",
    "    \n",
    "2. Comparison (Relational) operators\n",
    "\n",
    "3. Logical (Boolean) operators\n",
    "\n",
    "4. Bitwise operators\n",
    "\n",
    "5. Assignment operators\n",
    "\n",
    "6. Special operators"
   ],
   "metadata": {}
  },
  {
   "cell_type": "markdown",
   "source": [
    "# Arithmetic Operators"
   ],
   "metadata": {}
  },
  {
   "cell_type": "markdown",
   "source": [
    "Arithmetic operators are used to perform mathematical operations like addition, subtraction, multiplication etc."
   ],
   "metadata": {}
  },
  {
   "cell_type": "markdown",
   "source": [
    "    + , -, *, /, %, //, **  are arithmetic operators"
   ],
   "metadata": {}
  },
  {
   "cell_type": "markdown",
   "source": [
    "Example:"
   ],
   "metadata": {}
  },
  {
   "cell_type": "code",
   "execution_count": 1,
   "source": [
    "x, y = 10, 20\r\n",
    "\r\n",
    "#addition\r\n",
    "print(x + y)\r\n",
    "\r\n",
    "#subtraction(-)\r\n",
    "\r\n",
    "#multiplication(*)\r\n",
    "\r\n",
    "#division(/)\r\n",
    "\r\n",
    "#modulo division (%)\r\n",
    "\r\n",
    "#Floor Division (//)\r\n",
    "\r\n",
    "#Exponent (**)"
   ],
   "outputs": [
    {
     "output_type": "stream",
     "name": "stdout",
     "text": [
      "30\n"
     ]
    }
   ],
   "metadata": {}
  },
  {
   "cell_type": "markdown",
   "source": [
    "# Comparision Operators"
   ],
   "metadata": {}
  },
  {
   "cell_type": "markdown",
   "source": [
    "Comparison operators are used to compare values. It either returns True or False according to the condition."
   ],
   "metadata": {}
  },
  {
   "cell_type": "markdown",
   "source": [
    "    >, <, ==, !=, >=, <= are comparision operators"
   ],
   "metadata": {}
  },
  {
   "cell_type": "code",
   "execution_count": 2,
   "source": [
    "a, b = 10, 20         \r\n",
    "\r\n",
    "print(a < b)  #check a is less than b\r\n",
    "\r\n",
    "#check a is greater than b\r\n",
    "\r\n",
    "#check a is equal to b\r\n",
    "\r\n",
    "#check a is not equal to b (!=)\r\n",
    "\r\n",
    "#check a greater than or equal to b\r\n",
    "\r\n",
    "#check a less than or equal to b\r\n"
   ],
   "outputs": [
    {
     "output_type": "stream",
     "name": "stdout",
     "text": [
      "True\n"
     ]
    }
   ],
   "metadata": {}
  },
  {
   "cell_type": "markdown",
   "source": [
    "# Logical Operators"
   ],
   "metadata": {}
  },
  {
   "cell_type": "markdown",
   "source": [
    "Logical operators are  **and, or, not** operators."
   ],
   "metadata": {}
  },
  {
   "cell_type": "code",
   "execution_count": 3,
   "source": [
    "a, b = True, False\r\n",
    "\r\n",
    "#print a and b\r\n",
    "print(a and b)\r\n",
    "\r\n",
    "print (a or b)\r\n",
    "\r\n",
    "print (not b)\r\n"
   ],
   "outputs": [
    {
     "output_type": "stream",
     "name": "stdout",
     "text": [
      "False\n",
      "True\n",
      "True\n"
     ]
    }
   ],
   "metadata": {}
  },
  {
   "cell_type": "markdown",
   "source": [
    "# Bitwise operators"
   ],
   "metadata": {}
  },
  {
   "cell_type": "markdown",
   "source": [
    "Bitwise operators act on operands as if they were string of binary digits. It operates bit by bit"
   ],
   "metadata": {}
  },
  {
   "cell_type": "markdown",
   "source": [
    "    &,  |,  ~,  ^,  >>,  << are Bitwise operators"
   ],
   "metadata": {}
  },
  {
   "cell_type": "code",
   "execution_count": 4,
   "source": [
    "a, b = 10, 4\r\n",
    "\r\n",
    "#Bitwise AND\r\n",
    "print(a & b)\r\n",
    "\r\n",
    "#Bitwise OR\r\n",
    "\r\n",
    "\r\n",
    "#Bitwise NOT\r\n",
    "\r\n",
    "\r\n",
    "#Bitwise XOR\r\n",
    "\r\n",
    "\r\n",
    "#Bitwise rightshift\r\n",
    "\r\n",
    "\r\n",
    "#Bitwise Leftshift\r\n"
   ],
   "outputs": [
    {
     "output_type": "stream",
     "name": "stdout",
     "text": [
      "0\n"
     ]
    }
   ],
   "metadata": {}
  },
  {
   "cell_type": "markdown",
   "source": [
    "# Assignment operators"
   ],
   "metadata": {}
  },
  {
   "cell_type": "markdown",
   "source": [
    "Assignment operators are used in Python to assign values to variables.\n",
    "\n",
    "a = 5 is a simple assignment operator that assigns the value 5 on the right to the variable a on the left."
   ],
   "metadata": {}
  },
  {
   "cell_type": "markdown",
   "source": [
    "    =,  +=,  -=,  *=,  /=,  %=,  //=,  **=, &=,  |=,  ^=,  >>=,  <<= are Assignment operators"
   ],
   "metadata": {}
  },
  {
   "cell_type": "code",
   "execution_count": 5,
   "source": [
    "a = 10\r\n",
    "\r\n",
    "a += 10         #add AND\r\n",
    "print(a)\r\n",
    "\r\n",
    "#subtract AND (-=)\r\n",
    "\r\n",
    "#Multiply AND (*=)\r\n",
    "\r\n",
    "#Divide AND (/=)\r\n",
    "\r\n",
    "#Modulus AND (%=)\r\n",
    "\r\n",
    "#Floor Division (//=)\r\n",
    "\r\n",
    "#Exponent AND (**=)\r\n"
   ],
   "outputs": [
    {
     "output_type": "stream",
     "name": "stdout",
     "text": [
      "20\n"
     ]
    }
   ],
   "metadata": {}
  },
  {
   "cell_type": "markdown",
   "source": [
    "# Special Operators"
   ],
   "metadata": {}
  },
  {
   "cell_type": "markdown",
   "source": [
    "# Identity Operators"
   ],
   "metadata": {}
  },
  {
   "cell_type": "markdown",
   "source": [
    "**is and is not** are the identity operators in Python. \n",
    "\n",
    "They are used to check if two values (or variables) are located on the same part of the memory."
   ],
   "metadata": {}
  },
  {
   "cell_type": "code",
   "execution_count": 6,
   "source": [
    "a = 5\r\n",
    "b = 5\r\n",
    "print(a is b)    #5 is object created once both a and b points to same object\r\n",
    "\r\n",
    "#check is not"
   ],
   "outputs": [
    {
     "output_type": "stream",
     "name": "stdout",
     "text": [
      "True\n"
     ]
    }
   ],
   "metadata": {}
  },
  {
   "cell_type": "code",
   "execution_count": 7,
   "source": [
    "l1 = [1, 2, 3]\r\n",
    "l2 = [1, 2, 3]\r\n",
    "print(l1 is l2)"
   ],
   "outputs": [
    {
     "output_type": "stream",
     "name": "stdout",
     "text": [
      "False\n"
     ]
    }
   ],
   "metadata": {}
  },
  {
   "cell_type": "code",
   "execution_count": 8,
   "source": [
    "s1 = \"Satish\"\r\n",
    "s2 = \"Satish\"\r\n",
    "print(s1 is not s2)"
   ],
   "outputs": [
    {
     "output_type": "stream",
     "name": "stdout",
     "text": [
      "False\n"
     ]
    }
   ],
   "metadata": {}
  },
  {
   "cell_type": "markdown",
   "source": [
    "# MemberShip Operators"
   ],
   "metadata": {}
  },
  {
   "cell_type": "markdown",
   "source": [
    "**in and not in** are the membership operators in Python. \n",
    "    \n",
    "They are used to test whether a value or variable is found in a sequence (string, list, tuple, set and   dictionary)."
   ],
   "metadata": {}
  },
  {
   "cell_type": "code",
   "execution_count": 9,
   "source": [
    "lst = [1, 2, 3, 4]\r\n",
    "print(1 in lst)       #check 1 is present in a given list or not\r\n",
    "\r\n",
    "#check 5 is present in a given list\r\n"
   ],
   "outputs": [
    {
     "output_type": "stream",
     "name": "stdout",
     "text": [
      "True\n"
     ]
    }
   ],
   "metadata": {}
  },
  {
   "cell_type": "code",
   "execution_count": 10,
   "source": [
    "d = {1: \"a\", 2: \"b\"}\r\n",
    "print(1 in d)"
   ],
   "outputs": [
    {
     "output_type": "stream",
     "name": "stdout",
     "text": [
      "True\n"
     ]
    }
   ],
   "metadata": {}
  }
 ],
 "metadata": {
  "kernelspec": {
   "name": "python3",
   "display_name": "Python 3.7.4 64-bit ('base': conda)"
  },
  "language_info": {
   "codemirror_mode": {
    "name": "ipython",
    "version": 3
   },
   "file_extension": ".py",
   "mimetype": "text/x-python",
   "name": "python",
   "nbconvert_exporter": "python",
   "pygments_lexer": "ipython3",
   "version": "3.7.4"
  },
  "interpreter": {
   "hash": "6aa4e563fcc316e4a45c191851d226024341c22e5279c609c01fb0b2d94cafc4"
  }
 },
 "nbformat": 4,
 "nbformat_minor": 2
}