{
 "cells": [
  {
   "cell_type": "markdown",
   "source": [
    "# Python Keywords"
   ],
   "metadata": {
    "colab_type": "text",
    "id": "XP2V7Ds3x9lJ"
   }
  },
  {
   "cell_type": "markdown",
   "source": [
    "Keywords are the reserved words in python\n",
    "\n",
    "We can't use a keyword as variable name, function name or any other identifier\n",
    "\n",
    "Keywords are case sentive"
   ],
   "metadata": {
    "colab_type": "text",
    "id": "WWafYKulx9lO"
   }
  },
  {
   "cell_type": "code",
   "execution_count": 1,
   "source": [
    "#Get all keywords in python 3.6\r\n",
    "\r\n",
    "import keyword\r\n",
    "\r\n",
    "print(keyword.kwlist)\r\n",
    "\r\n",
    "print(\"Total number of keywords \", len(keyword.kwlist))"
   ],
   "outputs": [
    {
     "output_type": "stream",
     "name": "stdout",
     "text": [
      "['False', 'None', 'True', 'and', 'as', 'assert', 'break', 'class', 'continue', 'def', 'del', 'elif', 'else', 'except', 'finally', 'for', 'from', 'global', 'if', 'import', 'in', 'is', 'lambda', 'nonlocal', 'not', 'or', 'pass', 'raise', 'return', 'try', 'while', 'with', 'yield']\n",
      "Total number of keywords  33\n"
     ]
    }
   ],
   "metadata": {
    "colab": {},
    "colab_type": "code",
    "id": "bmp-yw_cx9lP",
    "outputId": "2c10a9fe-df24-4add-d1ab-707c6bbd2598"
   }
  },
  {
   "cell_type": "markdown",
   "source": [
    "# Identifiers"
   ],
   "metadata": {
    "colab_type": "text",
    "collapsed": true,
    "id": "4wpq4Uomx9lW"
   }
  },
  {
   "cell_type": "markdown",
   "source": [
    "Identifier is the name given to entities like class, functions, variables etc. in Python. It helps differentiating one entity from another."
   ],
   "metadata": {
    "colab_type": "text",
    "id": "VtGncKb3x9lY"
   }
  },
  {
   "cell_type": "markdown",
   "source": [
    "Rules for Writing Identifiers:\n",
    "\n",
    "1. Identifiers can be a combination of letters in lowercase (a to z) or uppercase (A to Z) or digits (0 to 9) or an underscore (_).\n",
    "\n",
    "2. An identifier cannot start with a digit. 1variable is invalid, but variable1 is perfectly fine.\n",
    "\n",
    "3. Keywords cannot be used as identifiers."
   ],
   "metadata": {
    "colab_type": "text",
    "id": "YHO424Knx9lZ"
   }
  },
  {
   "cell_type": "code",
   "execution_count": 2,
   "source": [
    "global = 1 #we cannot able to give kewward as identifiers"
   ],
   "outputs": [
    {
     "output_type": "error",
     "ename": "SyntaxError",
     "evalue": "invalid syntax (<ipython-input-2-11ac8cb3106f>, line 1)",
     "traceback": [
      "\u001b[1;36m  File \u001b[1;32m\"<ipython-input-2-11ac8cb3106f>\"\u001b[1;36m, line \u001b[1;32m1\u001b[0m\n\u001b[1;33m    global = 1 #we cannot able to give kewward as identifiers\u001b[0m\n\u001b[1;37m           ^\u001b[0m\n\u001b[1;31mSyntaxError\u001b[0m\u001b[1;31m:\u001b[0m invalid syntax\n"
     ]
    }
   ],
   "metadata": {
    "colab": {},
    "colab_type": "code",
    "id": "tZQPhTryx9la",
    "outputId": "814c5b60-82f1-43ad-900e-a03d4772f14e"
   }
  },
  {
   "cell_type": "markdown",
   "source": [
    " We cannot use special symbols like !, @, #, $, % etc. in our identifier."
   ],
   "metadata": {
    "colab_type": "text",
    "id": "v-YqWZVHx9le"
   }
  },
  {
   "cell_type": "code",
   "execution_count": 3,
   "source": [
    "a@ = 10             #can't use special symbols as an identifier"
   ],
   "outputs": [
    {
     "output_type": "error",
     "ename": "SyntaxError",
     "evalue": "invalid syntax (<ipython-input-3-a615a2f3f728>, line 1)",
     "traceback": [
      "\u001b[1;36m  File \u001b[1;32m\"<ipython-input-3-a615a2f3f728>\"\u001b[1;36m, line \u001b[1;32m1\u001b[0m\n\u001b[1;33m    a@ = 10             #can't use special symbols as an identifier\u001b[0m\n\u001b[1;37m       ^\u001b[0m\n\u001b[1;31mSyntaxError\u001b[0m\u001b[1;31m:\u001b[0m invalid syntax\n"
     ]
    }
   ],
   "metadata": {
    "colab": {},
    "colab_type": "code",
    "id": "FTqhcbK5x9lg",
    "outputId": "4e2c5993-4db4-4b6c-bb8d-447cc4d3a66b"
   }
  },
  {
   "cell_type": "code",
   "execution_count": null,
   "source": [],
   "outputs": [],
   "metadata": {}
  }
 ],
 "metadata": {
  "colab": {
   "name": "1.2.ipynb",
   "provenance": []
  },
  "kernelspec": {
   "name": "python3",
   "display_name": "Python 3.6.10 64-bit ('cv-nd': conda)"
  },
  "language_info": {
   "codemirror_mode": {
    "name": "ipython",
    "version": 3
   },
   "file_extension": ".py",
   "mimetype": "text/x-python",
   "name": "python",
   "nbconvert_exporter": "python",
   "pygments_lexer": "ipython3",
   "version": "3.6.10"
  },
  "interpreter": {
   "hash": "9853dbf189e1a410af2227a19f8d0890b95b163d45a416a4080d1b8e670e8c88"
  }
 },
 "nbformat": 4,
 "nbformat_minor": 1
}