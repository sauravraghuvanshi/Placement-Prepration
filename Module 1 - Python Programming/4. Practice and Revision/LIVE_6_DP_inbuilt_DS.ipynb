{
 "cells": [
  {
   "cell_type": "markdown",
   "source": [
    "## LIVE 6: Dynamic Programming + inbuilt-DS\n",
    " - Focus: Dynamic programming example , where to use which DS in Python\n",
    " - Prereq: Previous code-sessions + Basic knowledge of inbuilt DS in Python(list, tuple, dict, set)\n",
    " - Reference for basics: \n",
    "     - https://docs.python.org/3/tutorial/datastructures.html#\n",
    "     - https://www.geeksforgeeks.org/inbuilt-data-structures-python/\n",
    "    \n",
    " "
   ],
   "metadata": {
    "slideshow": {
     "slide_type": "slide"
    }
   }
  },
  {
   "cell_type": "markdown",
   "source": [
    "## Problem 4:  Regex matching problem\n",
    "- \"?\" matches a single character\n",
    "- \"*\" matches zero or more charcters\n",
    "- Given a pattern(p) and a string(s), does p match s?\n",
    "- examples: \n",
    "    - TRUE: (\"\\*\", \"ab\"), (\"?a\" ,\"ba\"), (\"?a\" ,\"aa\"), (\"a\\*\" ,\"a\")\n",
    "    - FALSE: (\"\\*a\", \"ab\"), (\"?a\" ,\"baa\"), (\"?a\" ,\"a\"), (\"a\\*\" ,\"ba\")\n",
    "\n",
    "- Very popular interview question at product-based companies for SDEs.\n",
    "- Small variations of this are often used in interviews\n",
    "\n",
    "- Any suggestions?\n"
   ],
   "metadata": {
    "slideshow": {
     "slide_type": "slide"
    }
   }
  },
  {
   "cell_type": "code",
   "execution_count": 238,
   "source": [
    "# Handle all cases of recursion thoroughly.\r\n",
    "\r\n",
    "def isMatch(p,s):\r\n",
    "    \r\n",
    "    print(p,s) # print statemnt for debugging\r\n",
    "    \r\n",
    "    # boundary cases of recursion\r\n",
    "    if p == s:\r\n",
    "        return True\r\n",
    "    \r\n",
    "    if p == \"*\":\r\n",
    "        return True\r\n",
    "    \r\n",
    "    if p == \"\" or s == \"\":\r\n",
    "        return False\r\n",
    "    \r\n",
    "    # recursion case-1\r\n",
    "    if p[0] == s[0] or p[0] == '?':\r\n",
    "        return isMatch(p[1:], s[1:])\r\n",
    "    \r\n",
    "    # recursion-case-2\r\n",
    "    if p[0] == '*':\r\n",
    "        return ( isMatch( p[1:], s) or isMatch( p, s[1:]))\r\n",
    "    \r\n",
    "    # last case: if p[0] is a character\r\n",
    "    if  p[0] != s[0]:\r\n",
    "        return False;\r\n",
    "        "
   ],
   "outputs": [],
   "metadata": {
    "slideshow": {
     "slide_type": "slide"
    }
   }
  },
  {
   "cell_type": "code",
   "execution_count": 239,
   "source": [
    "print(isMatch(\"*\",\"ab\"))\r\n"
   ],
   "outputs": [
    {
     "output_type": "stream",
     "name": "stdout",
     "text": [
      "* ab\n",
      "True\n"
     ]
    }
   ],
   "metadata": {
    "slideshow": {
     "slide_type": "subslide"
    }
   }
  },
  {
   "cell_type": "code",
   "execution_count": 240,
   "source": [
    "print(isMatch(\"?a\" ,\"baa\"))"
   ],
   "outputs": [
    {
     "output_type": "stream",
     "name": "stdout",
     "text": [
      "?a baa\n",
      "a aa\n",
      " a\n",
      "False\n"
     ]
    }
   ],
   "metadata": {
    "slideshow": {
     "slide_type": "subslide"
    }
   }
  },
  {
   "cell_type": "code",
   "execution_count": 241,
   "source": [
    "print(isMatch(\"a*\" ,\"ba\"))"
   ],
   "outputs": [
    {
     "output_type": "stream",
     "name": "stdout",
     "text": [
      "a* ba\n",
      "False\n"
     ]
    }
   ],
   "metadata": {
    "slideshow": {
     "slide_type": "subslide"
    }
   }
  },
  {
   "cell_type": "code",
   "execution_count": 242,
   "source": [
    "# Worst case Time Complexity: T(n) = T(n-1) + T(n-1) = 2* T(n-1)\r\n",
    "\r\n",
    "# => T(n) = 0(2^n) [as shown below]\r\n",
    "\r\n",
    "\r\n",
    "from IPython.display import Image\r\n",
    "Image(url= \"https://i.imgur.com/dse47H3.png\")\r\n"
   ],
   "outputs": [
    {
     "output_type": "execute_result",
     "data": {
      "text/plain": [
       "<IPython.core.display.Image object>"
      ],
      "text/html": [
       "<img src=\"https://i.imgur.com/dse47H3.png\"/>"
      ]
     },
     "metadata": {},
     "execution_count": 242
    }
   ],
   "metadata": {
    "slideshow": {
     "slide_type": "slide"
    }
   }
  },
  {
   "cell_type": "code",
   "execution_count": 243,
   "source": [
    "# Can we do better?\r\n",
    "\r\n",
    "Image(url= \"https://i.imgur.com/Rx6tN8a.png\")"
   ],
   "outputs": [
    {
     "output_type": "execute_result",
     "data": {
      "text/plain": [
       "<IPython.core.display.Image object>"
      ],
      "text/html": [
       "<img src=\"https://i.imgur.com/Rx6tN8a.png\"/>"
      ]
     },
     "metadata": {},
     "execution_count": 243
    }
   ],
   "metadata": {
    "slideshow": {
     "slide_type": "slide"
    }
   }
  },
  {
   "cell_type": "code",
   "execution_count": 244,
   "source": [
    "# Overlapping sub-problems: \r\n",
    "# Why not store solutions to already solved problems in a dict (dp)\r\n",
    "# Dynamic programming: Recursion + overlapping subproblems\r\n",
    "\r\n",
    "\r\n",
    "# We discussed this in our course when we learn back-propogation in Deep-Learning.\r\n"
   ],
   "outputs": [],
   "metadata": {
    "slideshow": {
     "slide_type": "slide"
    }
   }
  },
  {
   "cell_type": "code",
   "execution_count": 269,
   "source": [
    "# top-down DP using recursion and memoization (dp)\r\n",
    "\r\n",
    "\r\n",
    "\r\n",
    "def isMatchDP(pattern, string, pattern_start, string_start, dp ):\r\n",
    "    \r\n",
    "    #print(pattern_start, string_start);\r\n",
    "    \r\n",
    "    if  (pattern_start, string_start) in dp:\r\n",
    "        return dp[(pattern_start, string_start)]\r\n",
    "    \r\n",
    "    p = pattern[pattern_start:];\r\n",
    "    s = string[string_start:];\r\n",
    "    \r\n",
    "    \r\n",
    "    print(p,s) # print statemnt for debugging\r\n",
    "    \r\n",
    "    # boundary cases of recursion\r\n",
    "    if p == s:\r\n",
    "        dp[(pattern_start, string_start)] = True;\r\n",
    "        return True\r\n",
    "    \r\n",
    "    if p == \"*\":\r\n",
    "        dp[(pattern_start, string_start)] = True;\r\n",
    "        return True\r\n",
    "    \r\n",
    "    if p == \"\" or s == \"\":\r\n",
    "        dp[(pattern_start, string_start)] = False;\r\n",
    "        return False\r\n",
    "    \r\n",
    "    # recursion case-1\r\n",
    "    if p[0] == s[0] or p[0] == '?':\r\n",
    "        tmp = isMatchDP(pattern, string, pattern_start+1, string_start+1, dp)\r\n",
    "        d[(pattern_start, string_start)] = tmp;\r\n",
    "        return tmp;\r\n",
    "    \r\n",
    "    # recursion-case-2\r\n",
    "    if p[0] == '*':\r\n",
    "        tmp = ( isMatchDP( pattern, string, pattern_start+1, string_start, dp) or isMatchDP( pattern, string, pattern_start, string_start+1, dp))\r\n",
    "        dp[(pattern_start, string_start)] = tmp;\r\n",
    "        return tmp;\r\n",
    "    \r\n",
    "    # last case: if p[0] is a character\r\n",
    "    if  p[0] != s[0]:\r\n",
    "        dp[(pattern_start, string_start)] = False;\r\n",
    "        return False;\r\n",
    "    "
   ],
   "outputs": [],
   "metadata": {
    "slideshow": {
     "slide_type": "slide"
    }
   }
  },
  {
   "cell_type": "code",
   "execution_count": 270,
   "source": [
    "print(isMatchDP(\"*\",\"ab\",0,0, {}))"
   ],
   "outputs": [
    {
     "output_type": "stream",
     "name": "stdout",
     "text": [
      "* ab\n",
      "True\n"
     ]
    }
   ],
   "metadata": {
    "slideshow": {
     "slide_type": "subslide"
    }
   }
  },
  {
   "cell_type": "code",
   "execution_count": 272,
   "source": [
    "print(isMatchDP(\"?a\" ,\"baa\",0,0,{}))"
   ],
   "outputs": [
    {
     "output_type": "stream",
     "name": "stdout",
     "text": [
      "?a baa\n",
      "a aa\n",
      " a\n",
      "False\n"
     ]
    }
   ],
   "metadata": {
    "slideshow": {
     "slide_type": "subslide"
    }
   }
  },
  {
   "cell_type": "code",
   "execution_count": 273,
   "source": [
    "print(isMatchDP(\"?a*\" ,\"baa\",0,0,{}))"
   ],
   "outputs": [
    {
     "output_type": "stream",
     "name": "stdout",
     "text": [
      "?a* baa\n",
      "a* aa\n",
      "* a\n",
      "True\n"
     ]
    }
   ],
   "metadata": {
    "slideshow": {
     "slide_type": "subslide"
    }
   }
  },
  {
   "cell_type": "markdown",
   "source": [
    "### 2 Dimensional Dynamic programming vs 1-Dimensional DP\n",
    "\n",
    "### Additional Resources:\n",
    "- https://www.geeksforgeeks.org/solve-dynamic-programming-problem/\n",
    "- 50 practice problems: https://blog.usejournal.com/top-50-dynamic-programming-practice-problems-4208fed71aa3\n"
   ],
   "metadata": {
    "slideshow": {
     "slide_type": "slide"
    }
   }
  },
  {
   "cell_type": "markdown",
   "source": [
    "# Python's inbuilt data-structures: List, Dict, Set, Tuple \n",
    "- Assumption: basic understadning about these DS. \n",
    "- Big practical question: Where to use which DS?"
   ],
   "metadata": {
    "slideshow": {
     "slide_type": "slide"
    }
   }
  },
  {
   "cell_type": "markdown",
   "source": [
    "### Key properties (recap): \n",
    "- LIST: [1,2,3,4,5], ordered, indexable, iterable\n",
    "\n",
    "- DICT:  {'jack': 4098, 'sape': 4139}, O(1) search, <k,v> pairs, iterable, ordered(3.7+)[https://docs.python.org/3/whatsnew/3.7.html]\n",
    "\n",
    "- TUPLE: (1,2,3), immutable, ordered-k-items, \n",
    "\n",
    "- SET: {1,2,3}, unordered, iterable, no-duplicates.\n",
    "\n",
    "\n",
    "\" A DS is decided based on what operations you want to perform on it and how fast these operations are\"\n"
   ],
   "metadata": {
    "slideshow": {
     "slide_type": "slide"
    }
   }
  },
  {
   "cell_type": "markdown",
   "source": [
    "### Lets learn: Which DS will you use in a given situation and why?\n"
   ],
   "metadata": {
    "slideshow": {
     "slide_type": "slide"
    }
   }
  },
  {
   "cell_type": "markdown",
   "source": [
    "### Q. Represent a 3-D point as a parameter to a function: f(3D-point)"
   ],
   "metadata": {
    "slideshow": {
     "slide_type": "slide"
    }
   }
  },
  {
   "cell_type": "markdown",
   "source": [
    "#### Notice the shape parameter in NumPy\n",
    "\n",
    "class numpy.ndarray(shape, dtype=float, buffer=None, offset=0, strides=None, order=None)[source]\n",
    "An array object represents a multidimensional, homogeneous array of fixed-size items. An associated data-type object describes the format of each element in the array (its byte-order, how many bytes it occupies in memory, whether it is an integer, a floating point number, or something else, etc.)\n",
    "\n",
    "Arrays should be constructed using array, zeros or empty (refer to the See Also section below). The parameters given here refer to a low-level method (ndarray(…)) for instantiating an array.\n",
    "\n",
    "For more information, refer to the numpy module and examine the methods and attributes of an array.\n",
    "\n",
    "Parameters:\t\n",
    "(for the __new__ method; see Notes below)\n",
    "shape : tuple of ints\n",
    "Shape of created array.\n",
    "\n",
    "dtype : data-type, optional\n",
    "Any object that can be interpreted as a numpy data type.\n",
    "\n",
    "buffer : object exposing buffer interface, optional\n",
    "Used to fill the array with data.\n",
    "\n",
    "offset : int, optional\n",
    "Offset of array data in buffer."
   ],
   "metadata": {}
  },
  {
   "cell_type": "markdown",
   "source": [
    "### Q. Represent a 3-D point as a parameter to a function: f(3D-point) which changes the 3-D point's co-ordinates"
   ],
   "metadata": {
    "slideshow": {
     "slide_type": "slide"
    }
   }
  },
  {
   "cell_type": "code",
   "execution_count": 179,
   "source": [
    "def f(t):\r\n",
    "    t[0] = t[0]+1;\r\n",
    "    t[1] = t[1]+1;\r\n",
    "    t[2] = t[2]+1;\r\n",
    "    return;\r\n",
    "\r\n",
    "t=(0,1,2);\r\n",
    "print(t);\r\n",
    "\r\n",
    "print(t[0])\r\n",
    "\r\n",
    "f(t);\r\n",
    "\r\n",
    "print(t)\r\n",
    "\r\n",
    "# tuples are immutable"
   ],
   "outputs": [
    {
     "output_type": "stream",
     "name": "stdout",
     "text": [
      "(0, 1, 2)\n",
      "0\n"
     ]
    },
    {
     "output_type": "error",
     "ename": "TypeError",
     "evalue": "'tuple' object does not support item assignment",
     "traceback": [
      "\u001b[0;31m---------------------------------------------------------------------------\u001b[0m",
      "\u001b[0;31mTypeError\u001b[0m                                 Traceback (most recent call last)",
      "\u001b[0;32m<ipython-input-179-be22e0c9180e>\u001b[0m in \u001b[0;36m<module>\u001b[0;34m\u001b[0m\n\u001b[1;32m     10\u001b[0m \u001b[0mprint\u001b[0m\u001b[0;34m(\u001b[0m\u001b[0mt\u001b[0m\u001b[0;34m[\u001b[0m\u001b[0;36m0\u001b[0m\u001b[0;34m]\u001b[0m\u001b[0;34m)\u001b[0m\u001b[0;34m\u001b[0m\u001b[0;34m\u001b[0m\u001b[0m\n\u001b[1;32m     11\u001b[0m \u001b[0;34m\u001b[0m\u001b[0m\n\u001b[0;32m---> 12\u001b[0;31m \u001b[0mf\u001b[0m\u001b[0;34m(\u001b[0m\u001b[0mt\u001b[0m\u001b[0;34m)\u001b[0m\u001b[0;34m;\u001b[0m\u001b[0;34m\u001b[0m\u001b[0;34m\u001b[0m\u001b[0m\n\u001b[0m\u001b[1;32m     13\u001b[0m \u001b[0;34m\u001b[0m\u001b[0m\n\u001b[1;32m     14\u001b[0m \u001b[0mprint\u001b[0m\u001b[0;34m(\u001b[0m\u001b[0mt\u001b[0m\u001b[0;34m)\u001b[0m\u001b[0;34m\u001b[0m\u001b[0;34m\u001b[0m\u001b[0m\n",
      "\u001b[0;32m<ipython-input-179-be22e0c9180e>\u001b[0m in \u001b[0;36mf\u001b[0;34m(t)\u001b[0m\n\u001b[1;32m      1\u001b[0m \u001b[0;32mdef\u001b[0m \u001b[0mf\u001b[0m\u001b[0;34m(\u001b[0m\u001b[0mt\u001b[0m\u001b[0;34m)\u001b[0m\u001b[0;34m:\u001b[0m\u001b[0;34m\u001b[0m\u001b[0;34m\u001b[0m\u001b[0m\n\u001b[0;32m----> 2\u001b[0;31m     \u001b[0mt\u001b[0m\u001b[0;34m[\u001b[0m\u001b[0;36m0\u001b[0m\u001b[0;34m]\u001b[0m \u001b[0;34m=\u001b[0m \u001b[0mt\u001b[0m\u001b[0;34m[\u001b[0m\u001b[0;36m0\u001b[0m\u001b[0;34m]\u001b[0m\u001b[0;34m+\u001b[0m\u001b[0;36m1\u001b[0m\u001b[0;34m;\u001b[0m\u001b[0;34m\u001b[0m\u001b[0;34m\u001b[0m\u001b[0m\n\u001b[0m\u001b[1;32m      3\u001b[0m     \u001b[0mt\u001b[0m\u001b[0;34m[\u001b[0m\u001b[0;36m1\u001b[0m\u001b[0;34m]\u001b[0m \u001b[0;34m=\u001b[0m \u001b[0mt\u001b[0m\u001b[0;34m[\u001b[0m\u001b[0;36m1\u001b[0m\u001b[0;34m]\u001b[0m\u001b[0;34m+\u001b[0m\u001b[0;36m1\u001b[0m\u001b[0;34m;\u001b[0m\u001b[0;34m\u001b[0m\u001b[0;34m\u001b[0m\u001b[0m\n\u001b[1;32m      4\u001b[0m     \u001b[0mt\u001b[0m\u001b[0;34m[\u001b[0m\u001b[0;36m2\u001b[0m\u001b[0;34m]\u001b[0m \u001b[0;34m=\u001b[0m \u001b[0mt\u001b[0m\u001b[0;34m[\u001b[0m\u001b[0;36m2\u001b[0m\u001b[0;34m]\u001b[0m\u001b[0;34m+\u001b[0m\u001b[0;36m1\u001b[0m\u001b[0;34m;\u001b[0m\u001b[0;34m\u001b[0m\u001b[0;34m\u001b[0m\u001b[0m\n\u001b[1;32m      5\u001b[0m     \u001b[0;32mreturn\u001b[0m\u001b[0;34m;\u001b[0m\u001b[0;34m\u001b[0m\u001b[0;34m\u001b[0m\u001b[0m\n",
      "\u001b[0;31mTypeError\u001b[0m: 'tuple' object does not support item assignment"
     ]
    }
   ],
   "metadata": {
    "slideshow": {
     "slide_type": "slide"
    }
   }
  },
  {
   "cell_type": "code",
   "execution_count": 180,
   "source": [
    "# lists are mutable and ordered.\r\n",
    "\r\n",
    "def f(t):\r\n",
    "    t[0] = t[0]+1;\r\n",
    "    t[1] = t[1]+1;\r\n",
    "    t[2] = t[2]+1;\r\n",
    "    return;\r\n",
    "\r\n",
    "t=[0,1,2];\r\n",
    "print(t);\r\n",
    "\r\n",
    "print(t[0])\r\n",
    "\r\n",
    "f(t);\r\n",
    "\r\n",
    "print(t)"
   ],
   "outputs": [
    {
     "output_type": "stream",
     "name": "stdout",
     "text": [
      "[0, 1, 2]\n",
      "0\n",
      "[1, 2, 3]\n"
     ]
    }
   ],
   "metadata": {
    "slideshow": {
     "slide_type": "slide"
    }
   }
  },
  {
   "cell_type": "markdown",
   "source": [
    "\n",
    "#### Example: Mutable and immutable & Parameter passing\n",
    "https://stackoverflow.com/a/986145"
   ],
   "metadata": {
    "slideshow": {
     "slide_type": "slide"
    }
   }
  },
  {
   "cell_type": "markdown",
   "source": [
    "### Q. If you were to design NumPy from scratch, which inbuilt DS would you use to design ndarray?\n"
   ],
   "metadata": {
    "slideshow": {
     "slide_type": "slide"
    }
   }
  },
  {
   "cell_type": "markdown",
   "source": [
    "### Q. How do you think data is internally stored in Numpy Arrays?"
   ],
   "metadata": {
    "slideshow": {
     "slide_type": "slide"
    }
   }
  },
  {
   "cell_type": "markdown",
   "source": [
    "\"Why are NumPy arrays efficient?\n",
    "\n",
    "A NumPy array is basically described by metadata (notably the number of dimensions, the shape, and the data type) and the actual data. The data is stored in a homogeneous and contiguous block of memory, at a particular address in system memory (Random Access Memory, or RAM). This block of memory is called the data buffer. This is the main difference between an array and a pure Python structure, such as a list, where the items are scattered across the system memory. This aspect is the critical feature that makes NumPy arrays so efficient.\"\n",
    "\n",
    "Source: https://ipython-books.github.io/45-understanding-the-internals-of-numpy-to-avoid-unnecessary-array-copying/"
   ],
   "metadata": {
    "slideshow": {
     "slide_type": "slide"
    }
   }
  },
  {
   "cell_type": "markdown",
   "source": [
    "### Q. You want to write the program to obtain various combinations. How do you take the input?"
   ],
   "metadata": {
    "slideshow": {
     "slide_type": "slide"
    }
   }
  },
  {
   "cell_type": "markdown",
   "source": [
    "Refer: https://docs.python.org/2/library/itertools.html#itertools.combinations\n",
    "        \n",
    "itertools.combinations(iterable, r)\n",
    "\n",
    "Return r length subsequences of elements from the input iterable.\n",
    "Combinations are emitted in lexicographic sort order. So, if the input iterable is sorted, the combination tuples will be produced in sorted order.\n",
    "Elements are treated as unique based on their position, not on their value. So if the input elements are unique, there will be no repeat values in each combination."
   ],
   "metadata": {
    "slideshow": {
     "slide_type": "slide"
    }
   }
  },
  {
   "cell_type": "code",
   "execution_count": 6,
   "source": [
    "import itertools\r\n",
    "\r\n",
    "res = itertools.combinations([1,2,3,4,5],2)\r\n",
    "\r\n",
    "print(type(res))\r\n"
   ],
   "outputs": [
    {
     "output_type": "stream",
     "name": "stdout",
     "text": [
      "<class 'itertools.combinations'>\n"
     ]
    }
   ],
   "metadata": {}
  },
  {
   "cell_type": "markdown",
   "source": [
    "#### Q. How would you build a TinyURL service? [https://tinyurl.com/]\n",
    "- Popular interview question"
   ],
   "metadata": {
    "slideshow": {
     "slide_type": "slide"
    }
   }
  },
  {
   "cell_type": "markdown",
   "source": [
    "Dict/Hashtable has <K,V> pairs\n",
    "\n",
    "Key = short-URL\n",
    "Value = Long-URL\n",
    "\n",
    "Key: random variable length alphabetic suffix [tinyurl.com/tgwxyc]\n"
   ],
   "metadata": {
    "slideshow": {
     "slide_type": "slide"
    }
   }
  },
  {
   "cell_type": "code",
   "execution_count": 188,
   "source": [
    "import random\r\n",
    "import string\r\n",
    "\r\n",
    "d = {};\r\n",
    "\r\n",
    "# given a long URL, get a short URL\r\n",
    "def getShortURL(longURL):\r\n",
    "    # length = random value in 6-10\r\n",
    "    l = random.randint(6,10);\r\n",
    "    print(l);\r\n",
    "    \r\n",
    "    # generate random characters into a string of length l\r\n",
    "    chars = string.ascii_lowercase\r\n",
    "    shortURL = ''.join(random.choice(chars) for i in range(l))\r\n",
    "    print(shortURL);\r\n",
    "    \r\n",
    "    # check if this string is already present in dict d\r\n",
    "    if shortURL in d:\r\n",
    "        return getShortURL(longURL);\r\n",
    "    else:\r\n",
    "        d[shortURL] = longURL;\r\n",
    "        \r\n",
    "    print(d)\r\n",
    "    r = \"https://www.shortURL.com/\"+shortURL\r\n",
    "    return r;\r\n",
    "\r\n"
   ],
   "outputs": [],
   "metadata": {
    "slideshow": {
     "slide_type": "slide"
    }
   }
  },
  {
   "cell_type": "code",
   "execution_count": 189,
   "source": [
    "print(getShortURL(\"www.appliedaicourse.com\"))"
   ],
   "outputs": [
    {
     "output_type": "stream",
     "name": "stdout",
     "text": [
      "8\n",
      "iftgtrsu\n",
      "{'iftgtrsu': 'www.appliedaicourse.com'}\n",
      "https://www.shortURL.com/iftgtrsu\n"
     ]
    }
   ],
   "metadata": {
    "slideshow": {
     "slide_type": "subslide"
    }
   }
  },
  {
   "cell_type": "code",
   "execution_count": 190,
   "source": [
    "print(getShortURL(\"www.appliedaicourse.com\"))"
   ],
   "outputs": [
    {
     "output_type": "stream",
     "name": "stdout",
     "text": [
      "7\n",
      "mxzmuis\n",
      "{'iftgtrsu': 'www.appliedaicourse.com', 'mxzmuis': 'www.appliedaicourse.com'}\n",
      "https://www.shortURL.com/mxzmuis\n"
     ]
    }
   ],
   "metadata": {
    "slideshow": {
     "slide_type": "subslide"
    }
   }
  },
  {
   "cell_type": "code",
   "execution_count": 191,
   "source": [
    "def getLongURL(shortURL):\r\n",
    "    \r\n",
    "    # extarct key from URL https://www.shortURL.com/mxzmuis ---> mxzmuis\r\n",
    "    k = shortURL[25:];\r\n",
    "    print(k)\r\n",
    "    \r\n",
    "    return d[k];\r\n"
   ],
   "outputs": [],
   "metadata": {
    "slideshow": {
     "slide_type": "slide"
    }
   }
  },
  {
   "cell_type": "code",
   "execution_count": 192,
   "source": [
    "print(getLongURL(\"https://www.shortURL.com/mxzmuis\"))\r\n"
   ],
   "outputs": [
    {
     "output_type": "stream",
     "name": "stdout",
     "text": [
      "mxzmuis\n",
      "www.appliedaicourse.com\n"
     ]
    }
   ],
   "metadata": {
    "slideshow": {
     "slide_type": "subslide"
    }
   }
  },
  {
   "cell_type": "code",
   "execution_count": 193,
   "source": [
    "print(getLongURL(\"https://www.shortURL.com/abcdef\"))"
   ],
   "outputs": [
    {
     "output_type": "stream",
     "name": "stdout",
     "text": [
      "abcdef\n"
     ]
    },
    {
     "output_type": "error",
     "ename": "KeyError",
     "evalue": "'abcdef'",
     "traceback": [
      "\u001b[0;31m---------------------------------------------------------------------------\u001b[0m",
      "\u001b[0;31mKeyError\u001b[0m                                  Traceback (most recent call last)",
      "\u001b[0;32m<ipython-input-193-a1641eeac07b>\u001b[0m in \u001b[0;36m<module>\u001b[0;34m\u001b[0m\n\u001b[0;32m----> 1\u001b[0;31m \u001b[0mprint\u001b[0m\u001b[0;34m(\u001b[0m\u001b[0mgetLongURL\u001b[0m\u001b[0;34m(\u001b[0m\u001b[0;34m\"https://www.shortURL.com/abcdef\"\u001b[0m\u001b[0;34m)\u001b[0m\u001b[0;34m)\u001b[0m\u001b[0;34m\u001b[0m\u001b[0;34m\u001b[0m\u001b[0m\n\u001b[0m",
      "\u001b[0;32m<ipython-input-191-049da4c13feb>\u001b[0m in \u001b[0;36mgetLongURL\u001b[0;34m(shortURL)\u001b[0m\n\u001b[1;32m      5\u001b[0m     \u001b[0mprint\u001b[0m\u001b[0;34m(\u001b[0m\u001b[0mk\u001b[0m\u001b[0;34m)\u001b[0m\u001b[0;34m\u001b[0m\u001b[0;34m\u001b[0m\u001b[0m\n\u001b[1;32m      6\u001b[0m \u001b[0;34m\u001b[0m\u001b[0m\n\u001b[0;32m----> 7\u001b[0;31m     \u001b[0;32mreturn\u001b[0m \u001b[0md\u001b[0m\u001b[0;34m[\u001b[0m\u001b[0mk\u001b[0m\u001b[0;34m]\u001b[0m\u001b[0;34m;\u001b[0m\u001b[0;34m\u001b[0m\u001b[0;34m\u001b[0m\u001b[0m\n\u001b[0m",
      "\u001b[0;31mKeyError\u001b[0m: 'abcdef'"
     ]
    }
   ],
   "metadata": {
    "slideshow": {
     "slide_type": "subslide"
    }
   }
  },
  {
   "cell_type": "code",
   "execution_count": 196,
   "source": [
    "# Handle Errors and return None\r\n",
    "\r\n",
    "def getLongURL(shortURL):\r\n",
    "    \r\n",
    "    # extarct key from URL https://www.shortURL.com/mxzmuis ---> mxzmuis\r\n",
    "    k = shortURL[25:];\r\n",
    "    print(k)\r\n",
    "    \r\n",
    "    if k in d:\r\n",
    "        return d[k];\r\n",
    "    else:\r\n",
    "        return None;"
   ],
   "outputs": [],
   "metadata": {
    "slideshow": {
     "slide_type": "slide"
    }
   }
  },
  {
   "cell_type": "code",
   "execution_count": 197,
   "source": [
    "print(getLongURL(\"https://www.shortURL.com/abcdef\"))"
   ],
   "outputs": [
    {
     "output_type": "stream",
     "name": "stdout",
     "text": [
      "abcdef\n",
      "None\n"
     ]
    }
   ],
   "metadata": {
    "slideshow": {
     "slide_type": "subslide"
    }
   }
  },
  {
   "cell_type": "code",
   "execution_count": 198,
   "source": [
    "print(getLongURL(\"https://www.shortURL.com/mxzmuis\"))\r\n"
   ],
   "outputs": [
    {
     "output_type": "stream",
     "name": "stdout",
     "text": [
      "mxzmuis\n",
      "www.appliedaicourse.com\n"
     ]
    }
   ],
   "metadata": {
    "slideshow": {
     "slide_type": "subslide"
    }
   }
  },
  {
   "cell_type": "markdown",
   "source": [
    "#### IDEA: We have dict 'd' and these two functions(getShortURL, getLongURL ) that opearete on 'd'. Why not put all these three in a single logical block?\n",
    "- That's where \"Classes\" come in!  Next session: Basics of OOP in Python (for ML)\n",
    "- We will build a ShortURL class."
   ],
   "metadata": {
    "slideshow": {
     "slide_type": "subslide"
    }
   }
  },
  {
   "cell_type": "markdown",
   "source": [
    "### Q. Find common elements in 3 lists\n",
    "l1 = [1,2,3,4] <br>\n",
    "l2 = [3,4,5] <br>\n",
    "l3 = [1,4,6,7,8]\n",
    "\n",
    "result = [4]\n"
   ],
   "metadata": {
    "slideshow": {
     "slide_type": "slide"
    }
   }
  },
  {
   "cell_type": "code",
   "execution_count": 201,
   "source": [
    "\n",
    "l1 = [1,2,3,4]\n",
    "l2 = [3,4,5]\n",
    "l3 = [1,4,6,7,8]\n",
    "\n",
    "s1 = set(l1);\n",
    "s2 = set(l2);\n",
    "s3 =set(l3);\n",
    "\n",
    "result = list((s1.intersection(s2)).intersection(s3))\n",
    "\n",
    "print(result)\n",
    "\n",
    "# Simple application of Sets"
   ],
   "outputs": [
    {
     "output_type": "stream",
     "name": "stdout",
     "text": [
      "[4]\n"
     ]
    }
   ],
   "metadata": {
    "slideshow": {
     "slide_type": "subslide"
    }
   }
  },
  {
   "cell_type": "markdown",
   "source": [
    "### Exercise: Find all documents which contain search keywords and phrases."
   ],
   "metadata": {
    "slideshow": {
     "slide_type": "slide"
    }
   }
  },
  {
   "cell_type": "code",
   "execution_count": null,
   "source": [],
   "outputs": [],
   "metadata": {}
  }
 ],
 "metadata": {
  "celltoolbar": "Slideshow",
  "kernelspec": {
   "display_name": "Python 3",
   "language": "python",
   "name": "python3"
  },
  "language_info": {
   "codemirror_mode": {
    "name": "ipython",
    "version": 3
   },
   "file_extension": ".py",
   "mimetype": "text/x-python",
   "name": "python",
   "nbconvert_exporter": "python",
   "pygments_lexer": "ipython3",
   "version": "3.7.3"
  }
 },
 "nbformat": 4,
 "nbformat_minor": 2
}