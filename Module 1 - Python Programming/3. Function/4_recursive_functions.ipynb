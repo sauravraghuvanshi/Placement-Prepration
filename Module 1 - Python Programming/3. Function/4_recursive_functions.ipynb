{
 "cells": [
  {
   "cell_type": "markdown",
   "source": [
    "# Recurison"
   ],
   "metadata": {
    "colab_type": "text",
    "id": "2un6HEflRbVI"
   }
  },
  {
   "cell_type": "markdown",
   "source": [
    "We know that in Python, a function can call other functions. It is even possible for the function to call itself. These type of construct are termed as recursive functions."
   ],
   "metadata": {
    "colab_type": "text",
    "id": "pouXX8gWRbVJ"
   }
  },
  {
   "cell_type": "markdown",
   "source": [
    "# Example:"
   ],
   "metadata": {
    "colab_type": "text",
    "id": "ZVWIU4QvRbVK"
   }
  },
  {
   "cell_type": "code",
   "execution_count": 1,
   "source": [
    "#python program to print factorial of a number using recurison\r\n",
    "\r\n",
    "def factorial(num):\r\n",
    "    \"\"\"\r\n",
    "    This is a recursive function to find the factorial of a given number\r\n",
    "    \"\"\"\r\n",
    "    return 1 if num == 1 else (num * factorial(num-1))\r\n",
    "\r\n",
    "num = 5\r\n",
    "print (\"Factorial of {0} is {1}\".format(num, factorial(num)))\r\n"
   ],
   "outputs": [
    {
     "output_type": "stream",
     "name": "stdout",
     "text": [
      "Factorial of 5 is 120\n"
     ]
    }
   ],
   "metadata": {
    "colab": {
     "base_uri": "https://localhost:8080/",
     "height": 34
    },
    "colab_type": "code",
    "executionInfo": {
     "elapsed": 1252,
     "status": "ok",
     "timestamp": 1553692648350,
     "user": {
      "displayName": "Applied AI Course",
      "photoUrl": "https://lh3.googleusercontent.com/-EsJzSyawCkQ/AAAAAAAAAAI/AAAAAAAAEIk/w9ORR2FfvaE/s64/photo.jpg",
      "userId": "06629147635963609455"
     },
     "user_tz": -330
    },
    "id": "mnaRd5dzRbVL",
    "outputId": "f6f3bc7b-195a-489d-dd0b-b4eca5ea55b6"
   }
  },
  {
   "cell_type": "markdown",
   "source": [
    "# Advantages"
   ],
   "metadata": {
    "colab_type": "text",
    "id": "s2ewPFszRbVR"
   }
  },
  {
   "cell_type": "markdown",
   "source": [
    "1. Recursive functions make the code look clean and elegant.\n",
    "\n",
    "2. A complex task can be broken down into simpler sub-problems using recursion.\n",
    "\n",
    "3. Sequence generation is easier with recursion than using some nested iteration.\n"
   ],
   "metadata": {
    "colab_type": "text",
    "id": "Gl6k7MLLRbVR"
   }
  },
  {
   "cell_type": "markdown",
   "source": [
    "# Disadvantages"
   ],
   "metadata": {
    "colab_type": "text",
    "id": "tZh9p_qrRbVS"
   }
  },
  {
   "cell_type": "markdown",
   "source": [
    "1. Sometimes the logic behind recursion is hard to follow through.\n",
    "\n",
    "2. Recursive calls are expensive (inefficient) as they take up a lot of memory and time.\n",
    "\n",
    "3. Recursive functions are hard to debug.\n"
   ],
   "metadata": {
    "colab_type": "text",
    "id": "lzJRnnfdRbVT"
   }
  },
  {
   "cell_type": "markdown",
   "source": [
    "# Python program to display the fibonacci sequence up to n-th term using recursive function"
   ],
   "metadata": {
    "colab_type": "text",
    "id": "wSEYBp_BRbVU"
   }
  },
  {
   "cell_type": "code",
   "execution_count": 2,
   "source": [
    "def fibonacci(num):\r\n",
    "    \"\"\"\r\n",
    "    Recursive function to print fibonacci sequence\r\n",
    "    \"\"\"\r\n",
    "    return num if num <= 1 else fibonacci(num-1) + fibonacci(num-2)\r\n",
    "\r\n",
    "nterms = 10\r\n",
    "print(\"Fibonacci sequence\")\r\n",
    "for num in range(nterms):\r\n",
    "    print(fibonacci(num))"
   ],
   "outputs": [
    {
     "output_type": "stream",
     "name": "stdout",
     "text": [
      "Fibonacci sequence\n",
      "0\n",
      "1\n",
      "1\n",
      "2\n",
      "3\n",
      "5\n",
      "8\n",
      "13\n",
      "21\n",
      "34\n"
     ]
    }
   ],
   "metadata": {
    "colab": {},
    "colab_type": "code",
    "id": "598cYHQ3RbVW",
    "outputId": "ce16556a-3444-4c1f-8180-478d41583dac"
   }
  },
  {
   "cell_type": "code",
   "execution_count": null,
   "source": [],
   "outputs": [],
   "metadata": {
    "colab": {},
    "colab_type": "code",
    "id": "lzigbouGRbVa"
   }
  },
  {
   "cell_type": "code",
   "execution_count": null,
   "source": [],
   "outputs": [],
   "metadata": {}
  }
 ],
 "metadata": {
  "colab": {
   "name": "4_recursive_functions.ipynb",
   "provenance": [],
   "version": "0.3.2"
  },
  "kernelspec": {
   "name": "python3",
   "display_name": "Python 3.7.4 64-bit ('base': conda)"
  },
  "language_info": {
   "codemirror_mode": {
    "name": "ipython",
    "version": 3
   },
   "file_extension": ".py",
   "mimetype": "text/x-python",
   "name": "python",
   "nbconvert_exporter": "python",
   "pygments_lexer": "ipython3",
   "version": "3.7.4"
  },
  "interpreter": {
   "hash": "6aa4e563fcc316e4a45c191851d226024341c22e5279c609c01fb0b2d94cafc4"
  }
 },
 "nbformat": 4,
 "nbformat_minor": 1
}