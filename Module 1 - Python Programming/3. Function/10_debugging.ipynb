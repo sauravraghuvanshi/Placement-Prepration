{
 "cells": [
  {
   "cell_type": "markdown",
   "source": [
    "# Debugging"
   ],
   "metadata": {
    "colab_type": "text",
    "collapsed": true,
    "id": "3d0kT43Hs9Hb"
   }
  },
  {
   "cell_type": "markdown",
   "source": [
    "**pdb** implements an interactive debugging environment for Python programs. It includes features to let you pause your program, look at the values of variables, and watch program execution step-by-step, so you can understand what your program actually does and find bugs in the logic."
   ],
   "metadata": {
    "colab_type": "text",
    "id": "dNQnVsqAs9Hd"
   }
  },
  {
   "cell_type": "markdown",
   "source": [
    "# Starting the Debugger"
   ],
   "metadata": {
    "colab_type": "text",
    "id": "AqsZUm-9s9Hd"
   }
  },
  {
   "cell_type": "markdown",
   "source": [
    "**From the Command Line**"
   ],
   "metadata": {
    "colab_type": "text",
    "id": "hwglejl-s9He"
   }
  },
  {
   "cell_type": "code",
   "execution_count": null,
   "source": [
    "def seq(n):\r\n",
    "    for i in range(n):\r\n",
    "        print(i)\r\n",
    "    return\r\n",
    "\r\n",
    "seq(5)"
   ],
   "outputs": [
    {
     "output_type": "stream",
     "name": "stdout",
     "text": [
      "0\n",
      "1\n",
      "2\n",
      "3\n",
      "4\n"
     ]
    }
   ],
   "metadata": {
    "colab": {},
    "colab_type": "code",
    "id": "Gboz0XI7s9Hf",
    "outputId": "1970adaa-6d55-4f0c-da26-99bdb2375f25"
   }
  },
  {
   "cell_type": "markdown",
   "source": [
    "**From Within Your Program**"
   ],
   "metadata": {
    "colab_type": "text",
    "id": "xU9U-jBns9Hm"
   }
  },
  {
   "cell_type": "code",
   "execution_count": 1,
   "source": [
    "import pdb\r\n",
    "\r\n",
    "#interactive debugging\r\n",
    "def seq(n):\r\n",
    "    for i in range(n):\r\n",
    "        pdb.set_trace() # breakpoint\r\n",
    "        print(i)\r\n",
    "    return\r\n",
    "\r\n",
    "seq(5)\r\n",
    "\r\n",
    "\r\n",
    "# c : continue\r\n",
    "# q: quit\r\n",
    "# h: help\r\n",
    "# list\r\n",
    "# p: print\r\n",
    "# p locals()\r\n",
    "# p globals()\r\n",
    "\r\n"
   ],
   "outputs": [
    {
     "output_type": "stream",
     "name": "stdout",
     "text": [
      "> <ipython-input-1-f5932230ad26>(7)seq()\n",
      "-> print(i)\n",
      "0\n",
      "> <ipython-input-1-f5932230ad26>(6)seq()\n",
      "-> pdb.set_trace() # breakpoint\n",
      "1\n",
      "> <ipython-input-1-f5932230ad26>(7)seq()\n",
      "-> print(i)\n",
      "2\n",
      "> <ipython-input-1-f5932230ad26>(6)seq()\n",
      "-> pdb.set_trace() # breakpoint\n",
      "3\n",
      "> <ipython-input-1-f5932230ad26>(7)seq()\n",
      "-> print(i)\n",
      "4\n"
     ]
    }
   ],
   "metadata": {
    "colab": {},
    "colab_type": "code",
    "id": "5fk77hhTs9Hn",
    "outputId": "a881f904-559c-4abb-f9a7-917d514daded"
   }
  },
  {
   "cell_type": "markdown",
   "source": [
    "# Debugger Commands"
   ],
   "metadata": {
    "colab_type": "text",
    "id": "0Q1leNPjs9Hr"
   }
  },
  {
   "cell_type": "markdown",
   "source": [
    "**1. h(elp) [command]**\n"
   ],
   "metadata": {
    "colab_type": "text",
    "id": "DZ0TVZL2s9Hs"
   }
  },
  {
   "cell_type": "markdown",
   "source": [
    "Without argument, print the list of available commands. With a command as argument, print help about that command. help pdb displays the full documentation (the docstring of the pdb module). Since the command argument must be an identifier, help exec must be entered to get help on the ! command."
   ],
   "metadata": {
    "colab_type": "text",
    "id": "qABjXc5Ls9Hu"
   }
  },
  {
   "cell_type": "markdown",
   "source": [
    "**2. w(here)**\n",
    "\n",
    "Print a stack trace, with the most recent frame at the bottom. An arrow indicates the current frame, which determines the context of most commands."
   ],
   "metadata": {
    "colab_type": "text",
    "id": "TeMND8Ens9Hu"
   }
  },
  {
   "cell_type": "markdown",
   "source": [
    "**3. d(own) [count]**\n",
    "\n",
    "Move the current frame count (default one) levels down in the stack trace (to a newer frame)."
   ],
   "metadata": {
    "colab_type": "text",
    "id": "CYBndzsMs9Hv"
   }
  },
  {
   "cell_type": "markdown",
   "source": [
    "**4.c(ont(inue))**\n",
    "\n",
    "Continue execution, only stop when a breakpoint is encountered."
   ],
   "metadata": {
    "colab_type": "text",
    "id": "iaImF2V0s9Hw"
   }
  },
  {
   "cell_type": "markdown",
   "source": [
    "**5. q(uit)**\n",
    "\n",
    "Quit from the debugger. The program being executed is aborted."
   ],
   "metadata": {
    "colab_type": "text",
    "id": "AnWZRE-Js9Hx"
   }
  },
  {
   "cell_type": "markdown",
   "source": [
    "**Termial/Command prompt based debugging**"
   ],
   "metadata": {
    "colab_type": "text",
    "id": "wZs41FKTs9Hy"
   }
  },
  {
   "cell_type": "code",
   "execution_count": null,
   "source": [],
   "outputs": [],
   "metadata": {
    "colab": {},
    "colab_type": "code",
    "id": "2UmazrO5s9Hz"
   }
  }
 ],
 "metadata": {
  "colab": {
   "name": "debugging.ipynb",
   "provenance": [],
   "version": "0.3.2"
  },
  "kernelspec": {
   "name": "python3",
   "display_name": "Python 3.7.4 64-bit ('base': conda)"
  },
  "language_info": {
   "codemirror_mode": {
    "name": "ipython",
    "version": 3
   },
   "file_extension": ".py",
   "mimetype": "text/x-python",
   "name": "python",
   "nbconvert_exporter": "python",
   "pygments_lexer": "ipython3",
   "version": "3.7.4"
  },
  "interpreter": {
   "hash": "6aa4e563fcc316e4a45c191851d226024341c22e5279c609c01fb0b2d94cafc4"
  }
 },
 "nbformat": 4,
 "nbformat_minor": 1
}